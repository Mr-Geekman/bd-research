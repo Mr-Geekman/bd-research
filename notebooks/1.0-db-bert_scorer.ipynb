{
 "cells": [
  {
   "cell_type": "markdown",
   "metadata": {},
   "source": [
    "# BERTScorer"
   ]
  },
  {
   "cell_type": "markdown",
   "metadata": {},
   "source": [
    "В этом ноутбуке будут рассмотрены примеры использования BERTScorer, который должен выдавать очки различным кандидатам."
   ]
  },
  {
   "cell_type": "code",
   "execution_count": 1,
   "metadata": {
    "ExecuteTime": {
     "end_time": "2020-09-21T11:55:02.624341Z",
     "start_time": "2020-09-21T11:55:02.598137Z"
    }
   },
   "outputs": [],
   "source": [
    "%load_ext autoreload"
   ]
  },
  {
   "cell_type": "code",
   "execution_count": 2,
   "metadata": {
    "ExecuteTime": {
     "end_time": "2020-09-21T11:55:03.939950Z",
     "start_time": "2020-09-21T11:55:02.626873Z"
    }
   },
   "outputs": [],
   "source": [
    "%autoreload 2\n",
    "import sys\n",
    "sys.path.append('..')\n",
    "\n",
    "import numpy as np\n",
    "from IPython.display import display\n",
    "\n",
    "from transformers import BertForMaskedLM, BertTokenizer\n",
    "\n",
    "from src.models.BERTScorer import bert_scorer"
   ]
  },
  {
   "cell_type": "markdown",
   "metadata": {},
   "source": [
    "Загрузим модель и токенайзер."
   ]
  },
  {
   "cell_type": "code",
   "execution_count": 3,
   "metadata": {
    "ExecuteTime": {
     "end_time": "2020-09-21T11:55:12.047089Z",
     "start_time": "2020-09-21T11:55:03.943682Z"
    }
   },
   "outputs": [
    {
     "name": "stderr",
     "output_type": "stream",
     "text": [
      "Some weights of the model checkpoint at bert-base-uncased were not used when initializing BertForMaskedLM: ['cls.seq_relationship.weight', 'cls.seq_relationship.bias']\n",
      "- This IS expected if you are initializing BertForMaskedLM from the checkpoint of a model trained on another task or with another architecture (e.g. initializing a BertForSequenceClassification model from a BertForPretraining model).\n",
      "- This IS NOT expected if you are initializing BertForMaskedLM from the checkpoint of a model that you expect to be exactly identical (initializing a BertForSequenceClassification model from a BertForSequenceClassification model).\n",
      "Some weights of BertForMaskedLM were not initialized from the model checkpoint at bert-base-uncased and are newly initialized: ['cls.predictions.decoder.bias']\n",
      "You should probably TRAIN this model on a down-stream task to be able to use it for predictions and inference.\n"
     ]
    }
   ],
   "source": [
    "model = BertForMaskedLM.from_pretrained('bert-base-uncased')\n",
    "tokenizer = BertTokenizer.from_pretrained('bert-base-uncased')"
   ]
  },
  {
   "cell_type": "markdown",
   "metadata": {},
   "source": [
    "Произведем инициализацию класса."
   ]
  },
  {
   "cell_type": "code",
   "execution_count": 4,
   "metadata": {
    "ExecuteTime": {
     "end_time": "2020-09-21T11:55:12.083204Z",
     "start_time": "2020-09-21T11:55:12.050195Z"
    }
   },
   "outputs": [],
   "source": [
    "scorer = bert_scorer.BERTScorer(model, tokenizer)"
   ]
  },
  {
   "cell_type": "markdown",
   "metadata": {},
   "source": [
    "Зададим пару предложений и кандидатов для скоринга."
   ]
  },
  {
   "cell_type": "code",
   "execution_count": 5,
   "metadata": {
    "ExecuteTime": {
     "end_time": "2020-09-21T11:55:12.134194Z",
     "start_time": "2020-09-21T11:55:12.086011Z"
    }
   },
   "outputs": [],
   "source": [
    "sentence_wrong = (\n",
    "    f'It is wrong sentence, there are '\n",
    "    f'two {tokenizer.mask_token} mask tokens: {tokenizer.mask_token}'\n",
    ")\n",
    "sentence = f'London is the {tokenizer.mask_token} of Great Britain'\n",
    "candidates = ['city', 'capital', 'human', 'think', 'asdf']"
   ]
  },
  {
   "cell_type": "markdown",
   "metadata": {},
   "source": [
    "Протестируем некорректное предложение."
   ]
  },
  {
   "cell_type": "code",
   "execution_count": 6,
   "metadata": {
    "ExecuteTime": {
     "end_time": "2020-09-21T11:55:12.184541Z",
     "start_time": "2020-09-21T11:55:12.137392Z"
    }
   },
   "outputs": [
    {
     "name": "stdout",
     "output_type": "stream",
     "text": [
      "Where should be exactly one [MASK] token in a sentence.\n"
     ]
    }
   ],
   "source": [
    "try:\n",
    "    scorer(sentence_wrong, [])\n",
    "except ValueError as e:\n",
    "    print(e)"
   ]
  },
  {
   "cell_type": "markdown",
   "metadata": {},
   "source": [
    "Протестируем корректное предложение."
   ]
  },
  {
   "cell_type": "code",
   "execution_count": 7,
   "metadata": {
    "ExecuteTime": {
     "end_time": "2020-09-21T11:55:15.227914Z",
     "start_time": "2020-09-21T11:55:12.187811Z"
    }
   },
   "outputs": [
    {
     "name": "stdout",
     "output_type": "stream",
     "text": [
      "Function: mean\n"
     ]
    },
    {
     "data": {
      "text/plain": [
       "{'city': -7.414884567260742,\n",
       " 'capital': -8.707372665405273,\n",
       " 'human': -9.257110595703125,\n",
       " 'think': -8.56279182434082,\n",
       " 'asdf': -11.57838773727417}"
      ]
     },
     "metadata": {},
     "output_type": "display_data"
    },
    {
     "name": "stdout",
     "output_type": "stream",
     "text": [
      "Function: sum\n"
     ]
    },
    {
     "data": {
      "text/plain": [
       "{'city': -7.414884567260742,\n",
       " 'capital': -8.707372665405273,\n",
       " 'human': -9.257110595703125,\n",
       " 'think': -8.56279182434082,\n",
       " 'asdf': -23.15677547454834}"
      ]
     },
     "metadata": {},
     "output_type": "display_data"
    },
    {
     "name": "stdout",
     "output_type": "stream",
     "text": [
      "Function: min\n"
     ]
    },
    {
     "data": {
      "text/plain": [
       "{'city': -7.414884567260742,\n",
       " 'capital': -8.707372665405273,\n",
       " 'human': -9.257110595703125,\n",
       " 'think': -8.56279182434082,\n",
       " 'asdf': -17.020278930664062}"
      ]
     },
     "metadata": {},
     "output_type": "display_data"
    },
    {
     "name": "stdout",
     "output_type": "stream",
     "text": [
      "Function: max\n"
     ]
    },
    {
     "data": {
      "text/plain": [
       "{'city': -7.414884567260742,\n",
       " 'capital': -8.707372665405273,\n",
       " 'human': -9.257110595703125,\n",
       " 'think': -8.56279182434082,\n",
       " 'asdf': -6.136496543884277}"
      ]
     },
     "metadata": {},
     "output_type": "display_data"
    }
   ],
   "source": [
    "functions = {'mean': np.mean, 'sum': np.sum, 'min': np.min, 'max': np.max}\n",
    "for func_name, func in functions.items():\n",
    "    print(f'Function: {func_name}')\n",
    "    display(scorer(sentence, candidates, agg_func=func))"
   ]
  },
  {
   "cell_type": "markdown",
   "metadata": {},
   "source": [
    "В целом результат функций `mean`, `sum` выглядит разумно за исключением слишком высокой оценки для токена `think`. Он не подходит на это место, но его результат почему-то все равно высокий."
   ]
  }
 ],
 "metadata": {
  "kernelspec": {
   "display_name": "Python 3",
   "language": "python",
   "name": "python3"
  },
  "language_info": {
   "codemirror_mode": {
    "name": "ipython",
    "version": 3
   },
   "file_extension": ".py",
   "mimetype": "text/x-python",
   "name": "python",
   "nbconvert_exporter": "python",
   "pygments_lexer": "ipython3",
   "version": "3.7.9"
  }
 },
 "nbformat": 4,
 "nbformat_minor": 4
}
