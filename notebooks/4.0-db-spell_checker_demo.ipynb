{
 "cells": [
  {
   "cell_type": "markdown",
   "metadata": {},
   "source": [
    "# Демонстрация Spell Checker\n",
    "\n",
    "В этом ноутбуке будет произведена демонстрация написанной модели на примере нескольких предложений."
   ]
  },
  {
   "cell_type": "code",
   "execution_count": 1,
   "metadata": {
    "ExecuteTime": {
     "end_time": "2021-01-16T21:24:22.401302Z",
     "start_time": "2021-01-16T21:24:22.381797Z"
    }
   },
   "outputs": [],
   "source": [
    "%load_ext autoreload\n",
    "%autoreload 2"
   ]
  },
  {
   "cell_type": "code",
   "execution_count": 2,
   "metadata": {
    "ExecuteTime": {
     "end_time": "2021-01-16T21:24:25.520783Z",
     "start_time": "2021-01-16T21:24:22.404678Z"
    }
   },
   "outputs": [
    {
     "name": "stderr",
     "output_type": "stream",
     "text": [
      "[nltk_data] Downloading package punkt to /home/mrgeekman/nltk_data...\n",
      "[nltk_data]   Package punkt is already up-to-date!\n",
      "[nltk_data] Downloading package stopwords to\n",
      "[nltk_data]     /home/mrgeekman/nltk_data...\n",
      "[nltk_data]   Package stopwords is already up-to-date!\n",
      "[nltk_data] Downloading package perluniprops to\n",
      "[nltk_data]     /home/mrgeekman/nltk_data...\n",
      "[nltk_data]   Package perluniprops is already up-to-date!\n",
      "[nltk_data] Downloading package nonbreaking_prefixes to\n",
      "[nltk_data]     /home/mrgeekman/nltk_data...\n",
      "[nltk_data]   Package nonbreaking_prefixes is already up-to-date!\n"
     ]
    }
   ],
   "source": [
    "import gc\n",
    "import sys\n",
    "import os\n",
    "import re\n",
    "from string import punctuation\n",
    "sys.path.append('..')\n",
    "\n",
    "import dotenv\n",
    "import numpy as np\n",
    "import pandas as pd\n",
    "from transformers import BertForMaskedLM, BertTokenizer, BertConfig\n",
    "\n",
    "from deeppavlov.models.spelling_correction.levenshtein import (\n",
    "    LevenshteinSearcherComponent\n",
    ")\n",
    "from deeppavlov.core.data.simple_vocab import SimpleVocabulary\n",
    "\n",
    "import kenlm\n",
    "from sacremoses import MosesTokenizer, MosesDetokenizer, MosesPunctNormalizer\n",
    "\n",
    "from src.models.SpellChecker import *\n",
    "from src.models.BertScorer.bert_scorer_correction import (\n",
    "    BertScorerCorrection\n",
    ")\n",
    "\n",
    "from IPython.display import display\n",
    "from tqdm.notebook import tqdm"
   ]
  },
  {
   "cell_type": "code",
   "execution_count": 3,
   "metadata": {
    "ExecuteTime": {
     "end_time": "2021-01-16T21:24:25.561145Z",
     "start_time": "2021-01-16T21:24:25.523539Z"
    }
   },
   "outputs": [],
   "source": [
    "PROJECT_PATH = os.path.join(os.path.abspath(''), os.pardir)\n",
    "CONFIGS_PATH = os.path.join(PROJECT_PATH, 'src', 'configs')\n",
    "os.environ['DP_PROJECT_PATH'] = PROJECT_PATH"
   ]
  },
  {
   "cell_type": "code",
   "execution_count": 4,
   "metadata": {
    "ExecuteTime": {
     "end_time": "2021-01-16T21:24:25.622373Z",
     "start_time": "2021-01-16T21:24:25.566560Z"
    }
   },
   "outputs": [],
   "source": [
    "DATA_PATH = os.path.join(PROJECT_PATH, 'data')\n",
    "MODEL_PATH = os.path.join(PROJECT_PATH, 'models')"
   ]
  },
  {
   "cell_type": "markdown",
   "metadata": {},
   "source": [
    "## Инициализация"
   ]
  },
  {
   "cell_type": "markdown",
   "metadata": {},
   "source": [
    "Начнем с того, что инициализируем все необходимые компоненты модели. Параллельно так же будет описана роль каждого компонента в системе."
   ]
  },
  {
   "cell_type": "markdown",
   "metadata": {},
   "source": [
    "### Tokenizer/Detokenizer"
   ]
  },
  {
   "cell_type": "markdown",
   "metadata": {},
   "source": [
    "Этот компонент отвечает за токенизаци/детокенизацию исходного предложения. В качестве основы было решено взять токенизатор из библиотеки [sacremoses](https://github.com/alvations/sacremoses).\n",
    "\n",
    "Опция `escape=False` установлена для корректной работы удаления пунктуации, иначе, например, пунктуационный символ `\"` заменяется на `&quot;` и его не удается отследить."
   ]
  },
  {
   "cell_type": "code",
   "execution_count": 5,
   "metadata": {
    "ExecuteTime": {
     "end_time": "2021-01-16T21:24:25.668315Z",
     "start_time": "2021-01-16T21:24:25.625296Z"
    }
   },
   "outputs": [],
   "source": [
    "raw_tokenizer = MosesTokenizer(lang='ru')\n",
    "raw_detokenizer = MosesDetokenizer(lang='ru')\n",
    "tokenizer = lambda x: raw_tokenizer.tokenize(x, escape=False)\n",
    "detokenizer = lambda x: raw_detokenizer.detokenize(x)"
   ]
  },
  {
   "cell_type": "markdown",
   "metadata": {},
   "source": [
    "### Candidate Generator"
   ]
  },
  {
   "cell_type": "markdown",
   "metadata": {},
   "source": [
    "Этот компонент отвечает за то, чтобы генерировать кандидатов для каждой позиции токенизированного предложения. \n",
    "\n",
    "На данный момент берутся слова из словаря на заданном расстоянии Дамерау-Левенштейна от исходного токена. Иногда эти слова еще разбиваются пробелами.\n",
    "\n",
    "В качестве словаря был взят [этот](https://github.com/danakt/russian-words/)."
   ]
  },
  {
   "cell_type": "code",
   "execution_count": 6,
   "metadata": {
    "ExecuteTime": {
     "end_time": "2021-01-16T21:27:04.575441Z",
     "start_time": "2021-01-16T21:24:25.671151Z"
    }
   },
   "outputs": [
    {
     "name": "stderr",
     "output_type": "stream",
     "text": [
      "2021-01-17 00:24:25.707 INFO in 'deeppavlov.core.data.simple_vocab'['simple_vocab'] at line 115: [loading vocabulary from /home/mrgeekman/Documents/MIPT/НИР/Repo/data/external/russian_words/russian_words_vocab.dict]\n"
     ]
    }
   ],
   "source": [
    "vocab_path = os.path.join(DATA_PATH, 'external', 'russian_words', \n",
    "                          'russian_words_vocab.dict')\n",
    "vocab = SimpleVocabulary(load_path=vocab_path, save_path=vocab_path)\n",
    "levenshtein_searcher_component = LevenshteinSearcherComponent(\n",
    "    words=vocab.keys(), max_distance=1\n",
    ")\n",
    "candidate_generator = LevenshteinCandidateGenerator(\n",
    "    levenshtein_searcher_component\n",
    ")"
   ]
  },
  {
   "cell_type": "markdown",
   "metadata": {},
   "source": [
    "### Position Selector"
   ]
  },
  {
   "cell_type": "markdown",
   "metadata": {},
   "source": [
    "Этот компонент отвечает за нахождение оптимальной позиции для замены и предварительный выбор кандидатов для этой позиции.\n",
    "\n",
    "На данный момент берутся две языковые модели: слева-направо и справа-налево, которые работают с текстом без пунктуации. Для каждой позиции по просматривается весь список кандидатов при использовании левого и правого контекстов и подсчитывается log-prob. Если токен состоит из нескольких подтокенов (например, если в слове есть пробел), то скор суммируется.\n",
    "\n",
    "Так как для каждого кандидата имеется два log-prob их результат аггрегируется в некий более удобный положительный скор. На данный момент от каждого log-prob берется функция $-1/x$ и от их результата считается среднее гармоническое.\n",
    "\n",
    "Так же мы знаем какой из кандидатов в каждой позиции соответствует изначальному токену (он обязательно там есть) и скор каждого кандидата с ним сравнивается.\n",
    "\n",
    "Выбранная позиция для изменения -- та, у которой наибольшее отношение максимального скора к скору текущего токена. На основе этого отношени так же отбирается предварительный список кандидатов."
   ]
  },
  {
   "cell_type": "code",
   "execution_count": 7,
   "metadata": {
    "ExecuteTime": {
     "end_time": "2021-01-16T21:27:39.713960Z",
     "start_time": "2021-01-16T21:27:04.578038Z"
    }
   },
   "outputs": [],
   "source": [
    "model_left_right = kenlm.LanguageModel(\n",
    "    os.path.join(MODEL_PATH, 'kenlm', 'left_right.arpa.binary')\n",
    ")\n",
    "model_right_left = kenlm.LanguageModel(\n",
    "    os.path.join(MODEL_PATH, 'kenlm', 'right_left.arpa.binary')\n",
    ")\n",
    "position_selector = KenlmPositionSelector(model_left_right, model_right_left)"
   ]
  },
  {
   "cell_type": "markdown",
   "metadata": {},
   "source": [
    "### Candidate Scorer"
   ]
  },
  {
   "cell_type": "markdown",
   "metadata": {},
   "source": [
    "Этот компонент отвечает за выбор наилучшего кандидата из списка предложенных position selector.\n",
    "\n",
    "На данный момент берется модель [Conversational RuBERT](http://docs.deeppavlov.ai/en/master/features/models/bert.html). В первую очередь токенизируется (WordPiece) исходное предложение с MASK-токеном на месте замяемого токена. Хочется просто запустить Masked Language Modeling и попробовать поподставлять кандидатов вместо MASK, но проблема в том, что некоторые кандидаты состоят из более, чем одного токена. В таком случае мы токенизируем всех кандидатов и пытаемся двигать MASK-токен по каждой позиции внутри него, делая другие позиции UNK-токеном и отключая для них attention (не обязательно ставить UNK-токен, это было сделано для удобства). Для аггрегации log-prob скоров внутри одного кандидата берется сумма. По аналогии с position selector к итоговому скору кандидата применяется $-1/x$.\n",
    "\n",
    "В результате отбиратеся кандидат с наилучшим скором."
   ]
  },
  {
   "cell_type": "code",
   "execution_count": 8,
   "metadata": {
    "ExecuteTime": {
     "end_time": "2021-01-16T21:28:00.203618Z",
     "start_time": "2021-01-16T21:27:39.743757Z"
    }
   },
   "outputs": [
    {
     "name": "stderr",
     "output_type": "stream",
     "text": [
      "Some weights of the model checkpoint at /home/mrgeekman/Documents/MIPT/НИР/Repo/notebooks/../models/conversational_rubert/pytorch_model.bin were not used when initializing BertForMaskedLM: ['cls.seq_relationship.weight', 'cls.seq_relationship.bias']\n",
      "- This IS expected if you are initializing BertForMaskedLM from the checkpoint of a model trained on another task or with another architecture (e.g. initializing a BertForSequenceClassification model from a BertForPretraining model).\n",
      "- This IS NOT expected if you are initializing BertForMaskedLM from the checkpoint of a model that you expect to be exactly identical (initializing a BertForSequenceClassification model from a BertForSequenceClassification model).\n",
      "Some weights of BertForMaskedLM were not initialized from the model checkpoint at /home/mrgeekman/Documents/MIPT/НИР/Repo/notebooks/../models/conversational_rubert/pytorch_model.bin and are newly initialized: ['cls.predictions.decoder.bias']\n",
      "You should probably TRAIN this model on a down-stream task to be able to use it for predictions and inference.\n"
     ]
    }
   ],
   "source": [
    "BERT_PATH = os.path.join(MODEL_PATH, 'conversational_rubert')\n",
    "config = BertConfig.from_json_file(\n",
    "    os.path.join(BERT_PATH, 'bert_config.json')\n",
    ")\n",
    "model = BertForMaskedLM.from_pretrained(\n",
    "    os.path.join(BERT_PATH, 'pytorch_model.bin'),\n",
    "    config=config\n",
    ")\n",
    "bert_tokenizer = BertTokenizer(os.path.join(BERT_PATH, 'vocab.txt'))\n",
    "scorer_basis = BertScorerCorrection(model, bert_tokenizer)\n",
    "candidate_scorer = BertCandidateScorer(scorer_basis)"
   ]
  },
  {
   "cell_type": "markdown",
   "metadata": {},
   "source": [
    "### Stopping Criteria"
   ]
  },
  {
   "cell_type": "markdown",
   "metadata": {},
   "source": [
    "Этот компонент отвечает за остановку итераций исправления.\n",
    "\n",
    "На данный момент берутся скор текущего токена и лучший скор, полученный при помощи BERT. На основе их отношения решается делать следующую итерацию или нет.\n",
    "\n",
    "Если отношение превышает некую константу, то мы продолжаем, иначе останавливаемся."
   ]
  },
  {
   "cell_type": "code",
   "execution_count": 9,
   "metadata": {
    "ExecuteTime": {
     "end_time": "2021-01-16T21:28:00.263124Z",
     "start_time": "2021-01-16T21:28:00.206400Z"
    }
   },
   "outputs": [],
   "source": [
    "margin_constant = 1.01\n",
    "stopping_criteria = MultiplicativeMarginStoppingCriteria(margin_constant)"
   ]
  },
  {
   "cell_type": "markdown",
   "metadata": {},
   "source": [
    "### Spell Checker"
   ]
  },
  {
   "cell_type": "markdown",
   "metadata": {},
   "source": [
    "Выше были описаны все компоненты модели. Итого, имеем этапы:\n",
    "1. Генерация кандидатов\n",
    "2. Итерации до тех пор, пока не сработает критерий останова или не исчерпается максимальное количество итераций\n",
    "    * Поиск лучшей позиции для исправления и отбор кандидатов для исправления\n",
    "    * Выбор лучшего исправления\n",
    "    * Исправление текущего предложения\n",
    "    * Проверка критерия останова"
   ]
  },
  {
   "cell_type": "code",
   "execution_count": 10,
   "metadata": {
    "ExecuteTime": {
     "end_time": "2021-01-16T21:28:00.307870Z",
     "start_time": "2021-01-16T21:28:00.266095Z"
    }
   },
   "outputs": [],
   "source": [
    "# количество кандидатов, отбираемых position selector\n",
    "num_selected_candidates = 16\n",
    "# максимальное количество итераций\n",
    "max_it = 5\n",
    "\n",
    "spellchecker = IterativeSpellChecker(\n",
    "    candidate_generator,\n",
    "    position_selector,\n",
    "    candidate_scorer,\n",
    "    stopping_criteria,\n",
    "    tokenizer,\n",
    "    detokenizer,\n",
    "    num_selected_candidates,\n",
    "    max_it\n",
    ")"
   ]
  },
  {
   "cell_type": "markdown",
   "metadata": {},
   "source": [
    "## Демонстрация"
   ]
  },
  {
   "cell_type": "markdown",
   "metadata": {},
   "source": [
    "Возьмем 15 предложений из обучающей части датасета вместе с ответами и посмотрим на результаты."
   ]
  },
  {
   "cell_type": "code",
   "execution_count": 11,
   "metadata": {
    "ExecuteTime": {
     "end_time": "2021-01-16T21:28:00.369610Z",
     "start_time": "2021-01-16T21:28:00.310089Z"
    }
   },
   "outputs": [],
   "source": [
    "num_examples = 15\n",
    "\n",
    "with open(\n",
    "    os.path.join(DATA_PATH, 'external', 'spell_ru_eval', 'train_source.txt'), \n",
    "    'r'\n",
    ") as inf:\n",
    "    all_sentences = inf.readlines()\n",
    "    \n",
    "with open(\n",
    "    os.path.join(DATA_PATH, 'external', 'spell_ru_eval', \n",
    "                 'train_corrected.txt'), \n",
    "    'r'\n",
    ") as inf:\n",
    "    all_corrected_sentences = inf.readlines()"
   ]
  },
  {
   "cell_type": "code",
   "execution_count": 12,
   "metadata": {
    "ExecuteTime": {
     "end_time": "2021-01-16T21:28:00.425355Z",
     "start_time": "2021-01-16T21:28:00.372189Z"
    }
   },
   "outputs": [],
   "source": [
    "np.random.seed(17)\n",
    "num_sentences = len(all_sentences)\n",
    "all_indices = np.arange(num_sentences)\n",
    "np.random.shuffle(all_indices)\n",
    "indices = all_indices[:num_examples]\n",
    "\n",
    "examples = [all_sentences[idx].strip() for idx in indices]\n",
    "examples_true = [all_corrected_sentences[idx].strip() for idx in indices]"
   ]
  },
  {
   "cell_type": "markdown",
   "metadata": {},
   "source": [
    "Запустим наш spell checker."
   ]
  },
  {
   "cell_type": "code",
   "execution_count": 13,
   "metadata": {
    "ExecuteTime": {
     "end_time": "2021-01-16T21:28:39.736534Z",
     "start_time": "2021-01-16T21:28:00.428076Z"
    }
   },
   "outputs": [],
   "source": [
    "examples_corrected = spellchecker(examples)"
   ]
  },
  {
   "cell_type": "code",
   "execution_count": 14,
   "metadata": {
    "ExecuteTime": {
     "end_time": "2021-01-16T21:28:39.916130Z",
     "start_time": "2021-01-16T21:28:39.742276Z"
    }
   },
   "outputs": [
    {
     "name": "stdout",
     "output_type": "stream",
     "text": [
      "1\n",
      "Original:\tлюблю ужастики, но не смотрю теперь итак темноты боюсь, а если посмотрю потом ваще спать не могу )\n",
      "Corrected:\tлюблю ужастики но не смотрю теперь так темноты боюсь а если посмотрю потом ваще спать не могу\n",
      "True:\t\tлюблю ужастики но не смотрю теперь и так темноты боюсь а если посмотрю потом вообще спать не могу\n",
      "\n",
      "2\n",
      "Original:\tЭтот телевизионный коктейль смешан таким образом что с утра нам вдалбливают о проблемах со здоровьем, потом о проблемах на планете, а тут еще и свои запары вдобавок.\n",
      "Corrected:\tэтот телевизионный коктейль смешан таким образом что с утра нам вдалбливают о проблемах со здоровьем потом о проблемах на планете а тут еще и свои запары вдобавок\n",
      "True:\t\tЭтот телевизионный коктейль смешан таким образом что с утра нам вдалбливают о проблемах со здоровьем потом о проблемах на планете а тут еще и свои запары вдобавок\n",
      "\n",
      "3\n",
      "Original:\t\" Ты не видела, где мои носки?\n",
      "Corrected:\tты не видел где мои носки\n",
      "True:\t\tТы не видела где мои носки\n",
      "\n",
      "4\n",
      "Original:\tНо став старше, она осознала, что точность и четкость - ее все.\n",
      "Corrected:\tно став старше она осознала что точность и меткость не все\n",
      "True:\t\tНо став старше она осознала что точность и четкость ее все\n",
      "\n",
      "5\n",
      "Original:\tПользоваццо сервисом проще простогО!\n",
      "Corrected:\tпользова цо сервисом проще простого\n",
      "True:\t\tПользоваться сервисом проще простого\n",
      "\n",
      "6\n",
      "Original:\tПлавать на каяке в одиночку не рекомендуется.\n",
      "Corrected:\tплавать на каяке в одиночку не рекомендуется\n",
      "True:\t\tПлавать на каяке в одиночку не рекомендуется\n",
      "\n",
      "7\n",
      "Original:\tнекотрые ничево не соображали вообще с небольшой затратой време ни удалось доиграть...\n",
      "Corrected:\tнекоторые ничего не соображали вообще с небольшой затратой время не удалось поиграть\n",
      "True:\t\tнекоторые ничего не соображали вообще с небольшой затратой времени удалось доиграть\n",
      "\n",
      "8\n",
      "Original:\tОтвественный редактор издания, Юлия Потемкина, прислала мне потрясающий ролик про триатлон.\n",
      "Corrected:\tответственный редактор издания юлия потемкина прислала мне потрясающий ролик про триатлон\n",
      "True:\t\tОтветственный редактор издания Юлия Потемкина прислала мне потрясающий ролик про триатлон\n",
      "\n",
      "9\n",
      "Original:\tНа следующей неделе в четверг 11.08.11 вечером собираюсь в Магнитогоск своим ходом.\n",
      "Corrected:\tна следующей неделе в четверг 11.08.11 вечером собираюсь в магнитогорск своим ходом\n",
      "True:\t\tНа следующей неделе в четверг 11.08.11 вечером собираюсь в Магнитогоск своим ходом\n",
      "\n",
      "10\n",
      "Original:\tХотя странно, когда я забирала к себе на выходные старого кота, который живет у родителей, да и собаку в придачу, то такого концерта мой кот не устраивал.\n",
      "Corrected:\tхотя странно когда я забирала к себе на выходные старого кота который живет у родителей да и собаку в придачу то такого концерта мой кот не устраивал\n",
      "True:\t\tХотя странно когда я забирала к себе на выходные старого кота который живет у родителей да и собаку в придачу то такого концерта мой кот не устраивал\n",
      "\n",
      "11\n",
      "Original:\tа я в метро без книжек не умею.\n",
      "Corrected:\tа я в метро без книжек не умею\n",
      "True:\t\tа я в метро без книжек не умею\n",
      "\n",
      "12\n",
      "Original:\tи наверное хороше, что я там был один...\n",
      "Corrected:\tи наверное хорошо что я там был один\n",
      "True:\t\tи наверное хорошо что я там был один\n",
      "\n",
      "13\n",
      "Original:\tтебе можно и нужно его продавать!!!\n",
      "Corrected:\tтебе можно и нужно его продавать\n",
      "True:\t\tтебе можно и нужно его продавать\n",
      "\n",
      "14\n",
      "Original:\tДети растут ооочень быстро, на прошлой фотке она совсем младенчиком была )\n",
      "Corrected:\tдети растут ооочень быстро на прошлой фотке она совсем младенчиком была\n",
      "True:\t\tДети растут очень быстро на прошлой фотке она совсем младенчиком была\n",
      "\n",
      "15\n",
      "Original:\tэто вобщем жуткий курс о особеностях развития психики детей и взрослых в условиях \" стесненного \" или нарушенного функционирования организма.\n",
      "Corrected:\tэто вобщем жуткий курс об особенностях развития психики детей и взрослых в условиях стесненного или нарушенного функционирования организма\n",
      "True:\t\tэто в общем жуткий курс об особенностях развития психики детей и взрослых в условиях стесненного или нарушенного функционирования организма\n",
      "\n"
     ]
    }
   ],
   "source": [
    "for i in range(num_examples):\n",
    "    print(i+1)\n",
    "    print(f'Original:\\t{examples[i]}')\n",
    "    print(f'Corrected:\\t{examples_corrected[i]}')\n",
    "    print(f'True:\\t\\t{examples_true[i]}')\n",
    "    print()"
   ]
  },
  {
   "cell_type": "markdown",
   "metadata": {},
   "source": [
    "Разберем каждый пример по-отдельности и проанализируем ошибки:\n",
    "1. $-$ \n",
    "    * Некорректно исправлено \"итак\" на \"так\" вместо \"и так\". Кандидат \"и так\" был в списке и он состоял из двух токенов. Вариант \"так\" имел скор $-5.31$, а \"и так\" $[-5.27, -3.77]$. Сейчас берется сумма от скоров. Если было бы среднее, то победил бы вариант \"и так\". Имеет смысл поэкспериментировать с аггрегирующей функцией. \n",
    "2. $+$\n",
    "    * Нет ошибок, нет исправлений.\n",
    "3. $-$ \n",
    "    * Без нужды исправлено \"видела\" на \"видел\".\n",
    "4. $-$\n",
    "    * Без нужды исправлено \"четкость\" на \"меткость\".\n",
    "    * Без нужды исправлено \"не\" на \"ее\".\n",
    "5. $-$\n",
    "    * Некорректно исправлено \"пользоваццо\" на \"пользова цо\" вместо \"пользоваться\". Большая разница в расстоянии Дамерау-Левенштейна.\n",
    "6. $+$\n",
    "    * Нет ошибок, нет исправлений.\n",
    "7. $\\pm$\n",
    "    * Корректно исправлено \"некотрые\" на \"некоторые\".\n",
    "    * Корректно исправлено \"ничево\" на \"ничего\".\n",
    "    * Некорректно исправлено \"време\" на \"время\" вместо \"времени\". Большая разница в расстоянии Дамерау-Левенштейна.\n",
    "    * Без нужды исправлено \"доиграть\" на \"поиграть\".\n",
    "8. $+$\n",
    "    * Корректно исправлено \"отвественный\" на \"ответственный\"\n",
    "9. $-$\n",
    "    * Некорректно исправлено \"Магнитогоск\" на \"магнитогорск\". (Я не нашел информацию про то есть ли город Магнитогоск, поэтому, возможно, ошибка в оригинальном датасете.\n",
    "10. $+$\n",
    "    * Нет ошибок, нет исправлений.\n",
    "11. $+$\n",
    "    * Нет ошибок, нет исправлений.\n",
    "12. $+$\n",
    "    * Нет ошибок, нет исправлений.\n",
    "13. $+$\n",
    "    * Нет ошибок, нет исправлений.\n",
    "14. $-$\n",
    "    * Не исправлено \"ооочень\" на \"очень\". Большая разница в расстоянии Дамерау-Левенштейна.\n",
    "15. $\\pm$\n",
    "    * Не исправлено \"вобщем\" на \"в общем\". Слово \"вобщем\" в письменной речи не употребляется. Вариант \"вобщем\" имел скор $-9.97$, а \"в общем\" $[-9.83, -6.40]$. Сейчас берется сумма от скоров. Если было бы среднее, то победил бы вариант \"в общем\". Имеет смысл поэкспериментировать с аггрегирующей функцией. \n",
    "    * Корректно исправлено \"о\" на \"об\".\n",
    "    * Корректно исправлено \"особеностях\" на \"особенностях\"."
   ]
  },
  {
   "cell_type": "markdown",
   "metadata": {},
   "source": [
    "## Выводы\n",
    "\n",
    "1. Продемонстрирована работа модели.\n",
    "2. Обнаружено, что модель часто исправляет там, где исправлять не нужно. Требуется механизм для контроля такого поведения.\n",
    "3. Обнаружена возможная ошибка в датасете в предложении 686 про Магнитогоск.\n",
    "4. Обнаружен потенциальный класс ошибок при окончании на \"ццо\" вместо \"ться\".\n",
    "5. Обнаружен потенциальный класс ошибок с растягиванием гласной, например, \"ооочень\" вместо \"очень\".\n",
    "6. Требуется поэкспериментировать с аггрегирующей функцией для кандидатов, состоящих из нескольких WordPiece-токенов.\n",
    "7. Требуется поэкспериментировать над максимальным обрабатываемым расстоянием Дамера-Левенштейна."
   ]
  }
 ],
 "metadata": {
  "kernelspec": {
   "display_name": "Python 3",
   "language": "python",
   "name": "python3"
  },
  "language_info": {
   "codemirror_mode": {
    "name": "ipython",
    "version": 3
   },
   "file_extension": ".py",
   "mimetype": "text/x-python",
   "name": "python",
   "nbconvert_exporter": "python",
   "pygments_lexer": "ipython3",
   "version": "3.7.9"
  }
 },
 "nbformat": 4,
 "nbformat_minor": 4
}
