{
 "cells": [
  {
   "cell_type": "markdown",
   "metadata": {},
   "source": [
    "# Тестирование Spell Checker с использованием дополнительных признаков\n",
    "\n",
    "В этом ноутбуке будет произведено тестирование модели, в которой в candidate scorer используются модели на основе множества признаков помимо BERT."
   ]
  },
  {
   "cell_type": "code",
   "execution_count": null,
   "metadata": {
    "ExecuteTime": {
     "end_time": "2021-02-28T17:19:24.019029Z",
     "start_time": "2021-02-28T17:19:23.975765Z"
    }
   },
   "outputs": [],
   "source": [
    "%load_ext autoreload\n",
    "%autoreload 2"
   ]
  },
  {
   "cell_type": "code",
   "execution_count": null,
   "metadata": {
    "ExecuteTime": {
     "end_time": "2021-02-28T17:19:27.067549Z",
     "start_time": "2021-02-28T17:19:24.902365Z"
    }
   },
   "outputs": [],
   "source": [
    "import gc\n",
    "import sys\n",
    "import os\n",
    "import json\n",
    "import pickle\n",
    "import re\n",
    "from string import punctuation\n",
    "sys.path.append('..')\n",
    "\n",
    "import dotenv\n",
    "import numpy as np\n",
    "import pandas as pd\n",
    "from transformers import BertForMaskedLM, BertTokenizer, BertConfig\n",
    "\n",
    "from deeppavlov.core.data.simple_vocab import SimpleVocabulary\n",
    "\n",
    "import kenlm\n",
    "from sacremoses import MosesTokenizer, MosesDetokenizer\n",
    "\n",
    "from src.models.SpellChecker import *\n",
    "from src.models.BertScorer.bert_scorer_correction import (\n",
    "    BertScorerCorrection\n",
    ")\n",
    "\n",
    "from sklearn.svm import LinearSVC\n",
    "\n",
    "from IPython.display import display\n",
    "from tqdm.notebook import tqdm"
   ]
  },
  {
   "cell_type": "code",
   "execution_count": null,
   "metadata": {
    "ExecuteTime": {
     "end_time": "2021-02-28T17:19:27.105537Z",
     "start_time": "2021-02-28T17:19:27.071047Z"
    }
   },
   "outputs": [],
   "source": [
    "PROJECT_PATH = os.path.join(os.path.abspath(''), os.pardir)\n",
    "DATA_PATH = os.path.join(PROJECT_PATH, 'data')\n",
    "MODEL_PATH = os.path.join(PROJECT_PATH, 'models')"
   ]
  },
  {
   "cell_type": "markdown",
   "metadata": {},
   "source": [
    "## Инициализация"
   ]
  },
  {
   "cell_type": "markdown",
   "metadata": {},
   "source": [
    "Начнем с того, что инициализируем все необходимые компоненты модели. Параллельно так же будет описана роль каждого компонента в системе."
   ]
  },
  {
   "cell_type": "code",
   "execution_count": null,
   "metadata": {
    "ExecuteTime": {
     "end_time": "2021-02-28T17:19:27.151514Z",
     "start_time": "2021-02-28T17:19:27.110696Z"
    }
   },
   "outputs": [],
   "source": [
    "raw_tokenizer = MosesTokenizer(lang='ru')\n",
    "raw_detokenizer = MosesDetokenizer(lang='ru')\n",
    "tokenizer = lambda x: raw_tokenizer.tokenize(x, escape=False)\n",
    "detokenizer = lambda x: raw_detokenizer.detokenize(x)"
   ]
  },
  {
   "cell_type": "code",
   "execution_count": null,
   "metadata": {
    "ExecuteTime": {
     "end_time": "2021-02-28T17:22:19.168818Z",
     "start_time": "2021-02-28T17:19:27.153430Z"
    }
   },
   "outputs": [],
   "source": [
    "vocab_path = os.path.join(DATA_PATH, 'external', 'russian_words', \n",
    "                          'russian_words_vocab.dict')\n",
    "vocab = SimpleVocabulary(load_path=vocab_path, save_path=vocab_path)\n",
    "handcode_table_path = os.path.join(DATA_PATH, 'processed', 'handcode_table', \n",
    "                                   'table.json')\n",
    "with open(handcode_table_path, 'r') as inf:\n",
    "    handcode_table = json.load(inf)\n",
    "candidate_generator = CandidateGenerator(\n",
    "    words=vocab.keys(), handcode_table=handcode_table, max_distance=1\n",
    ")"
   ]
  },
  {
   "cell_type": "code",
   "execution_count": null,
   "metadata": {
    "ExecuteTime": {
     "end_time": "2021-02-28T17:22:43.032102Z",
     "start_time": "2021-02-28T17:22:19.171915Z"
    }
   },
   "outputs": [],
   "source": [
    "model_left_right = kenlm.LanguageModel(\n",
    "    os.path.join(MODEL_PATH, 'kenlm', 'left_right_3_100.arpa.binary')\n",
    ")\n",
    "model_right_left = kenlm.LanguageModel(\n",
    "    os.path.join(MODEL_PATH, 'kenlm', 'right_left_3_100.arpa.binary')\n",
    ")\n",
    "margin_border = np.log(2.5)\n",
    "position_selector = KenlmMarginPositionSelector(\n",
    "    model_left_right, model_right_left, margin_border=margin_border\n",
    ")"
   ]
  },
  {
   "cell_type": "code",
   "execution_count": null,
   "metadata": {
    "ExecuteTime": {
     "end_time": "2021-02-28T17:23:00.425778Z",
     "start_time": "2021-02-28T17:22:43.051385Z"
    }
   },
   "outputs": [],
   "source": [
    "BERT_PATH = os.path.join(MODEL_PATH, 'conversational_rubert')\n",
    "config = BertConfig.from_json_file(\n",
    "    os.path.join(BERT_PATH, 'bert_config.json')\n",
    ")\n",
    "model = BertForMaskedLM.from_pretrained(\n",
    "    os.path.join(BERT_PATH, 'pytorch_model.bin'),\n",
    "    config=config\n",
    ")\n",
    "bert_tokenizer = BertTokenizer(os.path.join(BERT_PATH, 'vocab.txt'))\n",
    "bert_scorer_correction = BertScorerCorrection(model, bert_tokenizer)\n",
    "agg_subtoken_func = 'mean'\n",
    "bert_scorer = BertScorer(\n",
    "    bert_scorer_correction, agg_subtoken_func\n",
    ")\n",
    "\n",
    "with open(os.path.join(MODEL_PATH, 'candidate_scorer', 'svm.bin'), 'rb') as inf:\n",
    "    svm_model = pickle.load(inf)\n",
    "\n",
    "svm_scorer = SVMScorer(svm_model, bert_scorer=bert_scorer)\n",
    "candidate_scorer = CandidateScorer(svm_scorer)"
   ]
  },
  {
   "cell_type": "code",
   "execution_count": null,
   "metadata": {
    "ExecuteTime": {
     "end_time": "2021-02-28T17:23:00.480174Z",
     "start_time": "2021-02-28T17:23:00.431816Z"
    }
   },
   "outputs": [],
   "source": [
    "# максимальное количество итераций\n",
    "max_it = 5\n",
    "\n",
    "spellchecker = IterativeSpellChecker(\n",
    "    candidate_generator,\n",
    "    position_selector,\n",
    "    candidate_scorer,\n",
    "    tokenizer,\n",
    "    detokenizer,\n",
    "    ignore_titles=True,\n",
    "    max_it=max_it,\n",
    "    combine_tokens=False\n",
    ")"
   ]
  },
  {
   "cell_type": "markdown",
   "metadata": {},
   "source": [
    "## Тестирование"
   ]
  },
  {
   "cell_type": "markdown",
   "metadata": {},
   "source": [
    "### Обучающая выборка"
   ]
  },
  {
   "cell_type": "code",
   "execution_count": null,
   "metadata": {
    "ExecuteTime": {
     "end_time": "2021-02-28T17:23:00.532588Z",
     "start_time": "2021-02-28T17:23:00.483405Z"
    }
   },
   "outputs": [],
   "source": [
    "with open(\n",
    "    os.path.join(DATA_PATH, 'external', 'spell_ru_eval', 'train_source.txt'), \n",
    "    'r'\n",
    ") as inf:\n",
    "    sentences = inf.readlines()\n",
    "    \n",
    "with open(\n",
    "    os.path.join(DATA_PATH, 'external', 'spell_ru_eval', \n",
    "                 'train_corrected.txt'), \n",
    "    'r'\n",
    ") as inf:\n",
    "    true_sentences = inf.readlines()"
   ]
  },
  {
   "cell_type": "markdown",
   "metadata": {},
   "source": [
    "Запустим наш spell checker, подавая ему предложения батчами размера `batch_size`."
   ]
  },
  {
   "cell_type": "code",
   "execution_count": null,
   "metadata": {
    "ExecuteTime": {
     "end_time": "2021-02-28T18:20:28.101040Z",
     "start_time": "2021-02-28T17:23:00.535587Z"
    },
    "scrolled": true
   },
   "outputs": [],
   "source": [
    "batch_size = 5\n",
    "sentences_corrected = []\n",
    "num_batches = int(np.ceil(len(sentences) / batch_size))\n",
    "\n",
    "for i in tqdm(range(num_batches)):\n",
    "    cur_sentences = sentences[i*batch_size:(i+1)*batch_size]\n",
    "    sentences_corrected += spellchecker(cur_sentences)"
   ]
  },
  {
   "cell_type": "markdown",
   "metadata": {},
   "source": [
    "Запишем результаты файл."
   ]
  },
  {
   "cell_type": "code",
   "execution_count": null,
   "metadata": {
    "ExecuteTime": {
     "end_time": "2021-02-17T10:45:49.259998Z",
     "start_time": "2021-02-17T10:45:48.611998Z"
    }
   },
   "outputs": [],
   "source": [
    "!mkdir -p ../data/processed/results_svm/"
   ]
  },
  {
   "cell_type": "code",
   "execution_count": null,
   "metadata": {
    "ExecuteTime": {
     "end_time": "2021-02-28T18:29:17.770800Z",
     "start_time": "2021-02-28T18:29:17.549255Z"
    }
   },
   "outputs": [],
   "source": [
    "with open(os.path.join(DATA_PATH, 'processed', 'results_svm', 'train.txt'), 'w') as ouf:\n",
    "    ouf.writelines([sentence + '\\n' for sentence in sentences_corrected])"
   ]
  },
  {
   "cell_type": "markdown",
   "metadata": {},
   "source": [
    "Выполним скрит для измерения качества."
   ]
  },
  {
   "cell_type": "code",
   "execution_count": null,
   "metadata": {
    "ExecuteTime": {
     "end_time": "2021-02-28T18:29:38.089329Z",
     "start_time": "2021-02-28T18:29:18.058857Z"
    }
   },
   "outputs": [],
   "source": [
    "!python ../src/evaluation/spell_ru_eval/evaluate.py -d ../data/processed/results_svm/diffs_train.txt ../data/external/spell_ru_eval/train_source.txt ../data/external/spell_ru_eval/train_corrected.txt ../data/processed/results_svm/train.txt | tail -n 4"
   ]
  },
  {
   "cell_type": "markdown",
   "metadata": {},
   "source": [
    "**Ranking SVM**"
   ]
  },
  {
   "cell_type": "markdown",
   "metadata": {},
   "source": [
    "* True Positive: $1305$\n",
    "* Внесенных исправлений: $1446$ \n",
    "* Требуемых исправления: $1727$ \n",
    "* Precision: $90.25$, доверительный интервал: $(88.72, 91.78)$\n",
    "* Recall: $75.56$, доверительный интервал: $(74.28, 76.85)$\n",
    "* FMeasure: $82.26$, доверительный интервал: $(80.86, 83.65)$"
   ]
  },
  {
   "cell_type": "markdown",
   "metadata": {},
   "source": [
    "**Ranking SVM (без BERT)**"
   ]
  },
  {
   "cell_type": "markdown",
   "metadata": {},
   "source": [
    "* True Positive: $1270$\n",
    "* Внесенных исправлений: $1428$ \n",
    "* Требуемых исправления: $1727$ \n",
    "* Precision: $88.94$, доверительный интервал: $(87.32, 90.56)$\n",
    "* Recall: $73.54$, доверительный интервал: $(72.20, 74.88)$\n",
    "* FMeasure: $80.51$, доверительный интервал: $(79.04, 81.97)$"
   ]
  },
  {
   "cell_type": "markdown",
   "metadata": {},
   "source": [
    "**Ranking SVM (с объединением токенов)**"
   ]
  },
  {
   "cell_type": "markdown",
   "metadata": {},
   "source": [
    "* True Positive: $1331$\n",
    "* Внесенных исправлений: $1484$ \n",
    "* Требуемых исправления: $1727$ \n",
    "* Precision: $89.69$, доверительный интервал: $(88.15, 91.23)$\n",
    "* Recall: $77.07$, доверительный интервал: $(75.74, 78.40)$\n",
    "* FMeasure: $82.90$, доверительный интервал: $(81.48, 84.33)$"
   ]
  },
  {
   "cell_type": "markdown",
   "metadata": {},
   "source": [
    "**Ranking SVM (с объединением токенов, без BERT)**"
   ]
  },
  {
   "cell_type": "markdown",
   "metadata": {},
   "source": [
    "* True Positive: $1292$\n",
    "* Внесенных исправлений: $1455$ \n",
    "* Требуемых исправления: $1727$ \n",
    "* Precision: $88.80$, доверительный интервал: $(87.18, 90.41)$\n",
    "* Recall: $74.81$, доверительный интервал: $(73.45, 76.17)$\n",
    "* FMeasure: $81.21$, доверительный интервал: $(79.73, 82.68)$"
   ]
  },
  {
   "cell_type": "markdown",
   "metadata": {},
   "source": [
    "**CatBoost**"
   ]
  },
  {
   "cell_type": "markdown",
   "metadata": {},
   "source": [
    "* True Positive: $1353$\n",
    "* Внесенных исправлений: $1463$ \n",
    "* Требуемых исправления: $1727$ \n",
    "* Precision: $92.48$, доверительный интервал: $(91.13, 93.83)$\n",
    "* Recall: $78.34$, доверительный интервал: $(77.20, 79.49)$\n",
    "* FMeasure: $84.83$, доверительный интервал: $(83.59, 86.07)$"
   ]
  },
  {
   "cell_type": "markdown",
   "metadata": {},
   "source": [
    "**CatBoost (без BERT)**"
   ]
  },
  {
   "cell_type": "markdown",
   "metadata": {},
   "source": [
    "* True Positive: $1315$\n",
    "* Внесенных исправлений: $1452$ \n",
    "* Требуемых исправления: $1727$ \n",
    "* Precision: $90.56$, доверительный интервал: $(89.06, 92.07)$\n",
    "* Recall: $76.14$, доверительный интервал: $(74.88, 77.41)$\n",
    "* FMeasure: $82.73$, доверительный интервал: $(81.36, 84.10)$"
   ]
  },
  {
   "cell_type": "markdown",
   "metadata": {},
   "source": [
    "**CatBoost (с объединением токенов)**"
   ]
  },
  {
   "cell_type": "markdown",
   "metadata": {},
   "source": [
    "* True Positive: $1385$\n",
    "* Внесенных исправлений: $1495$ \n",
    "* Требуемых исправления: $1727$ \n",
    "* Precision: $92.64$, доверительный интервал: $(91.32, 93.97)$\n",
    "* Recall: $80.20$, доверительный интервал: $(79.05, 81.34)$\n",
    "* FMeasure: $85.97$, доверительный интервал: $(84.74, 87.20)$"
   ]
  },
  {
   "cell_type": "markdown",
   "metadata": {},
   "source": [
    "**CatBoost (с объединением токенов, без BERT)**"
   ]
  },
  {
   "cell_type": "markdown",
   "metadata": {},
   "source": [
    "* True Positive: $1352$\n",
    "* Внесенных исправлений: $1485$ \n",
    "* Требуемых исправления: $1727$ \n",
    "* Precision: $91.04$, доверительный интервал: $(89.59, 92.50)$\n",
    "* Recall: $78.29$, доверительный интервал: $(77.03, 79.54)$\n",
    "* FMeasure: $84.18$, доверительный интервал: $(82.84, 85.53)$"
   ]
  },
  {
   "cell_type": "markdown",
   "metadata": {},
   "source": [
    "### Тестовая выборка"
   ]
  },
  {
   "cell_type": "code",
   "execution_count": null,
   "metadata": {
    "ExecuteTime": {
     "end_time": "2021-02-28T18:32:16.772824Z",
     "start_time": "2021-02-28T18:32:16.574813Z"
    }
   },
   "outputs": [],
   "source": [
    "with open(\n",
    "    os.path.join(DATA_PATH, 'external', 'spell_ru_eval', 'test_source.txt'), \n",
    "    'r'\n",
    ") as inf:\n",
    "    sentences = inf.readlines()\n",
    "    \n",
    "with open(\n",
    "    os.path.join(DATA_PATH, 'external', 'spell_ru_eval', \n",
    "                 'test_corrected.txt'), \n",
    "    'r'\n",
    ") as inf:\n",
    "    true_sentences = inf.readlines()"
   ]
  },
  {
   "cell_type": "markdown",
   "metadata": {},
   "source": [
    "Запустим наш spell checker, подавая ему предложения батчами размера `batch_size`."
   ]
  },
  {
   "cell_type": "code",
   "execution_count": null,
   "metadata": {
    "ExecuteTime": {
     "end_time": "2021-02-28T19:47:42.971757Z",
     "start_time": "2021-02-28T18:32:19.946678Z"
    },
    "scrolled": true
   },
   "outputs": [],
   "source": [
    "batch_size = 5\n",
    "sentences_corrected = []\n",
    "num_batches = int(np.ceil(len(sentences) / batch_size))\n",
    "\n",
    "for i in tqdm(range(num_batches)):\n",
    "    cur_sentences = sentences[i*batch_size:(i+1)*batch_size]\n",
    "    sentences_corrected += spellchecker(cur_sentences)"
   ]
  },
  {
   "cell_type": "markdown",
   "metadata": {},
   "source": [
    "Запишем результаты файл."
   ]
  },
  {
   "cell_type": "code",
   "execution_count": null,
   "metadata": {
    "ExecuteTime": {
     "end_time": "2021-02-28T19:48:11.368922Z",
     "start_time": "2021-02-28T19:48:11.159015Z"
    }
   },
   "outputs": [],
   "source": [
    "with open(os.path.join(DATA_PATH, 'processed', 'results_svm', 'test.txt'), 'w') as ouf:\n",
    "    ouf.writelines([sentence + '\\n' for sentence in sentences_corrected])"
   ]
  },
  {
   "cell_type": "markdown",
   "metadata": {},
   "source": [
    "Выполним скрит для измерения качества."
   ]
  },
  {
   "cell_type": "code",
   "execution_count": null,
   "metadata": {
    "ExecuteTime": {
     "end_time": "2021-02-28T19:49:30.711601Z",
     "start_time": "2021-02-28T19:49:07.984679Z"
    }
   },
   "outputs": [],
   "source": [
    "!python ../src/evaluation/spell_ru_eval/evaluate.py -d ../data/processed/results_svm/diffs_test.txt ../data/external/spell_ru_eval/test_source.txt ../data/external/spell_ru_eval/test_corrected.txt ../data/processed/results_svm/test.txt | tail -n 4"
   ]
  },
  {
   "cell_type": "markdown",
   "metadata": {},
   "source": [
    "**Ranking SVM**"
   ]
  },
  {
   "cell_type": "markdown",
   "metadata": {},
   "source": [
    "* True Positive: $1373$\n",
    "* Внесенных исправлений: $1590$ \n",
    "* Требуемых исправления: $1976$ \n",
    "* Precision: $86.35$, доверительный интервал: $(84.66, 88.04)$\n",
    "* Recall: $69.48$, доверительный интервал: $(68.12, 70.84)$\n",
    "* FMeasure: $77.01$, доверительный интервал: $(75.50, 78.51)$"
   ]
  },
  {
   "cell_type": "markdown",
   "metadata": {},
   "source": [
    "**Ranking SVM (без BERT)**"
   ]
  },
  {
   "cell_type": "markdown",
   "metadata": {},
   "source": [
    "* True Positive: $1323$\n",
    "* Внесенных исправлений: $1559$ \n",
    "* Требуемых исправления: $1976$\n",
    "* Precision: $84.86$, доверительный интервал: $(83.08, 86.64)$\n",
    "* Recall: $66.95$, доверительный интервал: $(65.55, 68.36)$\n",
    "* FMeasure: $74.85$, доверительный интервал: $(73.28, 76.42)$"
   ]
  },
  {
   "cell_type": "markdown",
   "metadata": {},
   "source": [
    "**Ranking SVM (с объединением токенов)**"
   ]
  },
  {
   "cell_type": "markdown",
   "metadata": {},
   "source": [
    "* True Positive: $1430$\n",
    "* Внесенных исправлений: $1656$ \n",
    "* Требуемых исправления: $1976$ \n",
    "* Precision: $86.35$, доверительный интервал: $(84.71, 88.00)$\n",
    "* Recall: $72.37$, доверительный интервал: $(70.99, 73.75)$\n",
    "* FMeasure: $78.74$, доверительный интервал: $(77.24, 80.25)$"
   ]
  },
  {
   "cell_type": "markdown",
   "metadata": {},
   "source": [
    "**Ranking SVM (с объединением токенов, без BERT)**"
   ]
  },
  {
   "cell_type": "markdown",
   "metadata": {},
   "source": [
    "* True Positive: $1375$\n",
    "* Внесенных исправлений: $1624$ \n",
    "* Требуемых исправления: $1976$\n",
    "* Precision: $84.67$, доверительный интервал: $(82.91, 86.42)$\n",
    "* Recall: $69.59$, доверительный интервал: $(68.14, 71.03)$\n",
    "* FMeasure: $76.39$, доверительный интервал: $(74.81, 77.97)$"
   ]
  },
  {
   "cell_type": "markdown",
   "metadata": {},
   "source": [
    "**CatBoost**"
   ]
  },
  {
   "cell_type": "markdown",
   "metadata": {},
   "source": [
    "* True Positive: $1375$\n",
    "* Внесенных исправлений: $1579$ \n",
    "* Требуемых исправления: $1976$\n",
    "* Precision: $87.08$, доверительный интервал: $(85.42, 88.74)$\n",
    "* Recall: $69.59$, доверительный интервал: $(68.26, 70.91)$\n",
    "* FMeasure: $77.36$, доверительный интервал: $(75.88, 78.83)$"
   ]
  },
  {
   "cell_type": "markdown",
   "metadata": {},
   "source": [
    "**CatBoost (без BERT)**"
   ]
  },
  {
   "cell_type": "markdown",
   "metadata": {},
   "source": [
    "* True Positive: $1336$\n",
    "* Внесенных исправлений: $1564$ \n",
    "* Требуемых исправления: $1976$\n",
    "* Precision: $85.42$, доверительный интервал: $(83.67, 87.18)$\n",
    "* Recall: $67.61$, доверительный интервал: $(66.22, 69.00)$\n",
    "* FMeasure: $75.48$, доверительный интервал: $(73.93, 77.03)$"
   ]
  },
  {
   "cell_type": "markdown",
   "metadata": {},
   "source": [
    "**CatBoost (с объединением токенов)**"
   ]
  },
  {
   "cell_type": "markdown",
   "metadata": {},
   "source": [
    "* True Positive: $1430$\n",
    "* Внесенных исправлений: $1652$ \n",
    "* Требуемых исправления: $1976$\n",
    "* Precision: $86.56$, доверительный интервал: $(84.92, 88.21)$\n",
    "* Recall: $72.37$, доверительный интервал: $(70.99, 73.74)$\n",
    "* FMeasure: $78.83$, доверительный интервал: $(77.33, 80.33)$"
   ]
  },
  {
   "cell_type": "markdown",
   "metadata": {},
   "source": [
    "**CatBoost (с объединением токенов, без BERT)**"
   ]
  },
  {
   "cell_type": "markdown",
   "metadata": {},
   "source": [
    "* True Positive: $1399$\n",
    "* Внесенных исправлений: $1640$ \n",
    "* Требуемых исправления: $1976$\n",
    "* Precision: $85.30$, доверительный интервал: $(83.60, 87.01)$\n",
    "* Recall: $70.80$, доверительный интервал: $(69.38, 72.22)$\n",
    "* FMeasure: $77.38$, доверительный интервал: $(75.83, 78.93)$"
   ]
  },
  {
   "cell_type": "markdown",
   "metadata": {},
   "source": [
    "## Выводы\n",
    "\n",
    "1. Результаты удалось заметно улучшить и достичь SOTA.\n",
    "2. Модели без признаков BERT показывают результат на $\\approx 2\\%$ хуже.\n",
    "3. Добавление объединения токенов улучшает результат на $\\approx 1\\%$."
   ]
  }
 ],
 "metadata": {
  "kernelspec": {
   "display_name": "Python 3",
   "language": "python",
   "name": "python3"
  },
  "language_info": {
   "codemirror_mode": {
    "name": "ipython",
    "version": 3
   },
   "file_extension": ".py",
   "mimetype": "text/x-python",
   "name": "python",
   "nbconvert_exporter": "python",
   "pygments_lexer": "ipython3",
   "version": "3.7.9"
  }
 },
 "nbformat": 4,
 "nbformat_minor": 4
}
