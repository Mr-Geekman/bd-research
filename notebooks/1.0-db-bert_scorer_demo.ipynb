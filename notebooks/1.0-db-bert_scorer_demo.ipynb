{
 "cells": [
  {
   "cell_type": "markdown",
   "metadata": {},
   "source": [
    "# BertScorer"
   ]
  },
  {
   "cell_type": "markdown",
   "metadata": {},
   "source": [
    "В этом ноутбуке будут рассмотрены примеры использования BertScorer, который должен выдавать очки различным кандидатам."
   ]
  },
  {
   "cell_type": "code",
   "execution_count": 1,
   "metadata": {
    "ExecuteTime": {
     "end_time": "2020-11-29T16:10:57.077028Z",
     "start_time": "2020-11-29T16:10:57.039237Z"
    }
   },
   "outputs": [],
   "source": [
    "%load_ext autoreload"
   ]
  },
  {
   "cell_type": "code",
   "execution_count": 2,
   "metadata": {
    "ExecuteTime": {
     "end_time": "2020-11-29T16:10:58.296099Z",
     "start_time": "2020-11-29T16:10:57.223192Z"
    }
   },
   "outputs": [],
   "source": [
    "%autoreload 2\n",
    "import sys\n",
    "sys.path.append('..')\n",
    "\n",
    "import numpy as np\n",
    "from IPython.display import display\n",
    "\n",
    "from transformers import BertForMaskedLM, BertTokenizer\n",
    "\n",
    "from src.models.BertScorer.bert_scorer_correction import BertScorerCorrection\n",
    "from src.models.BertScorer.bert_scorer_sentence import BertScorerSentence"
   ]
  },
  {
   "cell_type": "markdown",
   "metadata": {},
   "source": [
    "Загрузим модель и токенайзер."
   ]
  },
  {
   "cell_type": "code",
   "execution_count": 3,
   "metadata": {
    "ExecuteTime": {
     "end_time": "2020-11-29T16:11:08.204610Z",
     "start_time": "2020-11-29T16:10:59.101660Z"
    }
   },
   "outputs": [
    {
     "name": "stderr",
     "output_type": "stream",
     "text": [
      "Some weights of the model checkpoint at bert-base-uncased were not used when initializing BertForMaskedLM: ['cls.seq_relationship.weight', 'cls.seq_relationship.bias']\n",
      "- This IS expected if you are initializing BertForMaskedLM from the checkpoint of a model trained on another task or with another architecture (e.g. initializing a BertForSequenceClassification model from a BertForPretraining model).\n",
      "- This IS NOT expected if you are initializing BertForMaskedLM from the checkpoint of a model that you expect to be exactly identical (initializing a BertForSequenceClassification model from a BertForSequenceClassification model).\n",
      "Some weights of BertForMaskedLM were not initialized from the model checkpoint at bert-base-uncased and are newly initialized: ['cls.predictions.decoder.bias']\n",
      "You should probably TRAIN this model on a down-stream task to be able to use it for predictions and inference.\n"
     ]
    }
   ],
   "source": [
    "model = BertForMaskedLM.from_pretrained('bert-base-uncased')\n",
    "tokenizer = BertTokenizer.from_pretrained('bert-base-uncased')"
   ]
  },
  {
   "cell_type": "markdown",
   "metadata": {},
   "source": [
    "## BertScorerCorrection"
   ]
  },
  {
   "cell_type": "markdown",
   "metadata": {},
   "source": [
    "Сначала посмотрим на класс, который ранжирует кандидата для подстановки место слова."
   ]
  },
  {
   "cell_type": "code",
   "execution_count": 4,
   "metadata": {
    "ExecuteTime": {
     "end_time": "2020-11-29T16:11:08.236032Z",
     "start_time": "2020-11-29T16:11:08.207964Z"
    }
   },
   "outputs": [],
   "source": [
    "scorer = BertScorerCorrection(model, tokenizer)"
   ]
  },
  {
   "cell_type": "markdown",
   "metadata": {},
   "source": [
    "Зададим пару предложений и кандидатов для скоринга."
   ]
  },
  {
   "cell_type": "code",
   "execution_count": 5,
   "metadata": {
    "ExecuteTime": {
     "end_time": "2020-11-29T16:11:08.265161Z",
     "start_time": "2020-11-29T16:11:08.239298Z"
    }
   },
   "outputs": [],
   "source": [
    "sentence_wrong = (\n",
    "    f'It is wrong sentence, there are '\n",
    "    f'two {tokenizer.mask_token} mask tokens: {tokenizer.mask_token}'\n",
    ")\n",
    "sentence = f'London is the {tokenizer.mask_token} of Great Britain'\n",
    "candidates = ['city', 'capital', 'human', 'think', 'asdf']"
   ]
  },
  {
   "cell_type": "markdown",
   "metadata": {},
   "source": [
    "Протестируем некорректное предложение."
   ]
  },
  {
   "cell_type": "code",
   "execution_count": 6,
   "metadata": {
    "ExecuteTime": {
     "end_time": "2020-11-29T16:11:08.298250Z",
     "start_time": "2020-11-29T16:11:08.267758Z"
    }
   },
   "outputs": [
    {
     "name": "stdout",
     "output_type": "stream",
     "text": [
      "Where should be exactly one [MASK] token in a sentence.\n"
     ]
    }
   ],
   "source": [
    "try:\n",
    "    scorer(sentence_wrong, [])\n",
    "except ValueError as e:\n",
    "    print(e)"
   ]
  },
  {
   "cell_type": "markdown",
   "metadata": {},
   "source": [
    "Протестируем корректное предложение."
   ]
  },
  {
   "cell_type": "code",
   "execution_count": 7,
   "metadata": {
    "ExecuteTime": {
     "end_time": "2020-11-29T16:11:11.488396Z",
     "start_time": "2020-11-29T16:11:08.301136Z"
    }
   },
   "outputs": [
    {
     "name": "stdout",
     "output_type": "stream",
     "text": [
      "Function: mean\n"
     ]
    },
    {
     "data": {
      "text/plain": [
       "{'city': -7.414884567260742,\n",
       " 'capital': -8.707372665405273,\n",
       " 'human': -9.257110595703125,\n",
       " 'think': -8.56279182434082,\n",
       " 'asdf': -11.57838773727417}"
      ]
     },
     "metadata": {},
     "output_type": "display_data"
    },
    {
     "name": "stdout",
     "output_type": "stream",
     "text": [
      "Function: sum\n"
     ]
    },
    {
     "data": {
      "text/plain": [
       "{'city': -7.414884567260742,\n",
       " 'capital': -8.707372665405273,\n",
       " 'human': -9.257110595703125,\n",
       " 'think': -8.56279182434082,\n",
       " 'asdf': -23.15677547454834}"
      ]
     },
     "metadata": {},
     "output_type": "display_data"
    },
    {
     "name": "stdout",
     "output_type": "stream",
     "text": [
      "Function: min\n"
     ]
    },
    {
     "data": {
      "text/plain": [
       "{'city': -7.414884567260742,\n",
       " 'capital': -8.707372665405273,\n",
       " 'human': -9.257110595703125,\n",
       " 'think': -8.56279182434082,\n",
       " 'asdf': -17.020278930664062}"
      ]
     },
     "metadata": {},
     "output_type": "display_data"
    },
    {
     "name": "stdout",
     "output_type": "stream",
     "text": [
      "Function: max\n"
     ]
    },
    {
     "data": {
      "text/plain": [
       "{'city': -7.414884567260742,\n",
       " 'capital': -8.707372665405273,\n",
       " 'human': -9.257110595703125,\n",
       " 'think': -8.56279182434082,\n",
       " 'asdf': -6.136496543884277}"
      ]
     },
     "metadata": {},
     "output_type": "display_data"
    }
   ],
   "source": [
    "functions = {'mean': np.mean, 'sum': np.sum, 'min': np.min, 'max': np.max}\n",
    "for func_name, func in functions.items():\n",
    "    print(f'Function: {func_name}')\n",
    "    display(scorer(sentence, candidates, agg_func=func))"
   ]
  },
  {
   "cell_type": "markdown",
   "metadata": {},
   "source": [
    "В целом результат функций `mean`, `sum` выглядит разумно за исключением слишком высокой оценки для токена `think`. Он не подходит на это место, но его результат почему-то все равно высокий."
   ]
  },
  {
   "cell_type": "markdown",
   "metadata": {},
   "source": [
    "## BertScorerSentence"
   ]
  },
  {
   "cell_type": "markdown",
   "metadata": {},
   "source": [
    "Теперь посмотрим на класс, который умеет давать скоры сразу всему предложению."
   ]
  },
  {
   "cell_type": "code",
   "execution_count": 8,
   "metadata": {
    "ExecuteTime": {
     "end_time": "2020-11-29T16:11:13.197747Z",
     "start_time": "2020-11-29T16:11:13.153592Z"
    }
   },
   "outputs": [],
   "source": [
    "scorer = BertScorerSentence(model, tokenizer)"
   ]
  },
  {
   "cell_type": "markdown",
   "metadata": {},
   "source": [
    "Зададим несколько предложений и протестируем их."
   ]
  },
  {
   "cell_type": "code",
   "execution_count": 9,
   "metadata": {
    "ExecuteTime": {
     "end_time": "2020-11-29T16:11:13.559834Z",
     "start_time": "2020-11-29T16:11:13.519571Z"
    }
   },
   "outputs": [],
   "source": [
    "sentences = [\n",
    "    'Moscow is the capital of Russia',\n",
    "    'Moscwo is the capital of Russia',\n",
    "    'Moscow isthe capital of Russia',\n",
    "    'Moscow is the capital or Russia'\n",
    "]"
   ]
  },
  {
   "cell_type": "code",
   "execution_count": 10,
   "metadata": {
    "ExecuteTime": {
     "end_time": "2020-11-29T16:11:15.865767Z",
     "start_time": "2020-11-29T16:11:13.833106Z"
    }
   },
   "outputs": [],
   "source": [
    "results = scorer(sentences)"
   ]
  },
  {
   "cell_type": "code",
   "execution_count": 11,
   "metadata": {
    "ExecuteTime": {
     "end_time": "2020-11-29T16:11:15.896754Z",
     "start_time": "2020-11-29T16:11:15.868616Z"
    }
   },
   "outputs": [
    {
     "name": "stdout",
     "output_type": "stream",
     "text": [
      "Sentence 0: -5.296\n",
      "Sentence 1: -6.985\n",
      "Sentence 2: -7.880\n",
      "Sentence 3: -7.956\n"
     ]
    }
   ],
   "source": [
    "for i, result in enumerate(results):\n",
    "    print(f'Sentence {i}: {result:.3f}')"
   ]
  },
  {
   "cell_type": "markdown",
   "metadata": {},
   "source": [
    "Результат выглядит вполне разумно."
   ]
  }
 ],
 "metadata": {
  "kernelspec": {
   "display_name": "Python 3",
   "language": "python",
   "name": "python3"
  },
  "language_info": {
   "codemirror_mode": {
    "name": "ipython",
    "version": 3
   },
   "file_extension": ".py",
   "mimetype": "text/x-python",
   "name": "python",
   "nbconvert_exporter": "python",
   "pygments_lexer": "ipython3",
   "version": "3.7.9"
  }
 },
 "nbformat": 4,
 "nbformat_minor": 4
}
