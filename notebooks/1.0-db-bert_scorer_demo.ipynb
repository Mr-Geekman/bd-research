{
 "cells": [
  {
   "cell_type": "markdown",
   "metadata": {},
   "source": [
    "# BertScorer"
   ]
  },
  {
   "cell_type": "markdown",
   "metadata": {},
   "source": [
    "В этом ноутбуке будут рассмотрены примеры использования BertScorer, который должен выдавать очки различным кандидатам."
   ]
  },
  {
   "cell_type": "code",
   "execution_count": 1,
   "metadata": {
    "ExecuteTime": {
     "end_time": "2021-01-04T18:45:08.634620Z",
     "start_time": "2021-01-04T18:45:08.605477Z"
    }
   },
   "outputs": [],
   "source": [
    "%load_ext autoreload"
   ]
  },
  {
   "cell_type": "code",
   "execution_count": 2,
   "metadata": {
    "ExecuteTime": {
     "end_time": "2021-01-04T18:45:10.072102Z",
     "start_time": "2021-01-04T18:45:08.830222Z"
    }
   },
   "outputs": [],
   "source": [
    "%autoreload 2\n",
    "import sys\n",
    "sys.path.append('..')\n",
    "\n",
    "import numpy as np\n",
    "from IPython.display import display\n",
    "\n",
    "from transformers import BertForMaskedLM, BertTokenizer\n",
    "\n",
    "from src.models.BertScorer.bert_scorer_correction import BertScorerCorrection\n",
    "from src.models.BertScorer.bert_scorer_sentence import BertScorerSentence"
   ]
  },
  {
   "cell_type": "markdown",
   "metadata": {},
   "source": [
    "Загрузим модель и токенайзер."
   ]
  },
  {
   "cell_type": "code",
   "execution_count": 3,
   "metadata": {
    "ExecuteTime": {
     "end_time": "2021-01-04T18:45:21.986734Z",
     "start_time": "2021-01-04T18:45:10.075006Z"
    }
   },
   "outputs": [
    {
     "name": "stderr",
     "output_type": "stream",
     "text": [
      "Some weights of the model checkpoint at bert-base-uncased were not used when initializing BertForMaskedLM: ['cls.seq_relationship.weight', 'cls.seq_relationship.bias']\n",
      "- This IS expected if you are initializing BertForMaskedLM from the checkpoint of a model trained on another task or with another architecture (e.g. initializing a BertForSequenceClassification model from a BertForPretraining model).\n",
      "- This IS NOT expected if you are initializing BertForMaskedLM from the checkpoint of a model that you expect to be exactly identical (initializing a BertForSequenceClassification model from a BertForSequenceClassification model).\n",
      "Some weights of BertForMaskedLM were not initialized from the model checkpoint at bert-base-uncased and are newly initialized: ['cls.predictions.decoder.bias']\n",
      "You should probably TRAIN this model on a down-stream task to be able to use it for predictions and inference.\n"
     ]
    }
   ],
   "source": [
    "model = BertForMaskedLM.from_pretrained('bert-base-uncased')\n",
    "tokenizer = BertTokenizer.from_pretrained('bert-base-uncased')"
   ]
  },
  {
   "cell_type": "markdown",
   "metadata": {},
   "source": [
    "## BertScorerCorrection"
   ]
  },
  {
   "cell_type": "markdown",
   "metadata": {},
   "source": [
    "Сначала посмотрим на класс, который ранжирует кандидата для подстановки место слова."
   ]
  },
  {
   "cell_type": "code",
   "execution_count": 4,
   "metadata": {
    "ExecuteTime": {
     "end_time": "2021-01-04T18:45:22.029528Z",
     "start_time": "2021-01-04T18:45:21.990621Z"
    }
   },
   "outputs": [],
   "source": [
    "scorer = BertScorerCorrection(model, tokenizer)"
   ]
  },
  {
   "cell_type": "markdown",
   "metadata": {},
   "source": [
    "Зададим пару предложений и кандидатов для скоринга."
   ]
  },
  {
   "cell_type": "code",
   "execution_count": 5,
   "metadata": {
    "ExecuteTime": {
     "end_time": "2021-01-04T18:45:22.080186Z",
     "start_time": "2021-01-04T18:45:22.032666Z"
    }
   },
   "outputs": [],
   "source": [
    "sentence_wrong = (\n",
    "    f'It is wrong sentence, there are '\n",
    "    f'two {tokenizer.mask_token} mask tokens: {tokenizer.mask_token}'\n",
    ")\n",
    "\n",
    "sentences = [\n",
    "    f'London is the {tokenizer.mask_token} of Great Britain',\n",
    "    f'The square in Moscow is {tokenizer.mask_token}'\n",
    "]\n",
    "candidates = [\n",
    "    ['wobblybebbly', 'city', 'capital', 'human', 'think'],\n",
    "    ['red', 'blue', 'wobblybebbly', 'black', 'round', 'boiled']\n",
    "]"
   ]
  },
  {
   "cell_type": "markdown",
   "metadata": {},
   "source": [
    "Протестируем некорректное предложение."
   ]
  },
  {
   "cell_type": "code",
   "execution_count": 6,
   "metadata": {
    "ExecuteTime": {
     "end_time": "2021-01-04T18:45:22.125276Z",
     "start_time": "2021-01-04T18:45:22.084650Z"
    }
   },
   "outputs": [
    {
     "name": "stdout",
     "output_type": "stream",
     "text": [
      "There should be exactly one [MASK] token in a sentence.\n"
     ]
    }
   ],
   "source": [
    "try:\n",
    "    scorer([sentence_wrong], [])\n",
    "except ValueError as e:\n",
    "    print(e)"
   ]
  },
  {
   "cell_type": "markdown",
   "metadata": {},
   "source": [
    "Протестируем корректное предложение."
   ]
  },
  {
   "cell_type": "code",
   "execution_count": 7,
   "metadata": {
    "ExecuteTime": {
     "end_time": "2021-01-04T18:45:23.075016Z",
     "start_time": "2021-01-04T18:45:22.129347Z"
    }
   },
   "outputs": [
    {
     "name": "stdout",
     "output_type": "stream",
     "text": [
      "Результаты для предложения: \n",
      "London is the [MASK] of Great Britain\n",
      "\twobblybebbly: -21.435\n",
      "\tcity: -5.993\n",
      "\tcapital: -0.014\n",
      "\thuman: -18.483\n",
      "\tthink: -16.042\n",
      "Результаты для предложения: \n",
      "The square in Moscow is [MASK]\n",
      "\tred: -15.927\n",
      "\tblue: -15.878\n",
      "\twobblybebbly: -18.513\n",
      "\tblack: -16.626\n",
      "\tround: -15.404\n",
      "\tboiled: -19.281\n"
     ]
    }
   ],
   "source": [
    "results = scorer(sentences, candidates)\n",
    "\n",
    "for i in range(len(results)):\n",
    "    print('Результаты для предложения: ')\n",
    "    print(sentences[i])\n",
    "    candidates_sentences = candidates[i]\n",
    "    results_sentences = results[i]\n",
    "    for candidate, result in zip(candidates_sentences, results_sentences):\n",
    "        print(f'\\t{candidate}: {result:.3f}')"
   ]
  },
  {
   "cell_type": "markdown",
   "metadata": {},
   "source": [
    "Результат выглядит правдоподобно."
   ]
  },
  {
   "cell_type": "markdown",
   "metadata": {},
   "source": [
    "## BertScorerSentence"
   ]
  },
  {
   "cell_type": "markdown",
   "metadata": {},
   "source": [
    "Теперь посмотрим на класс, который умеет давать скоры сразу всему предложению."
   ]
  },
  {
   "cell_type": "code",
   "execution_count": 8,
   "metadata": {
    "ExecuteTime": {
     "end_time": "2021-01-04T18:45:23.110643Z",
     "start_time": "2021-01-04T18:45:23.078370Z"
    }
   },
   "outputs": [],
   "source": [
    "scorer = BertScorerSentence(model, tokenizer)"
   ]
  },
  {
   "cell_type": "markdown",
   "metadata": {},
   "source": [
    "Зададим несколько предложений и протестируем их."
   ]
  },
  {
   "cell_type": "code",
   "execution_count": 9,
   "metadata": {
    "ExecuteTime": {
     "end_time": "2021-01-04T18:45:23.154055Z",
     "start_time": "2021-01-04T18:45:23.114381Z"
    }
   },
   "outputs": [],
   "source": [
    "sentences = [\n",
    "    'Moscow is the capital of Russia',\n",
    "    'Moscwo is the capital of Russia',\n",
    "    'Moscow isthe capital of Russia',\n",
    "    'Moscow is the capital or Russia'\n",
    "]"
   ]
  },
  {
   "cell_type": "code",
   "execution_count": 10,
   "metadata": {
    "ExecuteTime": {
     "end_time": "2021-01-04T18:45:25.200982Z",
     "start_time": "2021-01-04T18:45:23.156178Z"
    }
   },
   "outputs": [],
   "source": [
    "results = scorer(sentences)"
   ]
  },
  {
   "cell_type": "code",
   "execution_count": 11,
   "metadata": {
    "ExecuteTime": {
     "end_time": "2021-01-04T18:45:25.237696Z",
     "start_time": "2021-01-04T18:45:25.203097Z"
    }
   },
   "outputs": [
    {
     "name": "stdout",
     "output_type": "stream",
     "text": [
      "Sentence 0: -5.296\n",
      "Sentence 1: -6.985\n",
      "Sentence 2: -7.880\n",
      "Sentence 3: -7.956\n"
     ]
    }
   ],
   "source": [
    "for i, result in enumerate(results):\n",
    "    print(f'Sentence {i}: {result:.3f}')"
   ]
  },
  {
   "cell_type": "markdown",
   "metadata": {},
   "source": [
    "Результат выглядит вполне разумно."
   ]
  }
 ],
 "metadata": {
  "kernelspec": {
   "display_name": "Python 3",
   "language": "python",
   "name": "python3"
  },
  "language_info": {
   "codemirror_mode": {
    "name": "ipython",
    "version": 3
   },
   "file_extension": ".py",
   "mimetype": "text/x-python",
   "name": "python",
   "nbconvert_exporter": "python",
   "pygments_lexer": "ipython3",
   "version": "3.7.9"
  }
 },
 "nbformat": 4,
 "nbformat_minor": 4
}
