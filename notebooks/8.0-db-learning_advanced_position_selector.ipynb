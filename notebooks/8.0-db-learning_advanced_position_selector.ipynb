{
 "cells": [
  {
   "cell_type": "markdown",
   "metadata": {},
   "source": [
    "# Обучение моделей position selector"
   ]
  },
  {
   "cell_type": "markdown",
   "metadata": {},
   "source": [
    "В этом нотбуке будет произведен сбор обучающей выборки и обучение position selector с использованием дополнительных признаков."
   ]
  },
  {
   "cell_type": "code",
   "execution_count": 1,
   "metadata": {
    "ExecuteTime": {
     "end_time": "2021-02-08T08:44:19.138432Z",
     "start_time": "2021-02-08T08:44:19.099578Z"
    }
   },
   "outputs": [],
   "source": [
    "%load_ext autoreload\n",
    "%autoreload 2"
   ]
  },
  {
   "cell_type": "code",
   "execution_count": 2,
   "metadata": {
    "ExecuteTime": {
     "end_time": "2021-02-08T08:44:22.107095Z",
     "start_time": "2021-02-08T08:44:19.253846Z"
    }
   },
   "outputs": [
    {
     "name": "stderr",
     "output_type": "stream",
     "text": [
      "[nltk_data] Downloading package punkt to /home/mrgeekman/nltk_data...\n",
      "[nltk_data]   Package punkt is already up-to-date!\n",
      "[nltk_data] Downloading package stopwords to\n",
      "[nltk_data]     /home/mrgeekman/nltk_data...\n",
      "[nltk_data]   Package stopwords is already up-to-date!\n",
      "[nltk_data] Downloading package perluniprops to\n",
      "[nltk_data]     /home/mrgeekman/nltk_data...\n",
      "[nltk_data]   Package perluniprops is already up-to-date!\n",
      "[nltk_data] Downloading package nonbreaking_prefixes to\n",
      "[nltk_data]     /home/mrgeekman/nltk_data...\n",
      "[nltk_data]   Package nonbreaking_prefixes is already up-to-date!\n"
     ]
    }
   ],
   "source": [
    "import gc\n",
    "import sys\n",
    "import os\n",
    "import json\n",
    "import pickle\n",
    "import re\n",
    "from copy import copy, deepcopy\n",
    "from collections import defaultdict\n",
    "from string import punctuation\n",
    "sys.path.append('..')\n",
    "\n",
    "import dotenv\n",
    "import numpy as np\n",
    "import pandas as pd\n",
    "from transformers import BertForMaskedLM, BertTokenizer, BertConfig\n",
    "\n",
    "from deeppavlov.core.data.simple_vocab import SimpleVocabulary\n",
    "\n",
    "import kenlm\n",
    "from sacremoses import MosesTokenizer, MosesDetokenizer\n",
    "\n",
    "from src.models.SpellChecker import *\n",
    "from src.models.BertScorer.bert_scorer_correction import (\n",
    "    BertScorerCorrection\n",
    ")\n",
    "from src.evaluation.spell_ru_eval import align_sents\n",
    "\n",
    "from sklearn.linear_model import LogisticRegression\n",
    "from sklearn import tree\n",
    "from sklearn.model_selection import (\n",
    "    KFold, cross_validate, cross_val_score, train_test_split\n",
    ")\n",
    "from sklearn.preprocessing import StandardScaler\n",
    "from sklearn.pipeline import Pipeline\n",
    "from sklearn.metrics import (\n",
    "    precision_score, recall_score, fbeta_score, make_scorer\n",
    ")\n",
    "from sklearn.utils.class_weight import compute_class_weight\n",
    "\n",
    "import catboost\n",
    "from catboost import CatBoostClassifier, Pool\n",
    "\n",
    "import graphviz\n",
    "from IPython.display import display\n",
    "from tqdm.notebook import tqdm\n",
    "import matplotlib.pyplot as plt\n",
    "import seaborn as sns\n",
    "\n",
    "sns.set(font_scale=1.3)"
   ]
  },
  {
   "cell_type": "code",
   "execution_count": 3,
   "metadata": {
    "ExecuteTime": {
     "end_time": "2021-02-08T08:44:22.155941Z",
     "start_time": "2021-02-08T08:44:22.110164Z"
    }
   },
   "outputs": [],
   "source": [
    "PROJECT_PATH = os.path.join(os.path.abspath(''), os.pardir)\n",
    "DATA_PATH = os.path.join(PROJECT_PATH, 'data')\n",
    "MODEL_PATH = os.path.join(PROJECT_PATH, 'models')"
   ]
  },
  {
   "cell_type": "markdown",
   "metadata": {},
   "source": [
    "## Нахождение корректных токенов"
   ]
  },
  {
   "cell_type": "markdown",
   "metadata": {},
   "source": [
    "Начнем с того, что найдем какие токены в каждой позиции правильные. Так как наша модель не умеет никак объединять токены надо будет найти те предложения, где токены исходного предложения не объединяются."
   ]
  },
  {
   "cell_type": "markdown",
   "metadata": {},
   "source": [
    "Создадим токенизаторы."
   ]
  },
  {
   "cell_type": "code",
   "execution_count": 4,
   "metadata": {
    "ExecuteTime": {
     "end_time": "2021-02-08T08:44:22.199071Z",
     "start_time": "2021-02-08T08:44:22.159844Z"
    }
   },
   "outputs": [],
   "source": [
    "raw_tokenizer = MosesTokenizer(lang='ru')\n",
    "raw_detokenizer = MosesDetokenizer(lang='ru')\n",
    "tokenizer = lambda x: raw_tokenizer.tokenize(x, escape=False)\n",
    "detokenizer = lambda x: raw_detokenizer.detokenize(x)"
   ]
  },
  {
   "cell_type": "markdown",
   "metadata": {},
   "source": [
    "Прочитаем все предложения."
   ]
  },
  {
   "cell_type": "code",
   "execution_count": 5,
   "metadata": {
    "ExecuteTime": {
     "end_time": "2021-02-08T08:44:22.259070Z",
     "start_time": "2021-02-08T08:44:22.202390Z"
    }
   },
   "outputs": [],
   "source": [
    "with open(\n",
    "    os.path.join(DATA_PATH, 'external', 'spell_ru_eval', 'train_source.txt'), \n",
    "    'r'\n",
    ") as inf:\n",
    "    sentences = inf.readlines()\n",
    "    \n",
    "with open(\n",
    "    os.path.join(DATA_PATH, 'external', 'spell_ru_eval', \n",
    "                 'train_corrected.txt'), \n",
    "    'r'\n",
    ") as inf:\n",
    "    sentences_corrected = inf.readlines()"
   ]
  },
  {
   "cell_type": "markdown",
   "metadata": {},
   "source": [
    "Теперь такое надо сделать со всеми предложениями в датасете, но надо учесть, что иногда нам могут встречаться случаи, когда нескольким токенам слева соответствует один токен справа (например, когда в слове случайно вставлен пробел). Это случай более слоный с точки зрения обработки, а потому будем игнорировать такие предложения."
   ]
  },
  {
   "cell_type": "code",
   "execution_count": 11,
   "metadata": {
    "ExecuteTime": {
     "end_time": "2021-02-08T08:44:23.369439Z",
     "start_time": "2021-02-08T08:44:23.314687Z"
    }
   },
   "outputs": [],
   "source": [
    "def find_correction_positions(sentence, sentence_corrected):\n",
    "    \"\"\"Find position for correction in sentence.\"\"\"\n",
    "    tokenized_sentence_raw = tokenizer(\n",
    "        sentence.lower().replace('ё', 'е')\n",
    "    )\n",
    "    tokenized_sentence_corrected = tokenizer(\n",
    "        sentence_corrected.lower().replace('ё', 'е')\n",
    "    )\n",
    "    # remove punctuation from source sentence and make mapping \n",
    "    # to initial indices\n",
    "    tokenized_sentence = []\n",
    "    indices_mapping = []\n",
    "    for i, token in enumerate(tokenized_sentence_raw):\n",
    "        if not re.fullmatch(f'[{punctuation}]+', token):\n",
    "            tokenized_sentence.append(token)\n",
    "            indices_mapping.append(i)\n",
    "    \n",
    "    alignment = align_sents(tokenized_sentence, tokenized_sentence_corrected)\n",
    "    \n",
    "    answer = {}\n",
    "    for i, pair in enumerate(alignment):\n",
    "        left_indices, right_indices = pair\n",
    "        if left_indices[1] - left_indices[0] > 1:\n",
    "            return None\n",
    "        \n",
    "        answer[indices_mapping[left_indices[0]]] = (\n",
    "            tokenized_sentence[left_indices[0]]\n",
    "            != detokenizer(\n",
    "                 tokenized_sentence_corrected[\n",
    "                     right_indices[0]:right_indices[1]]\n",
    "            )\n",
    "        )\n",
    "    return answer"
   ]
  },
  {
   "cell_type": "markdown",
   "metadata": {},
   "source": [
    "Выполняем действие над всеми предложениями в обучающем датасете."
   ]
  },
  {
   "cell_type": "code",
   "execution_count": 12,
   "metadata": {
    "ExecuteTime": {
     "end_time": "2021-02-08T08:44:30.945340Z",
     "start_time": "2021-02-08T08:44:26.092582Z"
    },
    "scrolled": true
   },
   "outputs": [],
   "source": [
    "succ_indices = []\n",
    "answers = {}\n",
    "for i, (sentence, sentence_corrected) in enumerate(\n",
    "    zip(sentences, sentences_corrected)\n",
    "):\n",
    "    answer = find_correction_positions(sentence, sentence_corrected)\n",
    "    if answer:\n",
    "        succ_indices.append(i)\n",
    "        answers[i] = answer\n",
    "        \n",
    "sentences_to_check = [sentences[idx] for idx in succ_indices]"
   ]
  },
  {
   "cell_type": "markdown",
   "metadata": {},
   "source": [
    "Мы уже знаем по ноутбуку `6.0-db-learning_advanced_scorer`, что нам не удастся так обработать 70 предложений."
   ]
  },
  {
   "cell_type": "markdown",
   "metadata": {},
   "source": [
    "Посмотрим, как выглядит элемент выборки."
   ]
  },
  {
   "cell_type": "code",
   "execution_count": 14,
   "metadata": {
    "ExecuteTime": {
     "end_time": "2021-02-08T08:44:31.049389Z",
     "start_time": "2021-02-08T08:44:31.001901Z"
    }
   },
   "outputs": [
    {
     "data": {
      "text/plain": [
       "{0: False, 1: False, 2: False, 3: True, 4: False, 5: True, 6: False}"
      ]
     },
     "execution_count": 14,
     "metadata": {},
     "output_type": "execute_result"
    }
   ],
   "source": [
    "answers[0]"
   ]
  },
  {
   "cell_type": "markdown",
   "metadata": {},
   "source": [
    "## Сбор обучающей выборки"
   ]
  },
  {
   "cell_type": "markdown",
   "metadata": {},
   "source": [
    "Теперь требуется собрать саму обучающую выборку. \n",
    "\n",
    "Пусть на вход подается некоторое предложение для исправления. В процессе работы модели position selector находит позиции для исправления. Наша задача &mdash; зафиксировать признаки попавших в position selector кандидатов.\n",
    "\n",
    "Такое сохранение будет сделано при помощи callback-функции после вызова candidate scorer. Она соберет кандидатов с их признками и запишет это в файл. Можно было бы реализовать сбор за счет введения дополнительной callback-функции после вызова position selector."
   ]
  },
  {
   "cell_type": "code",
   "execution_count": null,
   "metadata": {
    "ExecuteTime": {
     "end_time": "2021-02-07T19:46:45.768049Z",
     "start_time": "2021-02-07T19:46:45.708580Z"
    }
   },
   "outputs": [],
   "source": [
    "data = {}"
   ]
  },
  {
   "cell_type": "code",
   "execution_count": null,
   "metadata": {
    "ExecuteTime": {
     "end_time": "2021-02-07T19:46:45.834483Z",
     "start_time": "2021-02-07T19:46:45.771981Z"
    }
   },
   "outputs": [],
   "source": [
    "def create_callback_position_selector(num_batch):\n",
    "    def callback_position_selector(\n",
    "        tokenized_sentences, indices_processing_sentences, \n",
    "        candidates, positions, \n",
    "        scoring_results, scoring_info\n",
    "    ):\n",
    "        for num_sent, candidates_sentence in enumerate(candidates):\n",
    "            key = (num_batch, indices_processing_sentences[num_sent])\n",
    "            for position, candidates_position in enumerate(candidates_sentence):    \n",
    "                if key not in data:\n",
    "                    data[key] = []\n",
    "                data[key].append({\n",
    "                    'position': position,\n",
    "                    'candidates': deepcopy(candidates_position)\n",
    "                })\n",
    "    return callback_position_selector"
   ]
  },
  {
   "cell_type": "markdown",
   "metadata": {},
   "source": [
    "Проинициализируем модель."
   ]
  },
  {
   "cell_type": "code",
   "execution_count": null,
   "metadata": {
    "ExecuteTime": {
     "end_time": "2021-02-07T19:46:54.801209Z",
     "start_time": "2021-02-07T19:46:45.838683Z"
    }
   },
   "outputs": [],
   "source": [
    "vocab_path = os.path.join(DATA_PATH, 'external', 'russian_words', \n",
    "                          'russian_words_vocab.dict')\n",
    "vocab = SimpleVocabulary(load_path=vocab_path, save_path=vocab_path)\n",
    "handcode_table_path = os.path.join(DATA_PATH, 'processed', 'handcode_table', \n",
    "                                   'table.json')\n",
    "with open(handcode_table_path, 'r') as inf:\n",
    "    handcode_table = json.load(inf)\n",
    "candidate_generator = CandidateGenerator(\n",
    "    words=vocab.keys(), handcode_table=handcode_table, max_distance=1\n",
    ")"
   ]
  },
  {
   "cell_type": "markdown",
   "metadata": {},
   "source": [
    "Требуем, чтобы все кандидаты дошли до `callback`-функции."
   ]
  },
  {
   "cell_type": "code",
   "execution_count": null,
   "metadata": {
    "ExecuteTime": {
     "end_time": "2021-02-07T19:46:54.804621Z",
     "start_time": "2021-02-07T19:46:41.668Z"
    }
   },
   "outputs": [],
   "source": [
    "model_left_right = kenlm.LanguageModel(\n",
    "    os.path.join(MODEL_PATH, 'kenlm', 'left_right_3_100.arpa.binary')\n",
    ")\n",
    "model_right_left = kenlm.LanguageModel(\n",
    "    os.path.join(MODEL_PATH, 'kenlm', 'right_left_3_100.arpa.binary')\n",
    ")\n",
    "margin_border = np.log(0.9)\n",
    "position_selector = KenlmMarginPositionSelector(\n",
    "    model_left_right, model_right_left, margin_border=margin_border\n",
    ")"
   ]
  },
  {
   "cell_type": "code",
   "execution_count": null,
   "metadata": {
    "ExecuteTime": {
     "end_time": "2021-02-07T19:46:54.806223Z",
     "start_time": "2021-02-07T19:46:41.926Z"
    }
   },
   "outputs": [],
   "source": [
    "BERT_PATH = os.path.join(MODEL_PATH, 'conversational_rubert')\n",
    "config = BertConfig.from_json_file(\n",
    "    os.path.join(BERT_PATH, 'bert_config.json')\n",
    ")\n",
    "model = BertForMaskedLM.from_pretrained(\n",
    "    os.path.join(BERT_PATH, 'pytorch_model.bin'),\n",
    "    config=config\n",
    ")\n",
    "bert_tokenizer = BertTokenizer(os.path.join(BERT_PATH, 'vocab.txt'))\n",
    "bert_scorer_correction = BertScorerCorrection(model, bert_tokenizer)\n",
    "agg_subtoken_func = 'mean'\n",
    "bert_scorer = BertScorer(\n",
    "    bert_scorer_correction, agg_subtoken_func\n",
    ")\n",
    "candidate_scorer = CandidateScorer(bert_scorer)"
   ]
  },
  {
   "cell_type": "markdown",
   "metadata": {},
   "source": [
    "Ставим число итераций, равное одному, так как нам потребуется лишь один вызов, чтобы собрать всю необходимую информацию о кандидатах."
   ]
  },
  {
   "cell_type": "code",
   "execution_count": null,
   "metadata": {
    "ExecuteTime": {
     "end_time": "2021-02-07T19:46:54.810422Z",
     "start_time": "2021-02-07T19:46:44.160Z"
    }
   },
   "outputs": [],
   "source": [
    "# максимальное количество итераций\n",
    "max_it = 1\n",
    "\n",
    "spellchecker = IterativeSpellChecker(\n",
    "    candidate_generator,\n",
    "    position_selector,\n",
    "    candidate_scorer,\n",
    "    tokenizer,\n",
    "    detokenizer,\n",
    "    max_it=max_it\n",
    ")"
   ]
  },
  {
   "cell_type": "markdown",
   "metadata": {},
   "source": [
    "Запустим сбор обучающей выборки."
   ]
  },
  {
   "cell_type": "code",
   "execution_count": null,
   "metadata": {
    "ExecuteTime": {
     "end_time": "2021-02-07T19:46:54.812416Z",
     "start_time": "2021-02-07T19:46:46.543Z"
    }
   },
   "outputs": [],
   "source": [
    "batch_size = 5\n",
    "num_batches = int(np.ceil(len(sentences_to_check) / batch_size))\n",
    "\n",
    "for i in tqdm(range(num_batches)):\n",
    "    cur_sentences = sentences_to_check[i*batch_size:(i+1)*batch_size]\n",
    "    spellchecker(\n",
    "        cur_sentences,\n",
    "        callback_candidate_scorer=create_callback_position_selector(i)\n",
    "    )"
   ]
  },
  {
   "cell_type": "markdown",
   "metadata": {},
   "source": [
    "Переведем текущие индексы предложений в исходные и сохраним данные на диск."
   ]
  },
  {
   "cell_type": "code",
   "execution_count": null,
   "metadata": {
    "ExecuteTime": {
     "end_time": "2021-02-07T19:27:14.477878Z",
     "start_time": "2021-02-07T19:27:14.213203Z"
    }
   },
   "outputs": [],
   "source": [
    "data_adjusted = {}\n",
    "for key, value in data.items():\n",
    "    key_adjusted = succ_indices[key[0]*batch_size + key[1]]\n",
    "    data_adjusted[key_adjusted] = value\n",
    "    \n",
    "data = data_adjusted"
   ]
  },
  {
   "cell_type": "code",
   "execution_count": null,
   "metadata": {
    "ExecuteTime": {
     "end_time": "2021-02-07T19:27:15.461301Z",
     "start_time": "2021-02-07T19:27:14.982407Z"
    }
   },
   "outputs": [],
   "source": [
    "data_with_answers = {}\n",
    "for key, value in data.items():\n",
    "    new_value = []\n",
    "    for item in value:\n",
    "        new_item = copy(item)\n",
    "        if item['position'] in answers[key]:\n",
    "            new_item['answer'] = answers[key][item['position']]\n",
    "            new_value.append(new_item)\n",
    "    data_with_answers[key] = new_value\n",
    "    \n",
    "data = data_with_answers"
   ]
  },
  {
   "cell_type": "code",
   "execution_count": null,
   "metadata": {
    "ExecuteTime": {
     "end_time": "2021-02-07T19:27:15.994584Z",
     "start_time": "2021-02-07T19:27:15.464209Z"
    }
   },
   "outputs": [],
   "source": [
    "!mkdir -p ../data/processed/position_selector"
   ]
  },
  {
   "cell_type": "code",
   "execution_count": null,
   "metadata": {
    "ExecuteTime": {
     "end_time": "2021-02-07T19:27:20.886710Z",
     "start_time": "2021-02-07T19:27:16.898649Z"
    }
   },
   "outputs": [],
   "source": [
    "with open(os.path.join(DATA_PATH, 'processed', 'position_selector', 'data.bin'), 'wb') as ouf:\n",
    "    pickle.dump(data, ouf)"
   ]
  },
  {
   "cell_type": "markdown",
   "metadata": {},
   "source": [
    "### Аналитика"
   ]
  },
  {
   "cell_type": "markdown",
   "metadata": {},
   "source": [
    "Проведем небольшую аналитку по данным. Найдем:\n",
    "1. Среднее количество кандидатов.\n",
    "2. Количество предложений, которые надо оставить без исправлений.\n",
    "3. Средняя доля позиций, которые надо оставить без изменений.\n",
    "4. Количество предложений с ошибкой в первой позиции.\n",
    "5. Доля позиций с ошибкой. Позиция не является первой в предложении и оригинальный токен в ней\n",
    "    * написан строчными буквами \n",
    "    * начинается с заглавной буквы\n",
    "    * написан заглавными буквами"
   ]
  },
  {
   "cell_type": "code",
   "execution_count": 15,
   "metadata": {
    "ExecuteTime": {
     "end_time": "2021-02-08T08:44:36.987123Z",
     "start_time": "2021-02-08T08:44:34.756543Z"
    }
   },
   "outputs": [],
   "source": [
    "with open(os.path.join(DATA_PATH, 'processed', 'position_selector', 'data.bin'), 'rb') as inf:\n",
    "    data = pickle.load(inf)"
   ]
  },
  {
   "cell_type": "markdown",
   "metadata": {},
   "source": [
    "1). Среднее количество кандидатов."
   ]
  },
  {
   "cell_type": "code",
   "execution_count": 16,
   "metadata": {
    "ExecuteTime": {
     "end_time": "2021-02-08T08:44:37.073139Z",
     "start_time": "2021-02-08T08:44:36.990305Z"
    }
   },
   "outputs": [
    {
     "name": "stdout",
     "output_type": "stream",
     "text": [
      "Среднее количество кандидатов: 33.919\n"
     ]
    }
   ],
   "source": [
    "num_candidates = []\n",
    "for key, value in data.items():\n",
    "    for item in value:\n",
    "        num_candidates.append(len(item['candidates']))\n",
    "print(f'Среднее количество кандидатов: {np.mean(num_candidates):.3f}')"
   ]
  },
  {
   "cell_type": "markdown",
   "metadata": {},
   "source": [
    "2). Количество предложений, которые надо оставить без исправлений."
   ]
  },
  {
   "cell_type": "code",
   "execution_count": 17,
   "metadata": {
    "ExecuteTime": {
     "end_time": "2021-02-08T08:44:37.160256Z",
     "start_time": "2021-02-08T08:44:37.076800Z"
    }
   },
   "outputs": [
    {
     "name": "stdout",
     "output_type": "stream",
     "text": [
      "Количество предложений, которые надо оставить без исправлений: 805\n"
     ]
    }
   ],
   "source": [
    "is_correct = []\n",
    "for key, value in data.items():\n",
    "    sentence_answers = []\n",
    "    for item in value:\n",
    "        sentence_answers.append(item['answer'])\n",
    "    sentence_answers = np.array(sentence_answers)\n",
    "    is_correct.append(np.all(~sentence_answers))\n",
    "\n",
    "print(f'Количество предложений, которые надо оставить без исправлений: '\n",
    "      f'{np.sum(is_correct)}')"
   ]
  },
  {
   "cell_type": "markdown",
   "metadata": {
    "ExecuteTime": {
     "end_time": "2021-02-02T13:07:36.457619Z",
     "start_time": "2021-02-02T13:07:36.433Z"
    }
   },
   "source": [
    "Как видим, есть достаточно много предложений, которые надо оставить без каких-либо исправлений."
   ]
  },
  {
   "cell_type": "markdown",
   "metadata": {},
   "source": [
    "3). Средняя доля позиций, которые надо оставить без изменений."
   ]
  },
  {
   "cell_type": "code",
   "execution_count": 18,
   "metadata": {
    "ExecuteTime": {
     "end_time": "2021-02-08T08:44:37.281549Z",
     "start_time": "2021-02-08T08:44:37.163062Z"
    }
   },
   "outputs": [
    {
     "name": "stdout",
     "output_type": "stream",
     "text": [
      "Средняя доля позиций, которые надо оставить без изменений: 0.902\n"
     ]
    }
   ],
   "source": [
    "fraq_of_correct = []\n",
    "for key, value in data.items():\n",
    "    sentence_answers = []\n",
    "    for item in value:\n",
    "        sentence_answers.append(item['answer'])\n",
    "    fraq_of_correct.append(1-np.mean(sentence_answers))\n",
    "\n",
    "print(f'Средняя доля позиций, которые надо оставить без изменений: '\n",
    "      f'{np.mean(fraq_of_correct):.3f}')"
   ]
  },
  {
   "cell_type": "markdown",
   "metadata": {},
   "source": [
    "Как видим, в среднем без изменений надо оставить $90\\%$ позиций."
   ]
  },
  {
   "cell_type": "markdown",
   "metadata": {},
   "source": [
    "4). Количество предложений с ошибкой в первой позиции."
   ]
  },
  {
   "cell_type": "code",
   "execution_count": 19,
   "metadata": {
    "ExecuteTime": {
     "end_time": "2021-02-08T08:44:37.340501Z",
     "start_time": "2021-02-08T08:44:37.284890Z"
    }
   },
   "outputs": [
    {
     "name": "stdout",
     "output_type": "stream",
     "text": [
      "Количество предложений с исправлением в первой позиции: 674\n"
     ]
    }
   ],
   "source": [
    "is_correct = []\n",
    "for key, value in data.items():\n",
    "    item = value[0]\n",
    "    if item['position'] == 0:\n",
    "        is_correct.append(item['answer'])\n",
    "\n",
    "print(f'Количество предложений с исправлением в первой позиции: '\n",
    "      f'{np.sum(is_correct)}')"
   ]
  },
  {
   "cell_type": "markdown",
   "metadata": {},
   "source": [
    "Как видим, их достаточно много."
   ]
  },
  {
   "cell_type": "markdown",
   "metadata": {},
   "source": [
    "5). Доля позиций с ошибкой. Позиция не является первой в предложении, а написание оригинального токена варьируется."
   ]
  },
  {
   "cell_type": "code",
   "execution_count": 20,
   "metadata": {
    "ExecuteTime": {
     "end_time": "2021-02-08T08:44:37.417325Z",
     "start_time": "2021-02-08T08:44:37.343745Z"
    }
   },
   "outputs": [
    {
     "name": "stdout",
     "output_type": "stream",
     "text": [
      "Доля позиций с ошибкой (оригинальный токен строчными буквами) : 877/19875 ~ 0.044\n",
      "Доля позиций с ошибкой (оригинальный токен с заглавной буквы) : 6/478 ~ 0.013\n",
      "Доля позиций с ошибкой (оригинальный токен заглавными буквами) : 1/68 ~ 0.015\n"
     ]
    }
   ],
   "source": [
    "is_correct_lower = []\n",
    "is_correct_title = []\n",
    "is_correct_upper = []\n",
    "for key, value in data.items():\n",
    "    for item in value:\n",
    "        candidate = item['candidates'][0]\n",
    "        if not candidate['is_first']:\n",
    "            if candidate['is_lower']:\n",
    "                is_correct_lower.append(item['answer'])\n",
    "            if candidate['is_title']:\n",
    "                is_correct_title.append(item['answer'])\n",
    "            if candidate['is_upper']:\n",
    "                is_correct_upper.append(item['answer'])\n",
    "\n",
    "print(f'Доля позиций с ошибкой (оригинальный токен строчными буквами) : '\n",
    "      f'{np.sum(is_correct_lower)}/{len(is_correct_lower)} ~ '\n",
    "      f'{np.mean(is_correct_lower):.3f}')\n",
    "print(f'Доля позиций с ошибкой (оригинальный токен с заглавной буквы) : '\n",
    "      f'{np.sum(is_correct_title)}/{len(is_correct_title)} ~ '\n",
    "      f'{np.mean(is_correct_title):.3f}')\n",
    "print(f'Доля позиций с ошибкой (оригинальный токен заглавными буквами) : '\n",
    "      f'{np.sum(is_correct_upper)}/{len(is_correct_upper)} ~ '\n",
    "      f'{np.mean(is_correct_upper):.3f}')"
   ]
  },
  {
   "cell_type": "markdown",
   "metadata": {
    "ExecuteTime": {
     "end_time": "2021-02-06T10:18:15.914529Z",
     "start_time": "2021-02-06T10:18:15.866020Z"
    }
   },
   "source": [
    "Видим, что доля позиций с ошибками в случае написания с большой буквы отличается. В некоторой степени ошибками в словах с заглавной буквы можно пренебречь, так как их достаточно мало."
   ]
  },
  {
   "cell_type": "markdown",
   "metadata": {},
   "source": [
    "## Обучение модели"
   ]
  },
  {
   "cell_type": "markdown",
   "metadata": {},
   "source": [
    "Теперь обучим модель. Будем решать задачу классификации, потому что хотим уметь классифицировать позиции.\n",
    "\n",
    "В качестве итоговой метрики хочется взять recall, но тогда за лучшее решение &mdash; сойдет константа, которая все позиции будет считать необходимыми для коррекции, что сильно замедлит работу модели, так как ей придется проверять каждую позицию на исправления. В таком случае, требуется некий компромисс. Возьмем \n",
    "\n",
    "$$\n",
    "F_{\\beta} = (1 + \\beta^2) \\frac{precision \\cdot recall}{(\\beta^2 \\cdot precision) + recall}.\n",
    "$$\n",
    "\n",
    "В такой постановке:\n",
    "* $0 < \\beta < 1 \\implies$ важнее precision;\n",
    "* $\\beta = 1 \\implies$ среднее гармоническое, то есть $F_1$-мера;\n",
    "* $1 < \\beta < +\\infty \\implies$ важнее recall.\n",
    "\n",
    "Нам важнее recall, поэтому возьмем $F_4$. "
   ]
  },
  {
   "cell_type": "markdown",
   "metadata": {},
   "source": [
    "### Подготовка датафрейма"
   ]
  },
  {
   "cell_type": "markdown",
   "metadata": {},
   "source": [
    "Начнем с создания датафрейма с генерацией некоторых признаков. Используемые признаки:\n",
    "1. Общие признаки позиции:\n",
    "    * `is_title` &mdash; начинается ли исходный токен в этой позиции с заглавной буквы;\n",
    "    * `is_upper` &mdash; написан ли весь исходный токен в этой позиции заглавными буквами;\n",
    "    * `is_lower` &mdash; написан ли весь исходный токен в этой позиции строчными буквами;\n",
    "    * `is_first` &mdash; является ли эта позиция первой в предложении.\n",
    "    * `is_title_not_is_first` &mdash; конъюнкция признаков `is_title` и отрицания признака `is_first`.\n",
    "2. `num_candidates` &mdash; количество кандидатов.\n",
    "3. Частоты различных источников кандидатов:\n",
    "    * `freq_levenshtein_searcher` &mdash; доля кандидатов из `levenshtein_searcher`;\n",
    "    * `freq_phonetic_searcher` &mdash; доля кандидатов из `phonetic_searcher`;\n",
    "    * `freq_handcode_searcher` &mdash; доля кандидатов из `handcode_searcher`.\n",
    "4. Признаки текущего кандидата:\n",
    "    * `is_current_contains_hyphen` &mdash; содержит ли текущий токен дефис;\n",
    "    * `current_kenlm_left_right_score` &mdash; kenlm-скор текущего токена для модели слева-направо;\n",
    "    * `current_kenlm_right_left_score` &mdash; kenlm-скор текущего токена для модели справа-налево;\n",
    "    * `current_kenlm_agg_score` &mdash; аггрегированный kenlm-скор для текущего токена.\n",
    "5. Признаки kenlm:\n",
    "    * `freq_kenlm_left_right_better_current` &mdash; доля кандидатов, лучших, чем текущий согласно модели kenlm слева-направо; \n",
    "    * `margin_kenlm_left_right_score` &mdash; зазор между лучшим и текущим кандидатами согласно модели kenlm слева-направо;\n",
    "    * `freq_kenlm_right_left_better_current` &mdash; доля кандидатов, лучших, чем текущий согласно модели kenlm справа-налево; \n",
    "    * `margin_kenlm_right_left_score` &mdash; зазор между лучшим и текущим кандидатами согласно модели kenlm справа-налево;\n",
    "    * `freq_kenlm_agg_better_current` &mdash; доля кандидатов, лучших, чем текущий согласно аггрегированным скорам kenlm; \n",
    "    * `margin_kenlm_agg_score` &mdash; зазор между лучшим и текущим кандидатами согласно аггрегированным скорам kenlm."
   ]
  },
  {
   "cell_type": "code",
   "execution_count": 21,
   "metadata": {
    "ExecuteTime": {
     "end_time": "2021-02-08T08:44:43.613567Z",
     "start_time": "2021-02-08T08:44:37.634219Z"
    }
   },
   "outputs": [],
   "source": [
    "df_dict = defaultdict(lambda: list())\n",
    "\n",
    "for key, sentence_data in data.items():\n",
    "    for position_data in sentence_data:\n",
    "        df_dict['answer'].append(position_data['answer'])\n",
    "        candidate = position_data['candidates'][0]\n",
    "        df_dict['is_title'].append(candidate['is_title'])\n",
    "        df_dict['is_upper'].append(candidate['is_upper'])\n",
    "        df_dict['is_lower'].append(candidate['is_lower'])\n",
    "        df_dict['is_first'].append(candidate['is_first'])\n",
    "        df_dict['is_title_not_is_first'].append(\n",
    "            candidate['is_title'] and not candidate['is_first']\n",
    "        )\n",
    "        \n",
    "        df_dict['num_candidates'].append(len(position_data['candidates']))\n",
    "        \n",
    "        current_candidate = next((\n",
    "            candidate for candidate in position_data['candidates'] \n",
    "            if candidate['is_current']\n",
    "        ))\n",
    "        df_dict['is_current_contains_hyphen'].append(\n",
    "            current_candidate['contains_hyphen']\n",
    "        )\n",
    "        df_dict['current_kenlm_left_right_score'].append(\n",
    "            current_candidate['kenlm_left_right_score']\n",
    "        )\n",
    "        df_dict['current_kenlm_right_left_score'].append(\n",
    "            current_candidate['kenlm_right_left_score']\n",
    "        )\n",
    "        df_dict['current_kenlm_agg_score'].append(\n",
    "            current_candidate['kenlm_agg_score']\n",
    "        )\n",
    "        \n",
    "        from_levenshtein = []\n",
    "        from_phonetic = []\n",
    "        from_handcode = []\n",
    "        kenlm_left_right_better = []\n",
    "        kenlm_right_left_better = []\n",
    "        kenlm_agg_better = []\n",
    "        margin_kenlm_left_right = 0\n",
    "        margin_kenlm_right_left = 0\n",
    "        margin_kenlm_agg = 0\n",
    "        for candidate in position_data['candidates']:\n",
    "            from_levenshtein.append(candidate['from_levenshtein_searcher'])\n",
    "            from_phonetic.append(candidate['from_phonetic_searcher'])\n",
    "            from_handcode.append(candidate['from_handcode_searcher'])\n",
    "            kenlm_left_right_better.append(\n",
    "                candidate['kenlm_left_right_score'] \n",
    "                > current_candidate['kenlm_left_right_score']\n",
    "            )\n",
    "            kenlm_right_left_better.append(\n",
    "                candidate['kenlm_right_left_score'] \n",
    "                > current_candidate['kenlm_right_left_score']\n",
    "            )\n",
    "            kenlm_agg_better.append(\n",
    "                candidate['kenlm_agg_score'] \n",
    "                > current_candidate['kenlm_agg_score']\n",
    "            )\n",
    "            margin_kenlm_left_right = max(\n",
    "                margin_kenlm_left_right, \n",
    "                candidate['kenlm_left_right_score'] \n",
    "                - current_candidate['kenlm_left_right_score']\n",
    "            )\n",
    "            margin_kenlm_right_left = max(\n",
    "                margin_kenlm_right_left, \n",
    "                candidate['kenlm_right_left_score'] \n",
    "                - current_candidate['kenlm_right_left_score']\n",
    "            )\n",
    "            margin_kenlm_agg = max(\n",
    "                margin_kenlm_agg, \n",
    "                candidate['kenlm_agg_score'] \n",
    "                - current_candidate['kenlm_agg_score']\n",
    "            )\n",
    "        \n",
    "        df_dict['freq_levenshtein_searcher'].append(np.mean(from_levenshtein))\n",
    "        df_dict['freq_phonetic_searcher'].append(np.mean(from_phonetic))\n",
    "        df_dict['freq_handcode_searcher'].append(np.mean(from_handcode))\n",
    "        df_dict['freq_kenlm_left_right_better_current'].append(\n",
    "            np.mean(kenlm_left_right_better)\n",
    "        )\n",
    "        df_dict['freq_kenlm_right_left_better_current'].append(\n",
    "            np.mean(kenlm_right_left_better)\n",
    "        )\n",
    "        df_dict['freq_kenlm_agg_better_current'].append(\n",
    "            np.mean(kenlm_agg_better)\n",
    "        )\n",
    "        df_dict['margin_kenlm_left_right_score'].append(\n",
    "            margin_kenlm_left_right\n",
    "        )\n",
    "        df_dict['margin_kenlm_right_left_score'].append(\n",
    "            margin_kenlm_right_left\n",
    "        )\n",
    "        df_dict['margin_kenlm_agg_score'].append(\n",
    "            margin_kenlm_agg\n",
    "        )"
   ]
  },
  {
   "cell_type": "code",
   "execution_count": 22,
   "metadata": {
    "ExecuteTime": {
     "end_time": "2021-02-08T08:44:43.796426Z",
     "start_time": "2021-02-08T08:44:43.617286Z"
    }
   },
   "outputs": [
    {
     "data": {
      "text/html": [
       "<div>\n",
       "<style scoped>\n",
       "    .dataframe tbody tr th:only-of-type {\n",
       "        vertical-align: middle;\n",
       "    }\n",
       "\n",
       "    .dataframe tbody tr th {\n",
       "        vertical-align: top;\n",
       "    }\n",
       "\n",
       "    .dataframe thead th {\n",
       "        text-align: right;\n",
       "    }\n",
       "</style>\n",
       "<table border=\"1\" class=\"dataframe\">\n",
       "  <thead>\n",
       "    <tr style=\"text-align: right;\">\n",
       "      <th></th>\n",
       "      <th>answer</th>\n",
       "      <th>is_title</th>\n",
       "      <th>is_upper</th>\n",
       "      <th>is_lower</th>\n",
       "      <th>is_first</th>\n",
       "      <th>is_title_not_is_first</th>\n",
       "      <th>num_candidates</th>\n",
       "      <th>is_current_contains_hyphen</th>\n",
       "      <th>current_kenlm_left_right_score</th>\n",
       "      <th>current_kenlm_right_left_score</th>\n",
       "      <th>current_kenlm_agg_score</th>\n",
       "      <th>freq_levenshtein_searcher</th>\n",
       "      <th>freq_phonetic_searcher</th>\n",
       "      <th>freq_handcode_searcher</th>\n",
       "      <th>freq_kenlm_left_right_better_current</th>\n",
       "      <th>freq_kenlm_right_left_better_current</th>\n",
       "      <th>freq_kenlm_agg_better_current</th>\n",
       "      <th>margin_kenlm_left_right_score</th>\n",
       "      <th>margin_kenlm_right_left_score</th>\n",
       "      <th>margin_kenlm_agg_score</th>\n",
       "    </tr>\n",
       "  </thead>\n",
       "  <tbody>\n",
       "    <tr>\n",
       "      <th>0</th>\n",
       "      <td>False</td>\n",
       "      <td>False</td>\n",
       "      <td>False</td>\n",
       "      <td>True</td>\n",
       "      <td>True</td>\n",
       "      <td>False</td>\n",
       "      <td>21</td>\n",
       "      <td>False</td>\n",
       "      <td>-3.023839</td>\n",
       "      <td>-2.291227</td>\n",
       "      <td>-2.607042</td>\n",
       "      <td>0.761905</td>\n",
       "      <td>0.285714</td>\n",
       "      <td>0.0</td>\n",
       "      <td>0.000000</td>\n",
       "      <td>0.000000</td>\n",
       "      <td>0.000000</td>\n",
       "      <td>0.000000</td>\n",
       "      <td>0.000000</td>\n",
       "      <td>0.000000</td>\n",
       "    </tr>\n",
       "    <tr>\n",
       "      <th>1</th>\n",
       "      <td>False</td>\n",
       "      <td>False</td>\n",
       "      <td>False</td>\n",
       "      <td>True</td>\n",
       "      <td>False</td>\n",
       "      <td>False</td>\n",
       "      <td>20</td>\n",
       "      <td>False</td>\n",
       "      <td>-3.782044</td>\n",
       "      <td>-3.033151</td>\n",
       "      <td>-3.366451</td>\n",
       "      <td>0.250000</td>\n",
       "      <td>0.750000</td>\n",
       "      <td>0.0</td>\n",
       "      <td>0.000000</td>\n",
       "      <td>0.000000</td>\n",
       "      <td>0.000000</td>\n",
       "      <td>0.000000</td>\n",
       "      <td>0.000000</td>\n",
       "      <td>0.000000</td>\n",
       "    </tr>\n",
       "    <tr>\n",
       "      <th>2</th>\n",
       "      <td>False</td>\n",
       "      <td>False</td>\n",
       "      <td>False</td>\n",
       "      <td>True</td>\n",
       "      <td>False</td>\n",
       "      <td>False</td>\n",
       "      <td>38</td>\n",
       "      <td>False</td>\n",
       "      <td>-2.843976</td>\n",
       "      <td>-4.770748</td>\n",
       "      <td>-3.563595</td>\n",
       "      <td>0.710526</td>\n",
       "      <td>0.342105</td>\n",
       "      <td>0.0</td>\n",
       "      <td>0.026316</td>\n",
       "      <td>0.000000</td>\n",
       "      <td>0.026316</td>\n",
       "      <td>0.344630</td>\n",
       "      <td>0.000000</td>\n",
       "      <td>0.111646</td>\n",
       "    </tr>\n",
       "    <tr>\n",
       "      <th>3</th>\n",
       "      <td>True</td>\n",
       "      <td>False</td>\n",
       "      <td>False</td>\n",
       "      <td>True</td>\n",
       "      <td>False</td>\n",
       "      <td>False</td>\n",
       "      <td>7</td>\n",
       "      <td>False</td>\n",
       "      <td>-7.820433</td>\n",
       "      <td>-8.266124</td>\n",
       "      <td>-8.037104</td>\n",
       "      <td>0.857143</td>\n",
       "      <td>0.000000</td>\n",
       "      <td>0.0</td>\n",
       "      <td>0.285714</td>\n",
       "      <td>0.285714</td>\n",
       "      <td>0.285714</td>\n",
       "      <td>4.302948</td>\n",
       "      <td>3.530869</td>\n",
       "      <td>3.997098</td>\n",
       "    </tr>\n",
       "    <tr>\n",
       "      <th>4</th>\n",
       "      <td>False</td>\n",
       "      <td>False</td>\n",
       "      <td>False</td>\n",
       "      <td>True</td>\n",
       "      <td>False</td>\n",
       "      <td>False</td>\n",
       "      <td>50</td>\n",
       "      <td>False</td>\n",
       "      <td>-2.005364</td>\n",
       "      <td>-2.042550</td>\n",
       "      <td>-2.023786</td>\n",
       "      <td>0.500000</td>\n",
       "      <td>0.620000</td>\n",
       "      <td>0.0</td>\n",
       "      <td>0.000000</td>\n",
       "      <td>0.000000</td>\n",
       "      <td>0.000000</td>\n",
       "      <td>0.000000</td>\n",
       "      <td>0.000000</td>\n",
       "      <td>0.000000</td>\n",
       "    </tr>\n",
       "  </tbody>\n",
       "</table>\n",
       "</div>"
      ],
      "text/plain": [
       "   answer  is_title  is_upper  is_lower  is_first  is_title_not_is_first  \\\n",
       "0   False     False     False      True      True                  False   \n",
       "1   False     False     False      True     False                  False   \n",
       "2   False     False     False      True     False                  False   \n",
       "3    True     False     False      True     False                  False   \n",
       "4   False     False     False      True     False                  False   \n",
       "\n",
       "   num_candidates  is_current_contains_hyphen  current_kenlm_left_right_score  \\\n",
       "0              21                       False                       -3.023839   \n",
       "1              20                       False                       -3.782044   \n",
       "2              38                       False                       -2.843976   \n",
       "3               7                       False                       -7.820433   \n",
       "4              50                       False                       -2.005364   \n",
       "\n",
       "   current_kenlm_right_left_score  current_kenlm_agg_score  \\\n",
       "0                       -2.291227                -2.607042   \n",
       "1                       -3.033151                -3.366451   \n",
       "2                       -4.770748                -3.563595   \n",
       "3                       -8.266124                -8.037104   \n",
       "4                       -2.042550                -2.023786   \n",
       "\n",
       "   freq_levenshtein_searcher  freq_phonetic_searcher  freq_handcode_searcher  \\\n",
       "0                   0.761905                0.285714                     0.0   \n",
       "1                   0.250000                0.750000                     0.0   \n",
       "2                   0.710526                0.342105                     0.0   \n",
       "3                   0.857143                0.000000                     0.0   \n",
       "4                   0.500000                0.620000                     0.0   \n",
       "\n",
       "   freq_kenlm_left_right_better_current  freq_kenlm_right_left_better_current  \\\n",
       "0                              0.000000                              0.000000   \n",
       "1                              0.000000                              0.000000   \n",
       "2                              0.026316                              0.000000   \n",
       "3                              0.285714                              0.285714   \n",
       "4                              0.000000                              0.000000   \n",
       "\n",
       "   freq_kenlm_agg_better_current  margin_kenlm_left_right_score  \\\n",
       "0                       0.000000                       0.000000   \n",
       "1                       0.000000                       0.000000   \n",
       "2                       0.026316                       0.344630   \n",
       "3                       0.285714                       4.302948   \n",
       "4                       0.000000                       0.000000   \n",
       "\n",
       "   margin_kenlm_right_left_score  margin_kenlm_agg_score  \n",
       "0                       0.000000                0.000000  \n",
       "1                       0.000000                0.000000  \n",
       "2                       0.000000                0.111646  \n",
       "3                       3.530869                3.997098  \n",
       "4                       0.000000                0.000000  "
      ]
     },
     "execution_count": 22,
     "metadata": {},
     "output_type": "execute_result"
    }
   ],
   "source": [
    "df = pd.DataFrame(df_dict)\n",
    "df.head()"
   ]
  },
  {
   "cell_type": "code",
   "execution_count": 23,
   "metadata": {
    "ExecuteTime": {
     "end_time": "2021-02-08T08:44:43.844855Z",
     "start_time": "2021-02-08T08:44:43.799418Z"
    }
   },
   "outputs": [
    {
     "data": {
      "text/plain": [
       "(22477, 20)"
      ]
     },
     "execution_count": 23,
     "metadata": {},
     "output_type": "execute_result"
    }
   ],
   "source": [
    "df.shape"
   ]
  },
  {
   "cell_type": "code",
   "execution_count": 24,
   "metadata": {
    "ExecuteTime": {
     "end_time": "2021-02-08T08:44:43.886641Z",
     "start_time": "2021-02-08T08:44:43.847633Z"
    }
   },
   "outputs": [],
   "source": [
    "y = df['answer'].astype(int)\n",
    "X = df.drop(columns=['answer'])"
   ]
  },
  {
   "cell_type": "markdown",
   "metadata": {},
   "source": [
    "### `KenlmPositionSelector`"
   ]
  },
  {
   "cell_type": "markdown",
   "metadata": {},
   "source": [
    "Сначала посмотрим, какое качество можно получить, используя уже известный нам `KenlmPositionSelector`. Поварьируем параметр `margin_border` и посмотрим на динамику precision, recall, $F_4$."
   ]
  },
  {
   "cell_type": "code",
   "execution_count": 25,
   "metadata": {
    "ExecuteTime": {
     "end_time": "2021-02-08T08:44:46.225375Z",
     "start_time": "2021-02-08T08:44:43.894535Z"
    }
   },
   "outputs": [],
   "source": [
    "margin_borders_exp = np.linspace(1.05, 3, 100)\n",
    "margin_borders = np.log(margin_borders_exp)\n",
    "precision_values = []\n",
    "recall_values = []\n",
    "fbeta_values = []\n",
    "\n",
    "for margin_border in margin_borders:\n",
    "    answer = df['answer']\n",
    "    prediction = df['margin_kenlm_agg_score'] > margin_border\n",
    "    precision_values.append(precision_score(answer, prediction))\n",
    "    recall_values.append(recall_score(answer, prediction))\n",
    "    fbeta_values.append(fbeta_score(answer, prediction, beta=4))"
   ]
  },
  {
   "cell_type": "code",
   "execution_count": 26,
   "metadata": {
    "ExecuteTime": {
     "end_time": "2021-02-08T08:44:47.126116Z",
     "start_time": "2021-02-08T08:44:46.227536Z"
    }
   },
   "outputs": [
    {
     "data": {
      "image/png": "[encoded data removed]",
      "text/plain": [
       "<Figure size 864x432 with 1 Axes>"
      ]
     },
     "metadata": {},
     "output_type": "display_data"
    }
   ],
   "source": [
    "plt.figure(figsize=(12, 6))\n",
    "plt.plot(margin_borders_exp, precision_values, label='precision')\n",
    "plt.plot(margin_borders_exp, recall_values, label='recall')\n",
    "plt.plot(margin_borders_exp, fbeta_values, label='$F_4$')\n",
    "plt.title('Зависимость метрик от границы')\n",
    "plt.xlabel('Граница')\n",
    "plt.ylabel('Значение метрики')\n",
    "legend_box = plt.legend(framealpha=1).get_frame()\n",
    "legend_box.set_facecolor(\"white\")\n",
    "legend_box.set_edgecolor(\"black\")\n",
    "plt.show()"
   ]
  },
  {
   "cell_type": "markdown",
   "metadata": {},
   "source": [
    "Найдем оптимальное значение `margin_border`."
   ]
  },
  {
   "cell_type": "code",
   "execution_count": 27,
   "metadata": {
    "ExecuteTime": {
     "end_time": "2021-02-08T08:44:47.174405Z",
     "start_time": "2021-02-08T08:44:47.130225Z"
    }
   },
   "outputs": [
    {
     "name": "stdout",
     "output_type": "stream",
     "text": [
      "Лучший кандидат должен превосходить текущего в 2.842 раза\n",
      "Лучшее значение F_4: 0.8712\n",
      "Соответствующее значение precision: 0.6329\n",
      "Соответствующее значение recall: 0.8922\n"
     ]
    }
   ],
   "source": [
    "best_idx = np.argmax(fbeta_values)\n",
    "margin_border_exp_optimal = margin_borders_exp[best_idx]\n",
    "print(f'Лучший кандидат должен превосходить текущего '\n",
    "      f'в {margin_border_exp_optimal:.3f} раза')\n",
    "print(f'Лучшее значение F_4: {fbeta_values[best_idx]:.4f}')\n",
    "print(f'Соответствующее значение precision: {precision_values[best_idx]:.4f}')\n",
    "print(f'Соответствующее значение recall: {recall_values[best_idx]:.4f}')"
   ]
  },
  {
   "cell_type": "markdown",
   "metadata": {},
   "source": [
    "Как видим, текущий скор уже выглядит достаточно хорошо, но интересно узнать насколько его можно улучшить."
   ]
  },
  {
   "cell_type": "markdown",
   "metadata": {},
   "source": [
    "Проведем также аналогичный эксперимент, но с игнорированием позиций, где слова начинаются с заглавной буквы (за исключением первой позиции)."
   ]
  },
  {
   "cell_type": "code",
   "execution_count": 28,
   "metadata": {
    "ExecuteTime": {
     "end_time": "2021-02-08T08:44:49.589474Z",
     "start_time": "2021-02-08T08:44:47.179259Z"
    }
   },
   "outputs": [],
   "source": [
    "margin_borders_exp = np.linspace(1.05, 3, 100)\n",
    "margin_borders = np.log(margin_borders_exp)\n",
    "precision_values = []\n",
    "recall_values = []\n",
    "fbeta_values = []\n",
    "\n",
    "for margin_border in margin_borders:\n",
    "    answer = df['answer']\n",
    "    prediction = (\n",
    "        (df['margin_kenlm_agg_score'] > margin_border)\n",
    "        & ~(df['is_title'] & ~df['is_first'])\n",
    "    )\n",
    "    precision_values.append(precision_score(answer, prediction))\n",
    "    recall_values.append(recall_score(answer, prediction))\n",
    "    fbeta_values.append(fbeta_score(answer, prediction, beta=4))"
   ]
  },
  {
   "cell_type": "code",
   "execution_count": 29,
   "metadata": {
    "ExecuteTime": {
     "end_time": "2021-02-08T08:44:49.634047Z",
     "start_time": "2021-02-08T08:44:49.593591Z"
    }
   },
   "outputs": [
    {
     "name": "stdout",
     "output_type": "stream",
     "text": [
      "Лучший кандидат должен превосходить текущего в 2.842 раза\n",
      "Лучшее значение F_4: 0.8708\n",
      "Соответствующее значение precision: 0.6498\n",
      "Соответствующее значение recall: 0.8897\n"
     ]
    }
   ],
   "source": [
    "best_idx = np.argmax(fbeta_values)\n",
    "margin_border_exp_optimal = margin_borders_exp[best_idx]\n",
    "print(f'Лучший кандидат должен превосходить текущего '\n",
    "      f'в {margin_border_exp_optimal:.3f} раза')\n",
    "print(f'Лучшее значение F_4: {fbeta_values[best_idx]:.4f}')\n",
    "print(f'Соответствующее значение precision: {precision_values[best_idx]:.4f}')\n",
    "print(f'Соответствующее значение recall: {recall_values[best_idx]:.4f}')"
   ]
  },
  {
   "cell_type": "markdown",
   "metadata": {},
   "source": [
    "Как видим, стратегия с игнорированием слов, написанных с большой буквы не очень хороша, но учитывать этот признак все же стоит."
   ]
  },
  {
   "cell_type": "markdown",
   "metadata": {},
   "source": [
    "### Logistic Regression"
   ]
  },
  {
   "cell_type": "markdown",
   "metadata": {},
   "source": [
    "Попробуем решать задачу классификации, для каждой позиции предсказывая требует она исправления или нет. Так как нам в дальнейшем потребуется настройка разделяющей плоскости, воспользуемся механизмом взвешивания классов. Опытным путем было получено, что почти оптимально поиском по сетке выйдет взять `class_weight='balanced'`."
   ]
  },
  {
   "cell_type": "code",
   "execution_count": 30,
   "metadata": {
    "ExecuteTime": {
     "end_time": "2021-02-08T08:44:49.682934Z",
     "start_time": "2021-02-08T08:44:49.638070Z"
    }
   },
   "outputs": [],
   "source": [
    "def f4_score_func(y_true, y_pred):\n",
    "    return fbeta_score(y_true, y_pred, beta=4)\n",
    "\n",
    "f4_scorer = make_scorer(f4_score_func)"
   ]
  },
  {
   "cell_type": "code",
   "execution_count": 31,
   "metadata": {
    "ExecuteTime": {
     "end_time": "2021-02-08T08:44:55.128237Z",
     "start_time": "2021-02-08T08:44:49.686193Z"
    },
    "scrolled": true
   },
   "outputs": [],
   "source": [
    "model = Pipeline(\n",
    "    [('scaler', StandardScaler()), \n",
    "     ('log_reg', LogisticRegression(\n",
    "         random_state=42, class_weight='balanced', solver='liblinear'\n",
    "     ))]\n",
    ")\n",
    "kf = KFold(n_splits=10, shuffle=True, random_state=42)\n",
    "f4 = cross_val_score(model, X, y, scoring=f4_scorer, cv=kf).mean()\n",
    "validation_results = cross_validate(\n",
    "    model, X, y, scoring=['precision', 'recall'], cv=kf\n",
    ")\n",
    "precision = validation_results['test_precision'].mean()\n",
    "recall = validation_results['test_recall'].mean()"
   ]
  },
  {
   "cell_type": "code",
   "execution_count": 32,
   "metadata": {
    "ExecuteTime": {
     "end_time": "2021-02-08T08:44:55.175947Z",
     "start_time": "2021-02-08T08:44:55.130990Z"
    }
   },
   "outputs": [
    {
     "name": "stdout",
     "output_type": "stream",
     "text": [
      "F_4: 0.9397\n",
      "Precision: 0.7243\n",
      "Recall: 0.9577\n"
     ]
    }
   ],
   "source": [
    "print(f'F_4: {f4:.4f}')\n",
    "print(f'Precision: {precision:.4f}')\n",
    "print(f'Recall: {recall:.4f}')"
   ]
  },
  {
   "cell_type": "markdown",
   "metadata": {},
   "source": [
    "Обучим модель на всех данных и сохраним ее."
   ]
  },
  {
   "cell_type": "code",
   "execution_count": 33,
   "metadata": {
    "ExecuteTime": {
     "end_time": "2021-02-08T08:44:55.559105Z",
     "start_time": "2021-02-08T08:44:55.179013Z"
    }
   },
   "outputs": [
    {
     "data": {
      "text/plain": [
       "Pipeline(steps=[('scaler', StandardScaler()),\n",
       "                ('log_reg',\n",
       "                 LogisticRegression(class_weight='balanced', random_state=42,\n",
       "                                    solver='liblinear'))])"
      ]
     },
     "execution_count": 33,
     "metadata": {},
     "output_type": "execute_result"
    }
   ],
   "source": [
    "model = Pipeline(\n",
    "    [('scaler', StandardScaler()), \n",
    "     ('log_reg', LogisticRegression(\n",
    "         random_state=42, class_weight='balanced', solver='liblinear'\n",
    "     ))]\n",
    ")\n",
    "model.fit(X, y)"
   ]
  },
  {
   "cell_type": "code",
   "execution_count": 34,
   "metadata": {
    "ExecuteTime": {
     "end_time": "2021-02-08T08:44:55.790547Z",
     "start_time": "2021-02-08T08:44:55.562717Z"
    }
   },
   "outputs": [],
   "source": [
    "!mkdir -p ../models/position_selector"
   ]
  },
  {
   "cell_type": "code",
   "execution_count": 35,
   "metadata": {
    "ExecuteTime": {
     "end_time": "2021-02-08T08:44:55.884559Z",
     "start_time": "2021-02-08T08:44:55.795792Z"
    }
   },
   "outputs": [],
   "source": [
    "with open(os.path.join(MODEL_PATH, 'position_selector', 'log_reg.bin'), 'wb') as ouf:\n",
    "    pickle.dump(model, ouf)"
   ]
  },
  {
   "cell_type": "markdown",
   "metadata": {},
   "source": [
    "Посмотрим на веса коэффициентов в модели:"
   ]
  },
  {
   "cell_type": "code",
   "execution_count": 36,
   "metadata": {
    "ExecuteTime": {
     "end_time": "2021-02-08T08:44:55.940095Z",
     "start_time": "2021-02-08T08:44:55.888357Z"
    }
   },
   "outputs": [
    {
     "name": "stdout",
     "output_type": "stream",
     "text": [
      "is_title: 0.164\n",
      "is_upper: -0.216\n",
      "is_lower: 0.445\n",
      "is_first: 0.529\n",
      "is_title_not_is_first: -0.405\n",
      "num_candidates: -0.203\n",
      "is_current_contains_hyphen: -0.061\n",
      "current_kenlm_left_right_score: -0.947\n",
      "current_kenlm_right_left_score: -0.940\n",
      "current_kenlm_agg_score: 0.812\n",
      "freq_levenshtein_searcher: -0.926\n",
      "freq_phonetic_searcher: -0.672\n",
      "freq_handcode_searcher: 2.871\n",
      "freq_kenlm_left_right_better_current: -0.047\n",
      "freq_kenlm_right_left_better_current: -0.077\n",
      "freq_kenlm_agg_better_current: 0.039\n",
      "margin_kenlm_left_right_score: 1.049\n",
      "margin_kenlm_right_left_score: 1.116\n",
      "margin_kenlm_agg_score: 0.430\n"
     ]
    }
   ],
   "source": [
    "for coef, feature_name in zip(model['log_reg'].coef_.ravel(), X.columns.tolist()):\n",
    "    print(f'{feature_name}: {coef:.3f}')"
   ]
  },
  {
   "cell_type": "markdown",
   "metadata": {},
   "source": [
    "1. Если в позиции стояло слово, начинающееся с заглавной буквы и не являющееся первым, то мы меньше думаем о том, что в этой позиции стоит делать исправление.\n",
    "2. Коэффициент перед признаком `is_first` указывает на то, что первое слово имеет смысл исправлять чаще.\n",
    "3. Коэффициент перед признаком `num_candidates` указывает на то, что если имеем много кандидатов, то, мы с меньшей вероятностью уверены в том, что в этой позиции ошибка. Наверное, если слово написано с ошибкой, то существует меньше способов его изменить, чем слово, написанное без ошибки.\n",
    "4. Коэффициенты перед скорами kenlm выглядят противоречиво.\n",
    "5. Видим сильное внимание к модели, если в списке кандидатов есть кандидат из `handcode_searcher`.\n",
    "6. Видим слабое влияние признаков, отвечающих за частоту, с которой различные кандидаты лучше текущего согласно kenlm.\n",
    "7. Видим достаточно большую значимость признаков, указывающих на зазор между текущим кандидатом и лучшим согласно kenlm."
   ]
  },
  {
   "cell_type": "markdown",
   "metadata": {},
   "source": [
    "### CatBoost"
   ]
  },
  {
   "cell_type": "markdown",
   "metadata": {},
   "source": [
    "Теперь попробуем обучить модель CatBoost. Для этого сначала придется определить кастомную метрику."
   ]
  },
  {
   "cell_type": "code",
   "execution_count": 37,
   "metadata": {
    "ExecuteTime": {
     "end_time": "2021-02-08T08:44:56.000949Z",
     "start_time": "2021-02-08T08:44:55.943518Z"
    }
   },
   "outputs": [],
   "source": [
    "class FBetaCatBoostMetric(object):\n",
    "    \n",
    "    def __init__(self, beta):\n",
    "        self.beta = beta\n",
    "    \n",
    "    def get_final_error(self, error, weight):\n",
    "        return error / (weight + 1e-38)\n",
    "\n",
    "    def is_max_optimal(self):\n",
    "        return True\n",
    "\n",
    "    def evaluate(self, approxes, target, weight):\n",
    "        pred = approxes[0]\n",
    "        \n",
    "        TP = 0\n",
    "        FP = 0\n",
    "        FN = 0\n",
    "        weight_sum = 0 \n",
    "\n",
    "        for i in range(len(target)):\n",
    "            w = 1.0 if weight is None else weight[i]\n",
    "            weight_sum += w\n",
    "            TP += w * int(pred[i] > 0 and target[i] == 1.0)\n",
    "            FP += w * int(pred[i] > 0 and target[i] == 0.0)\n",
    "            FN += w * int(pred[i] <= 0 and target[i] == 1.0)\n",
    "        \n",
    "        if TP == 0:\n",
    "            fbeta = 0\n",
    "        else:\n",
    "            precision = TP / (TP + FP)\n",
    "            recall = TP / (TP + FN)\n",
    "            fbeta = ((1 + self.beta**2) * precision * recall \n",
    "                     / (self.beta**2 * precision + recall))\n",
    "        \n",
    "        return fbeta, 1.0"
   ]
  },
  {
   "cell_type": "code",
   "execution_count": 38,
   "metadata": {
    "ExecuteTime": {
     "end_time": "2021-02-08T08:44:56.043438Z",
     "start_time": "2021-02-08T08:44:56.004586Z"
    },
    "scrolled": true
   },
   "outputs": [],
   "source": [
    "classes = np.unique(y)\n",
    "weights = compute_class_weight(\n",
    "    class_weight='balanced', classes=classes, y=y\n",
    ")\n",
    "class_weights = dict(zip(classes, weights))\n",
    "params = {\n",
    "    'eval_metric': FBetaCatBoostMetric(4),\n",
    "    'random_seed': 42,\n",
    "    'class_weights': class_weights,\n",
    "    'verbose': False\n",
    "}"
   ]
  },
  {
   "cell_type": "markdown",
   "metadata": {},
   "source": [
    "Посмотрим, чего удастся добиться на hold-out валидации."
   ]
  },
  {
   "cell_type": "code",
   "execution_count": 39,
   "metadata": {
    "ExecuteTime": {
     "end_time": "2021-02-08T08:45:31.606677Z",
     "start_time": "2021-02-08T08:44:56.046348Z"
    },
    "scrolled": true
   },
   "outputs": [
    {
     "data": {
      "text/plain": [
       "<catboost.core.CatBoostClassifier at 0x7ff09485fb50>"
      ]
     },
     "execution_count": 39,
     "metadata": {},
     "output_type": "execute_result"
    }
   ],
   "source": [
    "X_train, X_val, y_train, y_val = train_test_split(\n",
    "    X, y, random_state=0\n",
    ")\n",
    "pool_train = Pool(X_train, y_train)\n",
    "pool_val = Pool(X_val, y_val)\n",
    "model = CatBoostClassifier(**params)\n",
    "model.fit(pool_train, eval_set=pool_val)"
   ]
  },
  {
   "cell_type": "code",
   "execution_count": 40,
   "metadata": {
    "ExecuteTime": {
     "end_time": "2021-02-08T08:45:31.664316Z",
     "start_time": "2021-02-08T08:45:31.612625Z"
    }
   },
   "outputs": [
    {
     "data": {
      "text/plain": [
       "1"
      ]
     },
     "execution_count": 40,
     "metadata": {},
     "output_type": "execute_result"
    }
   ],
   "source": [
    "model.tree_count_"
   ]
  },
  {
   "cell_type": "markdown",
   "metadata": {},
   "source": [
    "Как видим, модель переобучается практически мгновенно. Я пробовал разные разбиения на обучение/валидацию и такое происходит довольно часто. Лучше не использовать эту модель, так как слишком велик риск переобучения."
   ]
  },
  {
   "cell_type": "markdown",
   "metadata": {},
   "source": [
    "### Decision Tree"
   ]
  },
  {
   "cell_type": "markdown",
   "metadata": {},
   "source": [
    "Если бустинг переобучается, то можно попробовать посмотреть на простое решающее дерево."
   ]
  },
  {
   "cell_type": "code",
   "execution_count": 41,
   "metadata": {
    "ExecuteTime": {
     "end_time": "2021-02-08T08:45:34.255370Z",
     "start_time": "2021-02-08T08:45:31.670636Z"
    },
    "scrolled": true
   },
   "outputs": [],
   "source": [
    "model = tree.DecisionTreeClassifier(\n",
    "    criterion='gini', random_state=42, max_depth=5, min_samples_leaf=50, \n",
    "    class_weight='balanced'\n",
    ")\n",
    "f4 = cross_val_score(model, X, y, scoring=f4_scorer, cv=kf).mean()\n",
    "validation_results = cross_validate(\n",
    "    model, X, y, scoring=['precision', 'recall'], cv=kf\n",
    ")\n",
    "precision = validation_results['test_precision'].mean()\n",
    "recall = validation_results['test_recall'].mean()"
   ]
  },
  {
   "cell_type": "code",
   "execution_count": 42,
   "metadata": {
    "ExecuteTime": {
     "end_time": "2021-02-08T08:45:34.298552Z",
     "start_time": "2021-02-08T08:45:34.258633Z"
    }
   },
   "outputs": [
    {
     "name": "stdout",
     "output_type": "stream",
     "text": [
      "F_4: 0.9377\n",
      "Precision: 0.6797\n",
      "Recall: 0.9609\n"
     ]
    }
   ],
   "source": [
    "print(f'F_4: {f4:.4f}')\n",
    "print(f'Precision: {precision:.4f}')\n",
    "print(f'Recall: {recall:.4f}')"
   ]
  },
  {
   "cell_type": "markdown",
   "metadata": {},
   "source": [
    "Как видим, оно дает результаты примерно такого же порядка, что и логистическая регрессия. Можно было выбить и несколько больше, но я бы предпочел большую интерпретируемость в данный момент."
   ]
  },
  {
   "cell_type": "markdown",
   "metadata": {},
   "source": [
    "Обучим модель на всех данных и сохраним ее."
   ]
  },
  {
   "cell_type": "code",
   "execution_count": 43,
   "metadata": {
    "ExecuteTime": {
     "end_time": "2021-02-08T08:45:34.470475Z",
     "start_time": "2021-02-08T08:45:34.301170Z"
    }
   },
   "outputs": [
    {
     "data": {
      "text/plain": [
       "DecisionTreeClassifier(class_weight='balanced', max_depth=5,\n",
       "                       min_samples_leaf=50, random_state=42)"
      ]
     },
     "execution_count": 43,
     "metadata": {},
     "output_type": "execute_result"
    }
   ],
   "source": [
    "model.fit(X, y)"
   ]
  },
  {
   "cell_type": "code",
   "execution_count": 44,
   "metadata": {
    "ExecuteTime": {
     "end_time": "2021-02-08T08:45:34.505386Z",
     "start_time": "2021-02-08T08:45:34.473042Z"
    }
   },
   "outputs": [],
   "source": [
    "with open(os.path.join(MODEL_PATH, 'position_selector', 'tree.bin'), 'wb') as ouf:\n",
    "    pickle.dump(model, ouf)"
   ]
  },
  {
   "cell_type": "markdown",
   "metadata": {},
   "source": [
    "Визуализируем модель."
   ]
  },
  {
   "cell_type": "code",
   "execution_count": 45,
   "metadata": {
    "ExecuteTime": {
     "end_time": "2021-02-08T08:45:34.714709Z",
     "start_time": "2021-02-08T08:45:34.508139Z"
    }
   },
   "outputs": [
    {
     "data": {
      "image/svg+xml": [
       "<?xml version=\"1.0\" encoding=\"UTF-8\" standalone=\"no\"?>\n",
       "<!DOCTYPE svg PUBLIC \"-//W3C//DTD SVG 1.1//EN\"\n",
       " \"http://www.w3.org/Graphics/SVG/1.1/DTD/svg11.dtd\">\n",
       "<!-- Generated by graphviz version 2.42.3 (20191010.1750)\n",
       " -->\n",
       "<!-- Title: Tree Pages: 1 -->\n",
       "<svg width=\"3002pt\" height=\"581pt\"\n",
       " viewBox=\"0.00 0.00 3001.50 581.00\" xmlns=\"http://www.w3.org/2000/svg\" xmlns:xlink=\"http://www.w3.org/1999/xlink\">\n",
       "<g id=\"graph0\" class=\"graph\" transform=\"scale(1 1) rotate(0) translate(4 577)\">\n",
       "<title>Tree</title>\n",
       "<polygon fill=\"white\" stroke=\"transparent\" points=\"-4,4 -4,-577 2997.5,-577 2997.5,4 -4,4\"/>\n",
       "<!-- 0 -->\n",
       "<g id=\"node1\" class=\"node\">\n",
       "<title>0</title>\n",
       "<path fill=\"#ffffff\" stroke=\"black\" d=\"M1475,-573C1475,-573 1262,-573 1262,-573 1256,-573 1250,-567 1250,-561 1250,-561 1250,-517 1250,-517 1250,-511 1256,-505 1262,-505 1262,-505 1475,-505 1475,-505 1481,-505 1487,-511 1487,-517 1487,-517 1487,-561 1487,-561 1487,-567 1481,-573 1475,-573\"/>\n",
       "<text text-anchor=\"start\" x=\"1258\" y=\"-557.8\" font-family=\"Helvetica,sans-Serif\" font-size=\"14.00\">margin_kenlm_agg_score ≤ 1.063</text>\n",
       "<text text-anchor=\"start\" x=\"1339\" y=\"-542.8\" font-family=\"Helvetica,sans-Serif\" font-size=\"14.00\">gini = 0.5</text>\n",
       "<text text-anchor=\"start\" x=\"1312.5\" y=\"-527.8\" font-family=\"Helvetica,sans-Serif\" font-size=\"14.00\">samples = 22477</text>\n",
       "<text text-anchor=\"start\" x=\"1283.5\" y=\"-512.8\" font-family=\"Helvetica,sans-Serif\" font-size=\"14.00\">value = [11238.5, 11238.5]</text>\n",
       "</g>\n",
       "<!-- 1 -->\n",
       "<g id=\"node2\" class=\"node\">\n",
       "<title>1</title>\n",
       "<path fill=\"#e88f4f\" stroke=\"black\" d=\"M1162.5,-469C1162.5,-469 964.5,-469 964.5,-469 958.5,-469 952.5,-463 952.5,-457 952.5,-457 952.5,-413 952.5,-413 952.5,-407 958.5,-401 964.5,-401 964.5,-401 1162.5,-401 1162.5,-401 1168.5,-401 1174.5,-407 1174.5,-413 1174.5,-413 1174.5,-457 1174.5,-457 1174.5,-463 1168.5,-469 1162.5,-469\"/>\n",
       "<text text-anchor=\"start\" x=\"960.5\" y=\"-453.8\" font-family=\"Helvetica,sans-Serif\" font-size=\"14.00\">freq_phonetic_searcher ≤ 0.009</text>\n",
       "<text text-anchor=\"start\" x=\"1025.5\" y=\"-438.8\" font-family=\"Helvetica,sans-Serif\" font-size=\"14.00\">gini = 0.182</text>\n",
       "<text text-anchor=\"start\" x=\"1007.5\" y=\"-423.8\" font-family=\"Helvetica,sans-Serif\" font-size=\"14.00\">samples = 20274</text>\n",
       "<text text-anchor=\"start\" x=\"964.5\" y=\"-408.8\" font-family=\"Helvetica,sans-Serif\" font-size=\"14.00\">value = [10809.931, 1218.633]</text>\n",
       "</g>\n",
       "<!-- 0&#45;&gt;1 -->\n",
       "<g id=\"edge1\" class=\"edge\">\n",
       "<title>0&#45;&gt;1</title>\n",
       "<path fill=\"none\" stroke=\"black\" d=\"M1269.48,-504.88C1238.34,-494.47 1203.81,-482.92 1172.05,-472.3\"/>\n",
       "<polygon fill=\"black\" stroke=\"black\" points=\"1172.88,-468.89 1162.29,-469.04 1170.66,-475.53 1172.88,-468.89\"/>\n",
       "<text text-anchor=\"middle\" x=\"1173.45\" y=\"-487.71\" font-family=\"Helvetica,sans-Serif\" font-size=\"14.00\">True</text>\n",
       "</g>\n",
       "<!-- 20 -->\n",
       "<g id=\"node21\" class=\"node\">\n",
       "<title>20</title>\n",
       "<path fill=\"#41a1e6\" stroke=\"black\" d=\"M1888,-469C1888,-469 1675,-469 1675,-469 1669,-469 1663,-463 1663,-457 1663,-457 1663,-413 1663,-413 1663,-407 1669,-401 1675,-401 1675,-401 1888,-401 1888,-401 1894,-401 1900,-407 1900,-413 1900,-413 1900,-457 1900,-457 1900,-463 1894,-469 1888,-469\"/>\n",
       "<text text-anchor=\"start\" x=\"1671\" y=\"-453.8\" font-family=\"Helvetica,sans-Serif\" font-size=\"14.00\">margin_kenlm_agg_score ≤ 1.723</text>\n",
       "<text text-anchor=\"start\" x=\"1743.5\" y=\"-438.8\" font-family=\"Helvetica,sans-Serif\" font-size=\"14.00\">gini = 0.079</text>\n",
       "<text text-anchor=\"start\" x=\"1729.5\" y=\"-423.8\" font-family=\"Helvetica,sans-Serif\" font-size=\"14.00\">samples = 2203</text>\n",
       "<text text-anchor=\"start\" x=\"1686.5\" y=\"-408.8\" font-family=\"Helvetica,sans-Serif\" font-size=\"14.00\">value = [428.569, 10019.867]</text>\n",
       "</g>\n",
       "<!-- 0&#45;&gt;20 -->\n",
       "<g id=\"edge20\" class=\"edge\">\n",
       "<title>0&#45;&gt;20</title>\n",
       "<path fill=\"none\" stroke=\"black\" d=\"M1487.13,-508.7C1539.07,-495.87 1600.12,-480.79 1653.13,-467.7\"/>\n",
       "<polygon fill=\"black\" stroke=\"black\" points=\"1654.06,-471.08 1662.93,-465.28 1652.38,-464.28 1654.06,-471.08\"/>\n",
       "<text text-anchor=\"middle\" x=\"1650\" y=\"-482.98\" font-family=\"Helvetica,sans-Serif\" font-size=\"14.00\">False</text>\n",
       "</g>\n",
       "<!-- 2 -->\n",
       "<g id=\"node3\" class=\"node\">\n",
       "<title>2</title>\n",
       "<path fill=\"#6cb6ec\" stroke=\"black\" d=\"M811.5,-365C811.5,-365 593.5,-365 593.5,-365 587.5,-365 581.5,-359 581.5,-353 581.5,-353 581.5,-309 581.5,-309 581.5,-303 587.5,-297 593.5,-297 593.5,-297 811.5,-297 811.5,-297 817.5,-297 823.5,-303 823.5,-309 823.5,-309 823.5,-353 823.5,-353 823.5,-359 817.5,-365 811.5,-365\"/>\n",
       "<text text-anchor=\"start\" x=\"589.5\" y=\"-349.8\" font-family=\"Helvetica,sans-Serif\" font-size=\"14.00\">current_kenlm_agg_score ≤ &#45;5.324</text>\n",
       "<text text-anchor=\"start\" x=\"664.5\" y=\"-334.8\" font-family=\"Helvetica,sans-Serif\" font-size=\"14.00\">gini = 0.326</text>\n",
       "<text text-anchor=\"start\" x=\"654.5\" y=\"-319.8\" font-family=\"Helvetica,sans-Serif\" font-size=\"14.00\">samples = 569</text>\n",
       "<text text-anchor=\"start\" x=\"624\" y=\"-304.8\" font-family=\"Helvetica,sans-Serif\" font-size=\"14.00\">value = [236.6, 919.319]</text>\n",
       "</g>\n",
       "<!-- 1&#45;&gt;2 -->\n",
       "<g id=\"edge2\" class=\"edge\">\n",
       "<title>1&#45;&gt;2</title>\n",
       "<path fill=\"none\" stroke=\"black\" d=\"M952.24,-402.56C913.29,-391.56 869.28,-379.12 829.17,-367.79\"/>\n",
       "<polygon fill=\"black\" stroke=\"black\" points=\"829.9,-364.36 819.33,-365.01 828,-371.1 829.9,-364.36\"/>\n",
       "</g>\n",
       "<!-- 11 -->\n",
       "<g id=\"node12\" class=\"node\">\n",
       "<title>11</title>\n",
       "<path fill=\"#e6853f\" stroke=\"black\" d=\"M1168,-365C1168,-365 959,-365 959,-365 953,-365 947,-359 947,-353 947,-353 947,-309 947,-309 947,-303 953,-297 959,-297 959,-297 1168,-297 1168,-297 1174,-297 1180,-303 1180,-309 1180,-309 1180,-353 1180,-353 1180,-359 1174,-365 1168,-365\"/>\n",
       "<text text-anchor=\"start\" x=\"955\" y=\"-349.8\" font-family=\"Helvetica,sans-Serif\" font-size=\"14.00\">freq_levenshtein_searcher ≤ 0.16</text>\n",
       "<text text-anchor=\"start\" x=\"1025.5\" y=\"-334.8\" font-family=\"Helvetica,sans-Serif\" font-size=\"14.00\">gini = 0.054</text>\n",
       "<text text-anchor=\"start\" x=\"1007.5\" y=\"-319.8\" font-family=\"Helvetica,sans-Serif\" font-size=\"14.00\">samples = 19705</text>\n",
       "<text text-anchor=\"start\" x=\"968.5\" y=\"-304.8\" font-family=\"Helvetica,sans-Serif\" font-size=\"14.00\">value = [10573.331, 299.313]</text>\n",
       "</g>\n",
       "<!-- 1&#45;&gt;11 -->\n",
       "<g id=\"edge11\" class=\"edge\">\n",
       "<title>1&#45;&gt;11</title>\n",
       "<path fill=\"none\" stroke=\"black\" d=\"M1063.5,-400.88C1063.5,-392.78 1063.5,-383.98 1063.5,-375.47\"/>\n",
       "<polygon fill=\"black\" stroke=\"black\" points=\"1067,-375.3 1063.5,-365.3 1060,-375.3 1067,-375.3\"/>\n",
       "</g>\n",
       "<!-- 3 -->\n",
       "<g id=\"node4\" class=\"node\">\n",
       "<title>3</title>\n",
       "<path fill=\"#58ace9\" stroke=\"black\" d=\"M492,-261C492,-261 329,-261 329,-261 323,-261 317,-255 317,-249 317,-249 317,-205 317,-205 317,-199 323,-193 329,-193 329,-193 492,-193 492,-193 498,-193 504,-199 504,-205 504,-205 504,-249 504,-249 504,-255 498,-261 492,-261\"/>\n",
       "<text text-anchor=\"start\" x=\"333.5\" y=\"-245.8\" font-family=\"Helvetica,sans-Serif\" font-size=\"14.00\">is_title_not_is_first ≤ 0.5</text>\n",
       "<text text-anchor=\"start\" x=\"372.5\" y=\"-230.8\" font-family=\"Helvetica,sans-Serif\" font-size=\"14.00\">gini = 0.236</text>\n",
       "<text text-anchor=\"start\" x=\"362.5\" y=\"-215.8\" font-family=\"Helvetica,sans-Serif\" font-size=\"14.00\">samples = 396</text>\n",
       "<text text-anchor=\"start\" x=\"325\" y=\"-200.8\" font-family=\"Helvetica,sans-Serif\" font-size=\"14.00\">value = [144.111, 912.193]</text>\n",
       "</g>\n",
       "<!-- 2&#45;&gt;3 -->\n",
       "<g id=\"edge3\" class=\"edge\">\n",
       "<title>2&#45;&gt;3</title>\n",
       "<path fill=\"none\" stroke=\"black\" d=\"M607.7,-296.88C577.79,-286.44 544.61,-274.85 514.12,-264.2\"/>\n",
       "<polygon fill=\"black\" stroke=\"black\" points=\"514.92,-260.77 504.33,-260.78 512.62,-267.38 514.92,-260.77\"/>\n",
       "</g>\n",
       "<!-- 8 -->\n",
       "<g id=\"node9\" class=\"node\">\n",
       "<title>8</title>\n",
       "<path fill=\"#e78b48\" stroke=\"black\" d=\"M811.5,-261C811.5,-261 593.5,-261 593.5,-261 587.5,-261 581.5,-255 581.5,-249 581.5,-249 581.5,-205 581.5,-205 581.5,-199 587.5,-193 593.5,-193 593.5,-193 811.5,-193 811.5,-193 817.5,-193 823.5,-199 823.5,-205 823.5,-205 823.5,-249 823.5,-249 823.5,-255 817.5,-261 811.5,-261\"/>\n",
       "<text text-anchor=\"start\" x=\"589.5\" y=\"-245.8\" font-family=\"Helvetica,sans-Serif\" font-size=\"14.00\">current_kenlm_agg_score ≤ &#45;3.917</text>\n",
       "<text text-anchor=\"start\" x=\"664.5\" y=\"-230.8\" font-family=\"Helvetica,sans-Serif\" font-size=\"14.00\">gini = 0.133</text>\n",
       "<text text-anchor=\"start\" x=\"654.5\" y=\"-215.8\" font-family=\"Helvetica,sans-Serif\" font-size=\"14.00\">samples = 173</text>\n",
       "<text text-anchor=\"start\" x=\"628.5\" y=\"-200.8\" font-family=\"Helvetica,sans-Serif\" font-size=\"14.00\">value = [92.489, 7.127]</text>\n",
       "</g>\n",
       "<!-- 2&#45;&gt;8 -->\n",
       "<g id=\"edge8\" class=\"edge\">\n",
       "<title>2&#45;&gt;8</title>\n",
       "<path fill=\"none\" stroke=\"black\" d=\"M702.5,-296.88C702.5,-288.78 702.5,-279.98 702.5,-271.47\"/>\n",
       "<polygon fill=\"black\" stroke=\"black\" points=\"706,-271.3 702.5,-261.3 699,-271.3 706,-271.3\"/>\n",
       "</g>\n",
       "<!-- 4 -->\n",
       "<g id=\"node5\" class=\"node\">\n",
       "<title>4</title>\n",
       "<path fill=\"#51a9e8\" stroke=\"black\" d=\"M298.5,-157C298.5,-157 80.5,-157 80.5,-157 74.5,-157 68.5,-151 68.5,-145 68.5,-145 68.5,-101 68.5,-101 68.5,-95 74.5,-89 80.5,-89 80.5,-89 298.5,-89 298.5,-89 304.5,-89 310.5,-95 310.5,-101 310.5,-101 310.5,-145 310.5,-145 310.5,-151 304.5,-157 298.5,-157\"/>\n",
       "<text text-anchor=\"start\" x=\"76.5\" y=\"-141.8\" font-family=\"Helvetica,sans-Serif\" font-size=\"14.00\">current_kenlm_agg_score ≤ &#45;8.538</text>\n",
       "<text text-anchor=\"start\" x=\"151.5\" y=\"-126.8\" font-family=\"Helvetica,sans-Serif\" font-size=\"14.00\">gini = 0.193</text>\n",
       "<text text-anchor=\"start\" x=\"141.5\" y=\"-111.8\" font-family=\"Helvetica,sans-Serif\" font-size=\"14.00\">samples = 328</text>\n",
       "<text text-anchor=\"start\" x=\"107\" y=\"-96.8\" font-family=\"Helvetica,sans-Serif\" font-size=\"14.00\">value = [108.621, 897.94]</text>\n",
       "</g>\n",
       "<!-- 3&#45;&gt;4 -->\n",
       "<g id=\"edge4\" class=\"edge\">\n",
       "<title>3&#45;&gt;4</title>\n",
       "<path fill=\"none\" stroke=\"black\" d=\"M338.75,-192.88C316.93,-182.81 292.79,-171.67 270.41,-161.34\"/>\n",
       "<polygon fill=\"black\" stroke=\"black\" points=\"271.82,-158.14 261.27,-157.12 268.88,-164.49 271.82,-158.14\"/>\n",
       "</g>\n",
       "<!-- 7 -->\n",
       "<g id=\"node8\" class=\"node\">\n",
       "<title>7</title>\n",
       "<path fill=\"#efb489\" stroke=\"black\" d=\"M480.5,-149.5C480.5,-149.5 340.5,-149.5 340.5,-149.5 334.5,-149.5 328.5,-143.5 328.5,-137.5 328.5,-137.5 328.5,-108.5 328.5,-108.5 328.5,-102.5 334.5,-96.5 340.5,-96.5 340.5,-96.5 480.5,-96.5 480.5,-96.5 486.5,-96.5 492.5,-102.5 492.5,-108.5 492.5,-108.5 492.5,-137.5 492.5,-137.5 492.5,-143.5 486.5,-149.5 480.5,-149.5\"/>\n",
       "<text text-anchor=\"start\" x=\"372.5\" y=\"-134.3\" font-family=\"Helvetica,sans-Serif\" font-size=\"14.00\">gini = 0.409</text>\n",
       "<text text-anchor=\"start\" x=\"366.5\" y=\"-119.3\" font-family=\"Helvetica,sans-Serif\" font-size=\"14.00\">samples = 68</text>\n",
       "<text text-anchor=\"start\" x=\"336.5\" y=\"-104.3\" font-family=\"Helvetica,sans-Serif\" font-size=\"14.00\">value = [35.49, 14.253]</text>\n",
       "</g>\n",
       "<!-- 3&#45;&gt;7 -->\n",
       "<g id=\"edge7\" class=\"edge\">\n",
       "<title>3&#45;&gt;7</title>\n",
       "<path fill=\"none\" stroke=\"black\" d=\"M410.5,-192.88C410.5,-182.33 410.5,-170.6 410.5,-159.85\"/>\n",
       "<polygon fill=\"black\" stroke=\"black\" points=\"414,-159.52 410.5,-149.52 407,-159.52 414,-159.52\"/>\n",
       "</g>\n",
       "<!-- 5 -->\n",
       "<g id=\"node6\" class=\"node\">\n",
       "<title>5</title>\n",
       "<path fill=\"#43a2e6\" stroke=\"black\" d=\"M169,-53C169,-53 12,-53 12,-53 6,-53 0,-47 0,-41 0,-41 0,-12 0,-12 0,-6 6,0 12,0 12,0 169,0 169,0 175,0 181,-6 181,-12 181,-12 181,-41 181,-41 181,-47 175,-53 169,-53\"/>\n",
       "<text text-anchor=\"start\" x=\"52.5\" y=\"-37.8\" font-family=\"Helvetica,sans-Serif\" font-size=\"14.00\">gini = 0.095</text>\n",
       "<text text-anchor=\"start\" x=\"42.5\" y=\"-22.8\" font-family=\"Helvetica,sans-Serif\" font-size=\"14.00\">samples = 166</text>\n",
       "<text text-anchor=\"start\" x=\"8\" y=\"-7.8\" font-family=\"Helvetica,sans-Serif\" font-size=\"14.00\">value = [36.565, 698.398]</text>\n",
       "</g>\n",
       "<!-- 4&#45;&gt;5 -->\n",
       "<g id=\"edge5\" class=\"edge\">\n",
       "<title>4&#45;&gt;5</title>\n",
       "<path fill=\"none\" stroke=\"black\" d=\"M154.87,-88.95C145.1,-79.62 134.47,-69.47 124.72,-60.16\"/>\n",
       "<polygon fill=\"black\" stroke=\"black\" points=\"127.11,-57.61 117.46,-53.24 122.28,-62.67 127.11,-57.61\"/>\n",
       "</g>\n",
       "<!-- 6 -->\n",
       "<g id=\"node7\" class=\"node\">\n",
       "<title>6</title>\n",
       "<path fill=\"#80c0ee\" stroke=\"black\" d=\"M368,-53C368,-53 211,-53 211,-53 205,-53 199,-47 199,-41 199,-41 199,-12 199,-12 199,-6 205,0 211,0 211,0 368,0 368,0 374,0 380,-6 380,-12 380,-12 380,-41 380,-41 380,-47 374,-53 368,-53\"/>\n",
       "<text text-anchor=\"start\" x=\"256\" y=\"-37.8\" font-family=\"Helvetica,sans-Serif\" font-size=\"14.00\">gini = 0.39</text>\n",
       "<text text-anchor=\"start\" x=\"241.5\" y=\"-22.8\" font-family=\"Helvetica,sans-Serif\" font-size=\"14.00\">samples = 162</text>\n",
       "<text text-anchor=\"start\" x=\"207\" y=\"-7.8\" font-family=\"Helvetica,sans-Serif\" font-size=\"14.00\">value = [72.055, 199.542]</text>\n",
       "</g>\n",
       "<!-- 4&#45;&gt;6 -->\n",
       "<g id=\"edge6\" class=\"edge\">\n",
       "<title>4&#45;&gt;6</title>\n",
       "<path fill=\"none\" stroke=\"black\" d=\"M224.48,-88.95C234.35,-79.62 245.09,-69.47 254.93,-60.16\"/>\n",
       "<polygon fill=\"black\" stroke=\"black\" points=\"257.4,-62.65 262.27,-53.24 252.59,-57.56 257.4,-62.65\"/>\n",
       "</g>\n",
       "<!-- 9 -->\n",
       "<g id=\"node10\" class=\"node\">\n",
       "<title>9</title>\n",
       "<path fill=\"#eca36f\" stroke=\"black\" d=\"M662.5,-149.5C662.5,-149.5 522.5,-149.5 522.5,-149.5 516.5,-149.5 510.5,-143.5 510.5,-137.5 510.5,-137.5 510.5,-108.5 510.5,-108.5 510.5,-102.5 516.5,-96.5 522.5,-96.5 522.5,-96.5 662.5,-96.5 662.5,-96.5 668.5,-96.5 674.5,-102.5 674.5,-108.5 674.5,-108.5 674.5,-137.5 674.5,-137.5 674.5,-143.5 668.5,-149.5 662.5,-149.5\"/>\n",
       "<text text-anchor=\"start\" x=\"554.5\" y=\"-134.3\" font-family=\"Helvetica,sans-Serif\" font-size=\"14.00\">gini = 0.335</text>\n",
       "<text text-anchor=\"start\" x=\"548.5\" y=\"-119.3\" font-family=\"Helvetica,sans-Serif\" font-size=\"14.00\">samples = 50</text>\n",
       "<text text-anchor=\"start\" x=\"518.5\" y=\"-104.3\" font-family=\"Helvetica,sans-Serif\" font-size=\"14.00\">value = [26.349, 7.127]</text>\n",
       "</g>\n",
       "<!-- 8&#45;&gt;9 -->\n",
       "<g id=\"edge9\" class=\"edge\">\n",
       "<title>8&#45;&gt;9</title>\n",
       "<path fill=\"none\" stroke=\"black\" d=\"M666.79,-192.88C654.21,-181.23 640.1,-168.14 627.58,-156.53\"/>\n",
       "<polygon fill=\"black\" stroke=\"black\" points=\"629.73,-153.75 620.02,-149.52 624.97,-158.89 629.73,-153.75\"/>\n",
       "</g>\n",
       "<!-- 10 -->\n",
       "<g id=\"node11\" class=\"node\">\n",
       "<title>10</title>\n",
       "<path fill=\"#e58139\" stroke=\"black\" d=\"M820.5,-149.5C820.5,-149.5 704.5,-149.5 704.5,-149.5 698.5,-149.5 692.5,-143.5 692.5,-137.5 692.5,-137.5 692.5,-108.5 692.5,-108.5 692.5,-102.5 698.5,-96.5 704.5,-96.5 704.5,-96.5 820.5,-96.5 820.5,-96.5 826.5,-96.5 832.5,-102.5 832.5,-108.5 832.5,-108.5 832.5,-137.5 832.5,-137.5 832.5,-143.5 826.5,-149.5 820.5,-149.5\"/>\n",
       "<text text-anchor=\"start\" x=\"730.5\" y=\"-134.3\" font-family=\"Helvetica,sans-Serif\" font-size=\"14.00\">gini = &#45;0.0</text>\n",
       "<text text-anchor=\"start\" x=\"714.5\" y=\"-119.3\" font-family=\"Helvetica,sans-Serif\" font-size=\"14.00\">samples = 123</text>\n",
       "<text text-anchor=\"start\" x=\"700.5\" y=\"-104.3\" font-family=\"Helvetica,sans-Serif\" font-size=\"14.00\">value = [66.14, 0.0]</text>\n",
       "</g>\n",
       "<!-- 8&#45;&gt;10 -->\n",
       "<g id=\"edge10\" class=\"edge\">\n",
       "<title>8&#45;&gt;10</title>\n",
       "<path fill=\"none\" stroke=\"black\" d=\"M721.98,-192.88C728.51,-181.78 735.81,-169.37 742.39,-158.18\"/>\n",
       "<polygon fill=\"black\" stroke=\"black\" points=\"745.43,-159.91 747.49,-149.52 739.4,-156.36 745.43,-159.91\"/>\n",
       "</g>\n",
       "<!-- 12 -->\n",
       "<g id=\"node13\" class=\"node\">\n",
       "<title>12</title>\n",
       "<path fill=\"#aed7f4\" stroke=\"black\" d=\"M1023,-253.5C1023,-253.5 874,-253.5 874,-253.5 868,-253.5 862,-247.5 862,-241.5 862,-241.5 862,-212.5 862,-212.5 862,-206.5 868,-200.5 874,-200.5 874,-200.5 1023,-200.5 1023,-200.5 1029,-200.5 1035,-206.5 1035,-212.5 1035,-212.5 1035,-241.5 1035,-241.5 1035,-247.5 1029,-253.5 1023,-253.5\"/>\n",
       "<text text-anchor=\"start\" x=\"910.5\" y=\"-238.3\" font-family=\"Helvetica,sans-Serif\" font-size=\"14.00\">gini = 0.467</text>\n",
       "<text text-anchor=\"start\" x=\"904.5\" y=\"-223.3\" font-family=\"Helvetica,sans-Serif\" font-size=\"14.00\">samples = 53</text>\n",
       "<text text-anchor=\"start\" x=\"870\" y=\"-208.3\" font-family=\"Helvetica,sans-Serif\" font-size=\"14.00\">value = [25.273, 42.759]</text>\n",
       "</g>\n",
       "<!-- 11&#45;&gt;12 -->\n",
       "<g id=\"edge12\" class=\"edge\">\n",
       "<title>11&#45;&gt;12</title>\n",
       "<path fill=\"none\" stroke=\"black\" d=\"M1026.16,-296.88C1012.9,-285.12 997.99,-271.89 984.81,-260.2\"/>\n",
       "<polygon fill=\"black\" stroke=\"black\" points=\"987.08,-257.54 977.27,-253.52 982.43,-262.77 987.08,-257.54\"/>\n",
       "</g>\n",
       "<!-- 13 -->\n",
       "<g id=\"node14\" class=\"node\">\n",
       "<title>13</title>\n",
       "<path fill=\"#e6843e\" stroke=\"black\" d=\"M1313.5,-261C1313.5,-261 1065.5,-261 1065.5,-261 1059.5,-261 1053.5,-255 1053.5,-249 1053.5,-249 1053.5,-205 1053.5,-205 1053.5,-199 1059.5,-193 1065.5,-193 1065.5,-193 1313.5,-193 1313.5,-193 1319.5,-193 1325.5,-199 1325.5,-205 1325.5,-205 1325.5,-249 1325.5,-249 1325.5,-255 1319.5,-261 1313.5,-261\"/>\n",
       "<text text-anchor=\"start\" x=\"1061.5\" y=\"-245.8\" font-family=\"Helvetica,sans-Serif\" font-size=\"14.00\">freq_kenlm_agg_better_current ≤ 0.031</text>\n",
       "<text text-anchor=\"start\" x=\"1151.5\" y=\"-230.8\" font-family=\"Helvetica,sans-Serif\" font-size=\"14.00\">gini = 0.046</text>\n",
       "<text text-anchor=\"start\" x=\"1133.5\" y=\"-215.8\" font-family=\"Helvetica,sans-Serif\" font-size=\"14.00\">samples = 19652</text>\n",
       "<text text-anchor=\"start\" x=\"1094.5\" y=\"-200.8\" font-family=\"Helvetica,sans-Serif\" font-size=\"14.00\">value = [10548.058, 256.554]</text>\n",
       "</g>\n",
       "<!-- 11&#45;&gt;13 -->\n",
       "<g id=\"edge13\" class=\"edge\">\n",
       "<title>11&#45;&gt;13</title>\n",
       "<path fill=\"none\" stroke=\"black\" d=\"M1104.41,-296.88C1115.85,-287.62 1128.41,-277.45 1140.28,-267.85\"/>\n",
       "<polygon fill=\"black\" stroke=\"black\" points=\"1142.8,-270.31 1148.37,-261.3 1138.39,-264.87 1142.8,-270.31\"/>\n",
       "</g>\n",
       "<!-- 14 -->\n",
       "<g id=\"node15\" class=\"node\">\n",
       "<title>14</title>\n",
       "<path fill=\"#e5823b\" stroke=\"black\" d=\"M1106,-157C1106,-157 863,-157 863,-157 857,-157 851,-151 851,-145 851,-145 851,-101 851,-101 851,-95 857,-89 863,-89 863,-89 1106,-89 1106,-89 1112,-89 1118,-95 1118,-101 1118,-101 1118,-145 1118,-145 1118,-151 1112,-157 1106,-157\"/>\n",
       "<text text-anchor=\"start\" x=\"859\" y=\"-141.8\" font-family=\"Helvetica,sans-Serif\" font-size=\"14.00\">margin_kenlm_right_left_score ≤ 2.063</text>\n",
       "<text text-anchor=\"start\" x=\"946.5\" y=\"-126.8\" font-family=\"Helvetica,sans-Serif\" font-size=\"14.00\">gini = 0.022</text>\n",
       "<text text-anchor=\"start\" x=\"928.5\" y=\"-111.8\" font-family=\"Helvetica,sans-Serif\" font-size=\"14.00\">samples = 17355</text>\n",
       "<text text-anchor=\"start\" x=\"894\" y=\"-96.8\" font-family=\"Helvetica,sans-Serif\" font-size=\"14.00\">value = [9324.191, 106.898]</text>\n",
       "</g>\n",
       "<!-- 13&#45;&gt;14 -->\n",
       "<g id=\"edge14\" class=\"edge\">\n",
       "<title>13&#45;&gt;14</title>\n",
       "<path fill=\"none\" stroke=\"black\" d=\"M1122.94,-192.88C1102.88,-182.9 1080.71,-171.87 1060.11,-161.62\"/>\n",
       "<polygon fill=\"black\" stroke=\"black\" points=\"1061.59,-158.45 1051.07,-157.12 1058.47,-164.71 1061.59,-158.45\"/>\n",
       "</g>\n",
       "<!-- 17 -->\n",
       "<g id=\"node18\" class=\"node\">\n",
       "<title>17</title>\n",
       "<path fill=\"#e89051\" stroke=\"black\" d=\"M1391,-157C1391,-157 1148,-157 1148,-157 1142,-157 1136,-151 1136,-145 1136,-145 1136,-101 1136,-101 1136,-95 1142,-89 1148,-89 1148,-89 1391,-89 1391,-89 1397,-89 1403,-95 1403,-101 1403,-101 1403,-145 1403,-145 1403,-151 1397,-157 1391,-157\"/>\n",
       "<text text-anchor=\"start\" x=\"1144\" y=\"-141.8\" font-family=\"Helvetica,sans-Serif\" font-size=\"14.00\">margin_kenlm_left_right_score ≤ 1.043</text>\n",
       "<text text-anchor=\"start\" x=\"1231.5\" y=\"-126.8\" font-family=\"Helvetica,sans-Serif\" font-size=\"14.00\">gini = 0.194</text>\n",
       "<text text-anchor=\"start\" x=\"1217.5\" y=\"-111.8\" font-family=\"Helvetica,sans-Serif\" font-size=\"14.00\">samples = 2297</text>\n",
       "<text text-anchor=\"start\" x=\"1179\" y=\"-96.8\" font-family=\"Helvetica,sans-Serif\" font-size=\"14.00\">value = [1223.867, 149.657]</text>\n",
       "</g>\n",
       "<!-- 13&#45;&gt;17 -->\n",
       "<g id=\"edge17\" class=\"edge\">\n",
       "<title>13&#45;&gt;17</title>\n",
       "<path fill=\"none\" stroke=\"black\" d=\"M1215.47,-192.88C1222.39,-184.07 1229.95,-174.43 1237.16,-165.24\"/>\n",
       "<polygon fill=\"black\" stroke=\"black\" points=\"1239.97,-167.33 1243.38,-157.3 1234.46,-163.01 1239.97,-167.33\"/>\n",
       "</g>\n",
       "<!-- 15 -->\n",
       "<g id=\"node16\" class=\"node\">\n",
       "<title>15</title>\n",
       "<path fill=\"#e5823b\" stroke=\"black\" d=\"M891,-53C891,-53 734,-53 734,-53 728,-53 722,-47 722,-41 722,-41 722,-12 722,-12 722,-6 728,0 734,0 734,0 891,0 891,0 897,0 903,-6 903,-12 903,-12 903,-41 903,-41 903,-47 897,-53 891,-53\"/>\n",
       "<text text-anchor=\"start\" x=\"779\" y=\"-37.8\" font-family=\"Helvetica,sans-Serif\" font-size=\"14.00\">gini = 0.02</text>\n",
       "<text text-anchor=\"start\" x=\"756.5\" y=\"-22.8\" font-family=\"Helvetica,sans-Serif\" font-size=\"14.00\">samples = 17305</text>\n",
       "<text text-anchor=\"start\" x=\"730\" y=\"-7.8\" font-family=\"Helvetica,sans-Serif\" font-size=\"14.00\">value = [9298.38, 92.645]</text>\n",
       "</g>\n",
       "<!-- 14&#45;&gt;15 -->\n",
       "<g id=\"edge15\" class=\"edge\">\n",
       "<title>14&#45;&gt;15</title>\n",
       "<path fill=\"none\" stroke=\"black\" d=\"M924.34,-88.95C906.11,-78.93 886.17,-67.98 868.24,-58.13\"/>\n",
       "<polygon fill=\"black\" stroke=\"black\" points=\"869.52,-54.83 859.07,-53.09 866.15,-60.97 869.52,-54.83\"/>\n",
       "</g>\n",
       "<!-- 16 -->\n",
       "<g id=\"node17\" class=\"node\">\n",
       "<title>16</title>\n",
       "<path fill=\"#f3c7a6\" stroke=\"black\" d=\"M1080,-53C1080,-53 933,-53 933,-53 927,-53 921,-47 921,-41 921,-41 921,-12 921,-12 921,-6 927,0 933,0 933,0 1080,0 1080,0 1086,0 1092,-6 1092,-12 1092,-12 1092,-41 1092,-41 1092,-47 1086,-53 1080,-53\"/>\n",
       "<text text-anchor=\"start\" x=\"968.5\" y=\"-37.8\" font-family=\"Helvetica,sans-Serif\" font-size=\"14.00\">gini = 0.458</text>\n",
       "<text text-anchor=\"start\" x=\"962.5\" y=\"-22.8\" font-family=\"Helvetica,sans-Serif\" font-size=\"14.00\">samples = 50</text>\n",
       "<text text-anchor=\"start\" x=\"929\" y=\"-7.8\" font-family=\"Helvetica,sans-Serif\" font-size=\"14.00\">value = [25.811, 14.253]</text>\n",
       "</g>\n",
       "<!-- 14&#45;&gt;16 -->\n",
       "<g id=\"edge16\" class=\"edge\">\n",
       "<title>14&#45;&gt;16</title>\n",
       "<path fill=\"none\" stroke=\"black\" d=\"M992.19,-88.95C994.13,-80.62 996.22,-71.65 998.19,-63.2\"/>\n",
       "<polygon fill=\"black\" stroke=\"black\" points=\"1001.65,-63.77 1000.51,-53.24 994.83,-62.18 1001.65,-63.77\"/>\n",
       "</g>\n",
       "<!-- 18 -->\n",
       "<g id=\"node19\" class=\"node\">\n",
       "<title>18</title>\n",
       "<path fill=\"#e78b49\" stroke=\"black\" d=\"M1309,-53C1309,-53 1144,-53 1144,-53 1138,-53 1132,-47 1132,-41 1132,-41 1132,-12 1132,-12 1132,-6 1138,0 1144,0 1144,0 1309,0 1309,0 1315,0 1321,-6 1321,-12 1321,-12 1321,-41 1321,-41 1321,-47 1315,-53 1309,-53\"/>\n",
       "<text text-anchor=\"start\" x=\"1188.5\" y=\"-37.8\" font-family=\"Helvetica,sans-Serif\" font-size=\"14.00\">gini = 0.136</text>\n",
       "<text text-anchor=\"start\" x=\"1174.5\" y=\"-22.8\" font-family=\"Helvetica,sans-Serif\" font-size=\"14.00\">samples = 2012</text>\n",
       "<text text-anchor=\"start\" x=\"1140\" y=\"-7.8\" font-family=\"Helvetica,sans-Serif\" font-size=\"14.00\">value = [1075.455, 85.518]</text>\n",
       "</g>\n",
       "<!-- 17&#45;&gt;18 -->\n",
       "<g id=\"edge18\" class=\"edge\">\n",
       "<title>17&#45;&gt;18</title>\n",
       "<path fill=\"none\" stroke=\"black\" d=\"M1254.46,-88.95C1250.55,-80.35 1246.32,-71.06 1242.37,-62.37\"/>\n",
       "<polygon fill=\"black\" stroke=\"black\" points=\"1245.54,-60.89 1238.21,-53.24 1239.17,-63.79 1245.54,-60.89\"/>\n",
       "</g>\n",
       "<!-- 19 -->\n",
       "<g id=\"node20\" class=\"node\">\n",
       "<title>19</title>\n",
       "<path fill=\"#f0b78f\" stroke=\"black\" d=\"M1508,-53C1508,-53 1351,-53 1351,-53 1345,-53 1339,-47 1339,-41 1339,-41 1339,-12 1339,-12 1339,-6 1345,0 1351,0 1351,0 1508,0 1508,0 1514,0 1520,-6 1520,-12 1520,-12 1520,-41 1520,-41 1520,-47 1514,-53 1508,-53\"/>\n",
       "<text text-anchor=\"start\" x=\"1391.5\" y=\"-37.8\" font-family=\"Helvetica,sans-Serif\" font-size=\"14.00\">gini = 0.421</text>\n",
       "<text text-anchor=\"start\" x=\"1381.5\" y=\"-22.8\" font-family=\"Helvetica,sans-Serif\" font-size=\"14.00\">samples = 285</text>\n",
       "<text text-anchor=\"start\" x=\"1347\" y=\"-7.8\" font-family=\"Helvetica,sans-Serif\" font-size=\"14.00\">value = [148.413, 64.139]</text>\n",
       "</g>\n",
       "<!-- 17&#45;&gt;19 -->\n",
       "<g id=\"edge19\" class=\"edge\">\n",
       "<title>17&#45;&gt;19</title>\n",
       "<path fill=\"none\" stroke=\"black\" d=\"M1325.46,-88.95C1342.26,-79.02 1360.63,-68.18 1377.19,-58.4\"/>\n",
       "<polygon fill=\"black\" stroke=\"black\" points=\"1379.35,-61.19 1386.18,-53.09 1375.79,-55.16 1379.35,-61.19\"/>\n",
       "</g>\n",
       "<!-- 21 -->\n",
       "<g id=\"node22\" class=\"node\">\n",
       "<title>21</title>\n",
       "<path fill=\"#90c8f0\" stroke=\"black\" d=\"M1860,-365C1860,-365 1703,-365 1703,-365 1697,-365 1691,-359 1691,-353 1691,-353 1691,-309 1691,-309 1691,-303 1697,-297 1703,-297 1703,-297 1860,-297 1860,-297 1866,-297 1872,-303 1872,-309 1872,-309 1872,-353 1872,-353 1872,-359 1866,-365 1860,-365\"/>\n",
       "<text text-anchor=\"start\" x=\"1709.5\" y=\"-349.8\" font-family=\"Helvetica,sans-Serif\" font-size=\"14.00\">num_candidates ≤ 9.5</text>\n",
       "<text text-anchor=\"start\" x=\"1743.5\" y=\"-334.8\" font-family=\"Helvetica,sans-Serif\" font-size=\"14.00\">gini = 0.424</text>\n",
       "<text text-anchor=\"start\" x=\"1733.5\" y=\"-319.8\" font-family=\"Helvetica,sans-Serif\" font-size=\"14.00\">samples = 585</text>\n",
       "<text text-anchor=\"start\" x=\"1699\" y=\"-304.8\" font-family=\"Helvetica,sans-Serif\" font-size=\"14.00\">value = [268.326, 612.88]</text>\n",
       "</g>\n",
       "<!-- 20&#45;&gt;21 -->\n",
       "<g id=\"edge21\" class=\"edge\">\n",
       "<title>20&#45;&gt;21</title>\n",
       "<path fill=\"none\" stroke=\"black\" d=\"M1781.5,-400.88C1781.5,-392.78 1781.5,-383.98 1781.5,-375.47\"/>\n",
       "<polygon fill=\"black\" stroke=\"black\" points=\"1785,-375.3 1781.5,-365.3 1778,-375.3 1785,-375.3\"/>\n",
       "</g>\n",
       "<!-- 30 -->\n",
       "<g id=\"node31\" class=\"node\">\n",
       "<title>30</title>\n",
       "<path fill=\"#3c9fe5\" stroke=\"black\" d=\"M2277,-365C2277,-365 2034,-365 2034,-365 2028,-365 2022,-359 2022,-353 2022,-353 2022,-309 2022,-309 2022,-303 2028,-297 2034,-297 2034,-297 2277,-297 2277,-297 2283,-297 2289,-303 2289,-309 2289,-309 2289,-353 2289,-353 2289,-359 2283,-365 2277,-365\"/>\n",
       "<text text-anchor=\"start\" x=\"2030\" y=\"-349.8\" font-family=\"Helvetica,sans-Serif\" font-size=\"14.00\">margin_kenlm_left_right_score ≤ 1.395</text>\n",
       "<text text-anchor=\"start\" x=\"2117.5\" y=\"-334.8\" font-family=\"Helvetica,sans-Serif\" font-size=\"14.00\">gini = 0.033</text>\n",
       "<text text-anchor=\"start\" x=\"2103.5\" y=\"-319.8\" font-family=\"Helvetica,sans-Serif\" font-size=\"14.00\">samples = 1618</text>\n",
       "<text text-anchor=\"start\" x=\"2065\" y=\"-304.8\" font-family=\"Helvetica,sans-Serif\" font-size=\"14.00\">value = [160.243, 9406.988]</text>\n",
       "</g>\n",
       "<!-- 20&#45;&gt;30 -->\n",
       "<g id=\"edge30\" class=\"edge\">\n",
       "<title>20&#45;&gt;30</title>\n",
       "<path fill=\"none\" stroke=\"black\" d=\"M1900.09,-401.66C1939.71,-390.85 1984.07,-378.75 2024.57,-367.71\"/>\n",
       "<polygon fill=\"black\" stroke=\"black\" points=\"2025.5,-371.08 2034.23,-365.07 2023.66,-364.33 2025.5,-371.08\"/>\n",
       "</g>\n",
       "<!-- 22 -->\n",
       "<g id=\"node23\" class=\"node\">\n",
       "<title>22</title>\n",
       "<path fill=\"#49a5e7\" stroke=\"black\" d=\"M1767,-261C1767,-261 1524,-261 1524,-261 1518,-261 1512,-255 1512,-249 1512,-249 1512,-205 1512,-205 1512,-199 1518,-193 1524,-193 1524,-193 1767,-193 1767,-193 1773,-193 1779,-199 1779,-205 1779,-205 1779,-249 1779,-249 1779,-255 1773,-261 1767,-261\"/>\n",
       "<text text-anchor=\"start\" x=\"1520\" y=\"-245.8\" font-family=\"Helvetica,sans-Serif\" font-size=\"14.00\">margin_kenlm_left_right_score ≤ 1.321</text>\n",
       "<text text-anchor=\"start\" x=\"1607.5\" y=\"-230.8\" font-family=\"Helvetica,sans-Serif\" font-size=\"14.00\">gini = 0.136</text>\n",
       "<text text-anchor=\"start\" x=\"1598.5\" y=\"-215.8\" font-family=\"Helvetica,sans-Serif\" font-size=\"14.00\">samples = 117</text>\n",
       "<text text-anchor=\"start\" x=\"1564\" y=\"-200.8\" font-family=\"Helvetica,sans-Serif\" font-size=\"14.00\">value = [32.264, 406.211]</text>\n",
       "</g>\n",
       "<!-- 21&#45;&gt;22 -->\n",
       "<g id=\"edge22\" class=\"edge\">\n",
       "<title>21&#45;&gt;22</title>\n",
       "<path fill=\"none\" stroke=\"black\" d=\"M1737.34,-296.88C1724.87,-287.53 1711.18,-277.26 1698.26,-267.57\"/>\n",
       "<polygon fill=\"black\" stroke=\"black\" points=\"1700,-264.5 1689.9,-261.3 1695.8,-270.1 1700,-264.5\"/>\n",
       "</g>\n",
       "<!-- 25 -->\n",
       "<g id=\"node26\" class=\"node\">\n",
       "<title>25</title>\n",
       "<path fill=\"#fcefe6\" stroke=\"black\" d=\"M2026,-261C2026,-261 1809,-261 1809,-261 1803,-261 1797,-255 1797,-249 1797,-249 1797,-205 1797,-205 1797,-199 1803,-193 1809,-193 1809,-193 2026,-193 2026,-193 2032,-193 2038,-199 2038,-205 2038,-205 2038,-249 2038,-249 2038,-255 2032,-261 2026,-261\"/>\n",
       "<text text-anchor=\"start\" x=\"1805\" y=\"-245.8\" font-family=\"Helvetica,sans-Serif\" font-size=\"14.00\">freq_levenshtein_searcher ≤ 0.646</text>\n",
       "<text text-anchor=\"start\" x=\"1879.5\" y=\"-230.8\" font-family=\"Helvetica,sans-Serif\" font-size=\"14.00\">gini = 0.498</text>\n",
       "<text text-anchor=\"start\" x=\"1869.5\" y=\"-215.8\" font-family=\"Helvetica,sans-Serif\" font-size=\"14.00\">samples = 468</text>\n",
       "<text text-anchor=\"start\" x=\"1831\" y=\"-200.8\" font-family=\"Helvetica,sans-Serif\" font-size=\"14.00\">value = [236.062, 206.669]</text>\n",
       "</g>\n",
       "<!-- 21&#45;&gt;25 -->\n",
       "<g id=\"edge25\" class=\"edge\">\n",
       "<title>21&#45;&gt;25</title>\n",
       "<path fill=\"none\" stroke=\"black\" d=\"M1825.66,-296.88C1838.13,-287.53 1851.82,-277.26 1864.74,-267.57\"/>\n",
       "<polygon fill=\"black\" stroke=\"black\" points=\"1867.2,-270.1 1873.1,-261.3 1863,-264.5 1867.2,-270.1\"/>\n",
       "</g>\n",
       "<!-- 23 -->\n",
       "<g id=\"node24\" class=\"node\">\n",
       "<title>23</title>\n",
       "<path fill=\"#71b9ec\" stroke=\"black\" d=\"M1582,-149.5C1582,-149.5 1433,-149.5 1433,-149.5 1427,-149.5 1421,-143.5 1421,-137.5 1421,-137.5 1421,-108.5 1421,-108.5 1421,-102.5 1427,-96.5 1433,-96.5 1433,-96.5 1582,-96.5 1582,-96.5 1588,-96.5 1594,-102.5 1594,-108.5 1594,-108.5 1594,-137.5 1594,-137.5 1594,-143.5 1588,-149.5 1582,-149.5\"/>\n",
       "<text text-anchor=\"start\" x=\"1469.5\" y=\"-134.3\" font-family=\"Helvetica,sans-Serif\" font-size=\"14.00\">gini = 0.343</text>\n",
       "<text text-anchor=\"start\" x=\"1463.5\" y=\"-119.3\" font-family=\"Helvetica,sans-Serif\" font-size=\"14.00\">samples = 52</text>\n",
       "<text text-anchor=\"start\" x=\"1429\" y=\"-104.3\" font-family=\"Helvetica,sans-Serif\" font-size=\"14.00\">value = [22.047, 78.392]</text>\n",
       "</g>\n",
       "<!-- 22&#45;&gt;23 -->\n",
       "<g id=\"edge23\" class=\"edge\">\n",
       "<title>22&#45;&gt;23</title>\n",
       "<path fill=\"none\" stroke=\"black\" d=\"M1600.7,-192.88C1584.48,-180.9 1566.22,-167.4 1550.18,-155.55\"/>\n",
       "<polygon fill=\"black\" stroke=\"black\" points=\"1552.15,-152.65 1542.03,-149.52 1547.99,-158.28 1552.15,-152.65\"/>\n",
       "</g>\n",
       "<!-- 24 -->\n",
       "<g id=\"node25\" class=\"node\">\n",
       "<title>24</title>\n",
       "<path fill=\"#3fa0e6\" stroke=\"black\" d=\"M1781,-149.5C1781,-149.5 1624,-149.5 1624,-149.5 1618,-149.5 1612,-143.5 1612,-137.5 1612,-137.5 1612,-108.5 1612,-108.5 1612,-102.5 1618,-96.5 1624,-96.5 1624,-96.5 1781,-96.5 1781,-96.5 1787,-96.5 1793,-102.5 1793,-108.5 1793,-108.5 1793,-137.5 1793,-137.5 1793,-143.5 1787,-149.5 1781,-149.5\"/>\n",
       "<text text-anchor=\"start\" x=\"1664.5\" y=\"-134.3\" font-family=\"Helvetica,sans-Serif\" font-size=\"14.00\">gini = 0.059</text>\n",
       "<text text-anchor=\"start\" x=\"1658.5\" y=\"-119.3\" font-family=\"Helvetica,sans-Serif\" font-size=\"14.00\">samples = 65</text>\n",
       "<text text-anchor=\"start\" x=\"1620\" y=\"-104.3\" font-family=\"Helvetica,sans-Serif\" font-size=\"14.00\">value = [10.217, 327.819]</text>\n",
       "</g>\n",
       "<!-- 22&#45;&gt;24 -->\n",
       "<g id=\"edge24\" class=\"edge\">\n",
       "<title>22&#45;&gt;24</title>\n",
       "<path fill=\"none\" stroke=\"black\" d=\"M1664.01,-192.88C1670.15,-181.89 1677.01,-169.62 1683.21,-158.52\"/>\n",
       "<polygon fill=\"black\" stroke=\"black\" points=\"1686.42,-159.96 1688.24,-149.52 1680.31,-156.54 1686.42,-159.96\"/>\n",
       "</g>\n",
       "<!-- 26 -->\n",
       "<g id=\"node27\" class=\"node\">\n",
       "<title>26</title>\n",
       "<path fill=\"#7dbeee\" stroke=\"black\" d=\"M1980,-149.5C1980,-149.5 1823,-149.5 1823,-149.5 1817,-149.5 1811,-143.5 1811,-137.5 1811,-137.5 1811,-108.5 1811,-108.5 1811,-102.5 1817,-96.5 1823,-96.5 1823,-96.5 1980,-96.5 1980,-96.5 1986,-96.5 1992,-102.5 1992,-108.5 1992,-108.5 1992,-137.5 1992,-137.5 1992,-143.5 1986,-149.5 1980,-149.5\"/>\n",
       "<text text-anchor=\"start\" x=\"1868\" y=\"-134.3\" font-family=\"Helvetica,sans-Serif\" font-size=\"14.00\">gini = 0.38</text>\n",
       "<text text-anchor=\"start\" x=\"1857.5\" y=\"-119.3\" font-family=\"Helvetica,sans-Serif\" font-size=\"14.00\">samples = 94</text>\n",
       "<text text-anchor=\"start\" x=\"1819\" y=\"-104.3\" font-family=\"Helvetica,sans-Serif\" font-size=\"14.00\">value = [41.405, 121.151]</text>\n",
       "</g>\n",
       "<!-- 25&#45;&gt;26 -->\n",
       "<g id=\"edge26\" class=\"edge\">\n",
       "<title>25&#45;&gt;26</title>\n",
       "<path fill=\"none\" stroke=\"black\" d=\"M1912.31,-192.88C1910.63,-182.22 1908.77,-170.35 1907.07,-159.52\"/>\n",
       "<polygon fill=\"black\" stroke=\"black\" points=\"1910.51,-158.86 1905.5,-149.52 1903.6,-159.94 1910.51,-158.86\"/>\n",
       "</g>\n",
       "<!-- 27 -->\n",
       "<g id=\"node28\" class=\"node\">\n",
       "<title>27</title>\n",
       "<path fill=\"#f0b890\" stroke=\"black\" d=\"M2240.5,-157C2240.5,-157 2022.5,-157 2022.5,-157 2016.5,-157 2010.5,-151 2010.5,-145 2010.5,-145 2010.5,-101 2010.5,-101 2010.5,-95 2016.5,-89 2022.5,-89 2022.5,-89 2240.5,-89 2240.5,-89 2246.5,-89 2252.5,-95 2252.5,-101 2252.5,-101 2252.5,-145 2252.5,-145 2252.5,-151 2246.5,-157 2240.5,-157\"/>\n",
       "<text text-anchor=\"start\" x=\"2018.5\" y=\"-141.8\" font-family=\"Helvetica,sans-Serif\" font-size=\"14.00\">current_kenlm_agg_score ≤ &#45;5.267</text>\n",
       "<text text-anchor=\"start\" x=\"2093.5\" y=\"-126.8\" font-family=\"Helvetica,sans-Serif\" font-size=\"14.00\">gini = 0.424</text>\n",
       "<text text-anchor=\"start\" x=\"2083.5\" y=\"-111.8\" font-family=\"Helvetica,sans-Serif\" font-size=\"14.00\">samples = 374</text>\n",
       "<text text-anchor=\"start\" x=\"2049\" y=\"-96.8\" font-family=\"Helvetica,sans-Serif\" font-size=\"14.00\">value = [194.657, 85.518]</text>\n",
       "</g>\n",
       "<!-- 25&#45;&gt;27 -->\n",
       "<g id=\"edge27\" class=\"edge\">\n",
       "<title>25&#45;&gt;27</title>\n",
       "<path fill=\"none\" stroke=\"black\" d=\"M1986.98,-192.88C2008.02,-182.86 2031.27,-171.77 2052.86,-161.48\"/>\n",
       "<polygon fill=\"black\" stroke=\"black\" points=\"2054.48,-164.59 2062,-157.12 2051.47,-158.27 2054.48,-164.59\"/>\n",
       "</g>\n",
       "<!-- 28 -->\n",
       "<g id=\"node29\" class=\"node\">\n",
       "<title>28</title>\n",
       "<path fill=\"#e58139\" stroke=\"black\" d=\"M2010.5,-53C2010.5,-53 1886.5,-53 1886.5,-53 1880.5,-53 1874.5,-47 1874.5,-41 1874.5,-41 1874.5,-12 1874.5,-12 1874.5,-6 1880.5,0 1886.5,0 1886.5,0 2010.5,0 2010.5,0 2016.5,0 2022.5,-6 2022.5,-12 2022.5,-12 2022.5,-41 2022.5,-41 2022.5,-47 2016.5,-53 2010.5,-53\"/>\n",
       "<text text-anchor=\"start\" x=\"1919\" y=\"-37.8\" font-family=\"Helvetica,sans-Serif\" font-size=\"14.00\">gini = 0.0</text>\n",
       "<text text-anchor=\"start\" x=\"1900.5\" y=\"-22.8\" font-family=\"Helvetica,sans-Serif\" font-size=\"14.00\">samples = 135</text>\n",
       "<text text-anchor=\"start\" x=\"1882.5\" y=\"-7.8\" font-family=\"Helvetica,sans-Serif\" font-size=\"14.00\">value = [72.593, 0.0]</text>\n",
       "</g>\n",
       "<!-- 27&#45;&gt;28 -->\n",
       "<g id=\"edge28\" class=\"edge\">\n",
       "<title>27&#45;&gt;28</title>\n",
       "<path fill=\"none\" stroke=\"black\" d=\"M2067.5,-88.95C2047.83,-78.79 2026.3,-67.67 2007.02,-57.72\"/>\n",
       "<polygon fill=\"black\" stroke=\"black\" points=\"2008.54,-54.57 1998.05,-53.09 2005.33,-60.78 2008.54,-54.57\"/>\n",
       "</g>\n",
       "<!-- 29 -->\n",
       "<g id=\"node30\" class=\"node\">\n",
       "<title>29</title>\n",
       "<path fill=\"#f7d9c4\" stroke=\"black\" d=\"M2210,-53C2210,-53 2053,-53 2053,-53 2047,-53 2041,-47 2041,-41 2041,-41 2041,-12 2041,-12 2041,-6 2047,0 2053,0 2053,0 2210,0 2210,0 2216,0 2222,-6 2222,-12 2222,-12 2222,-41 2222,-41 2222,-47 2216,-53 2210,-53\"/>\n",
       "<text text-anchor=\"start\" x=\"2093.5\" y=\"-37.8\" font-family=\"Helvetica,sans-Serif\" font-size=\"14.00\">gini = 0.485</text>\n",
       "<text text-anchor=\"start\" x=\"2083.5\" y=\"-22.8\" font-family=\"Helvetica,sans-Serif\" font-size=\"14.00\">samples = 239</text>\n",
       "<text text-anchor=\"start\" x=\"2049\" y=\"-7.8\" font-family=\"Helvetica,sans-Serif\" font-size=\"14.00\">value = [122.064, 85.518]</text>\n",
       "</g>\n",
       "<!-- 27&#45;&gt;29 -->\n",
       "<g id=\"edge29\" class=\"edge\">\n",
       "<title>27&#45;&gt;29</title>\n",
       "<path fill=\"none\" stroke=\"black\" d=\"M2131.5,-88.95C2131.5,-80.72 2131.5,-71.85 2131.5,-63.48\"/>\n",
       "<polygon fill=\"black\" stroke=\"black\" points=\"2135,-63.24 2131.5,-53.24 2128,-63.24 2135,-63.24\"/>\n",
       "</g>\n",
       "<!-- 31 -->\n",
       "<g id=\"node32\" class=\"node\">\n",
       "<title>31</title>\n",
       "<path fill=\"#71b9ec\" stroke=\"black\" d=\"M2225.5,-253.5C2225.5,-253.5 2085.5,-253.5 2085.5,-253.5 2079.5,-253.5 2073.5,-247.5 2073.5,-241.5 2073.5,-241.5 2073.5,-212.5 2073.5,-212.5 2073.5,-206.5 2079.5,-200.5 2085.5,-200.5 2085.5,-200.5 2225.5,-200.5 2225.5,-200.5 2231.5,-200.5 2237.5,-206.5 2237.5,-212.5 2237.5,-212.5 2237.5,-241.5 2237.5,-241.5 2237.5,-247.5 2231.5,-253.5 2225.5,-253.5\"/>\n",
       "<text text-anchor=\"start\" x=\"2117.5\" y=\"-238.3\" font-family=\"Helvetica,sans-Serif\" font-size=\"14.00\">gini = 0.344</text>\n",
       "<text text-anchor=\"start\" x=\"2111.5\" y=\"-223.3\" font-family=\"Helvetica,sans-Serif\" font-size=\"14.00\">samples = 95</text>\n",
       "<text text-anchor=\"start\" x=\"2081.5\" y=\"-208.3\" font-family=\"Helvetica,sans-Serif\" font-size=\"14.00\">value = [40.33, 142.53]</text>\n",
       "</g>\n",
       "<!-- 30&#45;&gt;31 -->\n",
       "<g id=\"edge31\" class=\"edge\">\n",
       "<title>30&#45;&gt;31</title>\n",
       "<path fill=\"none\" stroke=\"black\" d=\"M2155.5,-296.88C2155.5,-286.33 2155.5,-274.6 2155.5,-263.85\"/>\n",
       "<polygon fill=\"black\" stroke=\"black\" points=\"2159,-263.52 2155.5,-253.52 2152,-263.52 2159,-263.52\"/>\n",
       "</g>\n",
       "<!-- 32 -->\n",
       "<g id=\"node33\" class=\"node\">\n",
       "<title>32</title>\n",
       "<path fill=\"#3c9ee5\" stroke=\"black\" d=\"M2568,-261C2568,-261 2333,-261 2333,-261 2327,-261 2321,-255 2321,-249 2321,-249 2321,-205 2321,-205 2321,-199 2327,-193 2333,-193 2333,-193 2568,-193 2568,-193 2574,-193 2580,-199 2580,-205 2580,-205 2580,-249 2580,-249 2580,-255 2574,-261 2568,-261\"/>\n",
       "<text text-anchor=\"start\" x=\"2329\" y=\"-245.8\" font-family=\"Helvetica,sans-Serif\" font-size=\"14.00\">margin_kenlm_right_left_score ≤ 1.86</text>\n",
       "<text text-anchor=\"start\" x=\"2412.5\" y=\"-230.8\" font-family=\"Helvetica,sans-Serif\" font-size=\"14.00\">gini = 0.025</text>\n",
       "<text text-anchor=\"start\" x=\"2398.5\" y=\"-215.8\" font-family=\"Helvetica,sans-Serif\" font-size=\"14.00\">samples = 1523</text>\n",
       "<text text-anchor=\"start\" x=\"2360.5\" y=\"-200.8\" font-family=\"Helvetica,sans-Serif\" font-size=\"14.00\">value = [119.913, 9264.458]</text>\n",
       "</g>\n",
       "<!-- 30&#45;&gt;32 -->\n",
       "<g id=\"edge32\" class=\"edge\">\n",
       "<title>30&#45;&gt;32</title>\n",
       "<path fill=\"none\" stroke=\"black\" d=\"M2251.28,-296.88C2281.26,-286.52 2314.51,-275.02 2345.11,-264.44\"/>\n",
       "<polygon fill=\"black\" stroke=\"black\" points=\"2346.64,-267.61 2354.95,-261.04 2344.36,-261 2346.64,-267.61\"/>\n",
       "</g>\n",
       "<!-- 33 -->\n",
       "<g id=\"node34\" class=\"node\">\n",
       "<title>33</title>\n",
       "<path fill=\"#4ea7e8\" stroke=\"black\" d=\"M2559,-157C2559,-157 2342,-157 2342,-157 2336,-157 2330,-151 2330,-145 2330,-145 2330,-101 2330,-101 2330,-95 2336,-89 2342,-89 2342,-89 2559,-89 2559,-89 2565,-89 2571,-95 2571,-101 2571,-101 2571,-145 2571,-145 2571,-151 2565,-157 2559,-157\"/>\n",
       "<text text-anchor=\"start\" x=\"2338\" y=\"-141.8\" font-family=\"Helvetica,sans-Serif\" font-size=\"14.00\">freq_levenshtein_searcher ≤ 0.761</text>\n",
       "<text text-anchor=\"start\" x=\"2412.5\" y=\"-126.8\" font-family=\"Helvetica,sans-Serif\" font-size=\"14.00\">gini = 0.174</text>\n",
       "<text text-anchor=\"start\" x=\"2402.5\" y=\"-111.8\" font-family=\"Helvetica,sans-Serif\" font-size=\"14.00\">samples = 142</text>\n",
       "<text text-anchor=\"start\" x=\"2368\" y=\"-96.8\" font-family=\"Helvetica,sans-Serif\" font-size=\"14.00\">value = [44.631, 420.464]</text>\n",
       "</g>\n",
       "<!-- 32&#45;&gt;33 -->\n",
       "<g id=\"edge33\" class=\"edge\">\n",
       "<title>32&#45;&gt;33</title>\n",
       "<path fill=\"none\" stroke=\"black\" d=\"M2450.5,-192.88C2450.5,-184.78 2450.5,-175.98 2450.5,-167.47\"/>\n",
       "<polygon fill=\"black\" stroke=\"black\" points=\"2454,-167.3 2450.5,-157.3 2447,-167.3 2454,-167.3\"/>\n",
       "</g>\n",
       "<!-- 36 -->\n",
       "<g id=\"node37\" class=\"node\">\n",
       "<title>36</title>\n",
       "<path fill=\"#3b9ee5\" stroke=\"black\" d=\"M2799,-157C2799,-157 2634,-157 2634,-157 2628,-157 2622,-151 2622,-145 2622,-145 2622,-101 2622,-101 2622,-95 2628,-89 2634,-89 2634,-89 2799,-89 2799,-89 2805,-89 2811,-95 2811,-101 2811,-101 2811,-145 2811,-145 2811,-151 2805,-157 2799,-157\"/>\n",
       "<text text-anchor=\"start\" x=\"2640.5\" y=\"-141.8\" font-family=\"Helvetica,sans-Serif\" font-size=\"14.00\">num_candidates ≤ 30.5</text>\n",
       "<text text-anchor=\"start\" x=\"2678.5\" y=\"-126.8\" font-family=\"Helvetica,sans-Serif\" font-size=\"14.00\">gini = 0.017</text>\n",
       "<text text-anchor=\"start\" x=\"2664.5\" y=\"-111.8\" font-family=\"Helvetica,sans-Serif\" font-size=\"14.00\">samples = 1381</text>\n",
       "<text text-anchor=\"start\" x=\"2630\" y=\"-96.8\" font-family=\"Helvetica,sans-Serif\" font-size=\"14.00\">value = [75.282, 8843.994]</text>\n",
       "</g>\n",
       "<!-- 32&#45;&gt;36 -->\n",
       "<g id=\"edge36\" class=\"edge\">\n",
       "<title>32&#45;&gt;36</title>\n",
       "<path fill=\"none\" stroke=\"black\" d=\"M2536.86,-192.88C2563.6,-182.63 2593.21,-171.28 2620.55,-160.79\"/>\n",
       "<polygon fill=\"black\" stroke=\"black\" points=\"2622.03,-163.97 2630.12,-157.12 2619.53,-157.44 2622.03,-163.97\"/>\n",
       "</g>\n",
       "<!-- 34 -->\n",
       "<g id=\"node35\" class=\"node\">\n",
       "<title>34</title>\n",
       "<path fill=\"#41a1e6\" stroke=\"black\" d=\"M2409,-53C2409,-53 2252,-53 2252,-53 2246,-53 2240,-47 2240,-41 2240,-41 2240,-12 2240,-12 2240,-6 2246,0 2252,0 2252,0 2409,0 2409,0 2415,0 2421,-6 2421,-12 2421,-12 2421,-41 2421,-41 2421,-47 2415,-53 2409,-53\"/>\n",
       "<text text-anchor=\"start\" x=\"2292.5\" y=\"-37.8\" font-family=\"Helvetica,sans-Serif\" font-size=\"14.00\">gini = 0.078</text>\n",
       "<text text-anchor=\"start\" x=\"2286.5\" y=\"-22.8\" font-family=\"Helvetica,sans-Serif\" font-size=\"14.00\">samples = 72</text>\n",
       "<text text-anchor=\"start\" x=\"2248\" y=\"-7.8\" font-family=\"Helvetica,sans-Serif\" font-size=\"14.00\">value = [13.981, 327.819]</text>\n",
       "</g>\n",
       "<!-- 33&#45;&gt;34 -->\n",
       "<g id=\"edge34\" class=\"edge\">\n",
       "<title>33&#45;&gt;34</title>\n",
       "<path fill=\"none\" stroke=\"black\" d=\"M2408.53,-88.95C2396.45,-79.43 2383.29,-69.07 2371.28,-59.62\"/>\n",
       "<polygon fill=\"black\" stroke=\"black\" points=\"2373.2,-56.67 2363.18,-53.24 2368.87,-62.17 2373.2,-56.67\"/>\n",
       "</g>\n",
       "<!-- 35 -->\n",
       "<g id=\"node36\" class=\"node\">\n",
       "<title>35</title>\n",
       "<path fill=\"#7bbdee\" stroke=\"black\" d=\"M2591.5,-53C2591.5,-53 2451.5,-53 2451.5,-53 2445.5,-53 2439.5,-47 2439.5,-41 2439.5,-41 2439.5,-12 2439.5,-12 2439.5,-6 2445.5,0 2451.5,0 2451.5,0 2591.5,0 2591.5,0 2597.5,0 2603.5,-6 2603.5,-12 2603.5,-12 2603.5,-41 2603.5,-41 2603.5,-47 2597.5,-53 2591.5,-53\"/>\n",
       "<text text-anchor=\"start\" x=\"2483.5\" y=\"-37.8\" font-family=\"Helvetica,sans-Serif\" font-size=\"14.00\">gini = 0.374</text>\n",
       "<text text-anchor=\"start\" x=\"2477.5\" y=\"-22.8\" font-family=\"Helvetica,sans-Serif\" font-size=\"14.00\">samples = 70</text>\n",
       "<text text-anchor=\"start\" x=\"2447.5\" y=\"-7.8\" font-family=\"Helvetica,sans-Serif\" font-size=\"14.00\">value = [30.65, 92.645]</text>\n",
       "</g>\n",
       "<!-- 33&#45;&gt;35 -->\n",
       "<g id=\"edge35\" class=\"edge\">\n",
       "<title>33&#45;&gt;35</title>\n",
       "<path fill=\"none\" stroke=\"black\" d=\"M2475.33,-88.95C2482.07,-79.98 2489.37,-70.27 2496.13,-61.26\"/>\n",
       "<polygon fill=\"black\" stroke=\"black\" points=\"2498.95,-63.33 2502.16,-53.24 2493.36,-59.13 2498.95,-63.33\"/>\n",
       "</g>\n",
       "<!-- 37 -->\n",
       "<g id=\"node38\" class=\"node\">\n",
       "<title>37</title>\n",
       "<path fill=\"#3a9ee5\" stroke=\"black\" d=\"M2799,-53C2799,-53 2634,-53 2634,-53 2628,-53 2622,-47 2622,-41 2622,-41 2622,-12 2622,-12 2622,-6 2628,0 2634,0 2634,0 2799,0 2799,0 2805,0 2811,-6 2811,-12 2811,-12 2811,-41 2811,-41 2811,-47 2805,-53 2799,-53\"/>\n",
       "<text text-anchor=\"start\" x=\"2679.5\" y=\"-37.8\" font-family=\"Helvetica,sans-Serif\" font-size=\"14.00\">gini = 0.011</text>\n",
       "<text text-anchor=\"start\" x=\"2664.5\" y=\"-22.8\" font-family=\"Helvetica,sans-Serif\" font-size=\"14.00\">samples = 1263</text>\n",
       "<text text-anchor=\"start\" x=\"2630\" y=\"-7.8\" font-family=\"Helvetica,sans-Serif\" font-size=\"14.00\">value = [46.782, 8380.771]</text>\n",
       "</g>\n",
       "<!-- 36&#45;&gt;37 -->\n",
       "<g id=\"edge37\" class=\"edge\">\n",
       "<title>36&#45;&gt;37</title>\n",
       "<path fill=\"none\" stroke=\"black\" d=\"M2716.5,-88.95C2716.5,-80.72 2716.5,-71.85 2716.5,-63.48\"/>\n",
       "<polygon fill=\"black\" stroke=\"black\" points=\"2720,-63.24 2716.5,-53.24 2713,-63.24 2720,-63.24\"/>\n",
       "</g>\n",
       "<!-- 38 -->\n",
       "<g id=\"node39\" class=\"node\">\n",
       "<title>38</title>\n",
       "<path fill=\"#45a3e7\" stroke=\"black\" d=\"M2981.5,-53C2981.5,-53 2841.5,-53 2841.5,-53 2835.5,-53 2829.5,-47 2829.5,-41 2829.5,-41 2829.5,-12 2829.5,-12 2829.5,-6 2835.5,0 2841.5,0 2841.5,0 2981.5,0 2981.5,0 2987.5,0 2993.5,-6 2993.5,-12 2993.5,-12 2993.5,-41 2993.5,-41 2993.5,-47 2987.5,-53 2981.5,-53\"/>\n",
       "<text text-anchor=\"start\" x=\"2873.5\" y=\"-37.8\" font-family=\"Helvetica,sans-Serif\" font-size=\"14.00\">gini = 0.109</text>\n",
       "<text text-anchor=\"start\" x=\"2864.5\" y=\"-22.8\" font-family=\"Helvetica,sans-Serif\" font-size=\"14.00\">samples = 118</text>\n",
       "<text text-anchor=\"start\" x=\"2837.5\" y=\"-7.8\" font-family=\"Helvetica,sans-Serif\" font-size=\"14.00\">value = [28.5, 463.223]</text>\n",
       "</g>\n",
       "<!-- 36&#45;&gt;38 -->\n",
       "<g id=\"edge38\" class=\"edge\">\n",
       "<title>36&#45;&gt;38</title>\n",
       "<path fill=\"none\" stroke=\"black\" d=\"M2784.7,-88.95C2805.84,-78.7 2829.01,-67.47 2849.7,-57.45\"/>\n",
       "<polygon fill=\"black\" stroke=\"black\" points=\"2851.23,-60.6 2858.7,-53.09 2848.18,-54.3 2851.23,-60.6\"/>\n",
       "</g>\n",
       "</g>\n",
       "</svg>\n"
      ],
      "text/plain": [
       "<graphviz.files.Source at 0x7ff0946ace50>"
      ]
     },
     "execution_count": 45,
     "metadata": {},
     "output_type": "execute_result"
    }
   ],
   "source": [
    "dot_data = tree.export_graphviz(\n",
    "    model, out_file=None,\n",
    "    feature_names=X.columns, filled=True, rounded=True, \n",
    "    special_characters=True\n",
    ")\n",
    "graphviz.Source(dot_data)"
   ]
  },
  {
   "cell_type": "code",
   "execution_count": 46,
   "metadata": {
    "ExecuteTime": {
     "end_time": "2021-02-08T08:45:34.798136Z",
     "start_time": "2021-02-08T08:45:34.717825Z"
    }
   },
   "outputs": [
    {
     "name": "stdout",
     "output_type": "stream",
     "text": [
      "is_title: 0.000\n",
      "is_upper: 0.000\n",
      "is_lower: 0.000\n",
      "is_first: 0.000\n",
      "is_title_not_is_first: 0.003\n",
      "num_candidates: 0.010\n",
      "is_current_contains_hyphen: 0.000\n",
      "current_kenlm_left_right_score: 0.000\n",
      "current_kenlm_right_left_score: 0.000\n",
      "current_kenlm_agg_score: 0.015\n",
      "freq_levenshtein_searcher: 0.010\n",
      "freq_phonetic_searcher: 0.123\n",
      "freq_handcode_searcher: 0.000\n",
      "freq_kenlm_left_right_better_current: 0.000\n",
      "freq_kenlm_right_left_better_current: 0.000\n",
      "freq_kenlm_agg_better_current: 0.002\n",
      "margin_kenlm_left_right_score: 0.004\n",
      "margin_kenlm_right_left_score: 0.002\n",
      "margin_kenlm_agg_score: 0.832\n"
     ]
    }
   ],
   "source": [
    "for coef, feature_name in zip(model.feature_importances_, X.columns.tolist()):\n",
    "    print(f'{feature_name}: {coef:.3f}')"
   ]
  },
  {
   "cell_type": "markdown",
   "metadata": {},
   "source": [
    "1. Видим, что главным признаком является `margin_kenlm_agg_score`, а остальные признаки имеют очень небольшой вклад . Возможно, модель слишком небольшая, чтобы увидеть пользу от них."
   ]
  },
  {
   "cell_type": "markdown",
   "metadata": {},
   "source": [
    "## Тестирование модели"
   ]
  },
  {
   "cell_type": "markdown",
   "metadata": {},
   "source": [
    "Приведем результаты тестирования модели в сравнении с аналогичной моделью со старой версией position selector."
   ]
  },
  {
   "cell_type": "markdown",
   "metadata": {},
   "source": [
    "### Обучающая выборка"
   ]
  },
  {
   "cell_type": "markdown",
   "metadata": {},
   "source": [
    "**Ranking SVM (после изменения position selector)**"
   ]
  },
  {
   "cell_type": "markdown",
   "metadata": {},
   "source": [
    "* True Positive: $1308$\n",
    "* Внесенных исправлений: $1460$ \n",
    "* Требуемых исправления: $1727$ \n",
    "* Precision: $89.59$, доверительный интервал: $(88.03, 91.15)$\n",
    "* Recall: $75.74$, доверительный интервал: $(74.42, 77.06)$\n",
    "* FMeasure: $82.01$, доверительный интервал: $(80.65, 83.52)$"
   ]
  },
  {
   "cell_type": "markdown",
   "metadata": {},
   "source": [
    "**Ranking SVM (до изменения position selector)**"
   ]
  },
  {
   "cell_type": "markdown",
   "metadata": {},
   "source": [
    "* True Positive: $1311$\n",
    "* Внесенных исправлений: $1451$ \n",
    "* Требуемых исправления: $1727$ \n",
    "* Precision: $90.35$, доверительный интервал: $(88.83, 91.87)$\n",
    "* Recall: $75.91$, доверительный интервал: $(74.63, 77.19)$\n",
    "* FMeasure: $82.50$, доверительный интервал: $(81.11, 83.90)$"
   ]
  },
  {
   "cell_type": "markdown",
   "metadata": {},
   "source": [
    "### Тестовая выборка"
   ]
  },
  {
   "cell_type": "markdown",
   "metadata": {},
   "source": [
    "**Ranking SVM (после изменения position selector)**"
   ]
  },
  {
   "cell_type": "markdown",
   "metadata": {},
   "source": [
    "* True Positive: $1378$\n",
    "* Внесенных исправлений: $1584$ \n",
    "* Требуемых исправления: $1976$ \n",
    "* Precision: $86.99$, доверительный интервал: $(85.34, 88.65)$\n",
    "* Recall: $69.74$, доверительный интервал: $(68.41, 71.06)$\n",
    "* FMeasure: $77.42$, доверительный интервал: $(75.94, 78.89)$"
   ]
  },
  {
   "cell_type": "markdown",
   "metadata": {},
   "source": [
    "**Ranking SVM (до изменения position selector)**"
   ]
  },
  {
   "cell_type": "markdown",
   "metadata": {},
   "source": [
    "* True Positive: $1393$\n",
    "* Внесенных исправлений: $1596$ \n",
    "* Требуемых исправления: $1976$ \n",
    "* Precision: $87.28$, доверительный интервал: $(85.66, 88.91)$\n",
    "* Recall: $70.50$, доверительный интервал: $(69.18, 71.81)$\n",
    "* FMeasure: $78.00$, доверительный интервал: $(76.54, 79.45)$"
   ]
  },
  {
   "cell_type": "markdown",
   "metadata": {},
   "source": [
    "Как видим, в обоих случаях результаты не улучшились. Попробуем это хоть как-то объяснить. Кажется, дело в том, что хоть новая модель и научилась находить больше ошибок, исправить их candidate scorer не может, так как у него просто нет подходящего кандидата. Старая модель же модель выбирает позицию для исправлния только в том случае, если уверена, что может исправить."
   ]
  },
  {
   "cell_type": "markdown",
   "metadata": {},
   "source": [
    "## Выводы\n",
    "\n",
    "1. В этом ноутбуке была собрана обучающая выборка для position selector, который использует другие признаки помимо скоров от kenlm.\n",
    "2. Было показано, что уже имеющаяся модель, смотрящая только на саггрегированный скор kenlm имеет качество $F_4 \\approx 87.1$\n",
    "3. Была обучена модель логистической регрессии с $F_4 \\approx 94.0\\%$.\n",
    "4. В результате тестирования было показано, что этот подход не дает улучшения результата. Также сделана попытка объяснить это."
   ]
  }
 ],
 "metadata": {
  "kernelspec": {
   "display_name": "Python 3",
   "language": "python",
   "name": "python3"
  },
  "language_info": {
   "codemirror_mode": {
    "name": "ipython",
    "version": 3
   },
   "file_extension": ".py",
   "mimetype": "text/x-python",
   "name": "python",
   "nbconvert_exporter": "python",
   "pygments_lexer": "ipython3",
   "version": "3.7.9"
  }
 },
 "nbformat": 4,
 "nbformat_minor": 4
}
