{
 "cells": [
  {
   "cell_type": "markdown",
   "metadata": {},
   "source": [
    "# Обучение моделей position selector"
   ]
  },
  {
   "cell_type": "markdown",
   "metadata": {},
   "source": [
    "В этом нотбуке будет произведен сбор обучающей выборки и обучение position selector с использованием дополнительных признаков."
   ]
  },
  {
   "cell_type": "code",
   "execution_count": 1,
   "metadata": {
    "ExecuteTime": {
     "end_time": "2021-04-12T16:55:42.838528Z",
     "start_time": "2021-04-12T16:55:42.791656Z"
    }
   },
   "outputs": [],
   "source": [
    "%load_ext autoreload\n",
    "%autoreload 2"
   ]
  },
  {
   "cell_type": "code",
   "execution_count": 2,
   "metadata": {
    "ExecuteTime": {
     "end_time": "2021-04-12T16:55:47.146726Z",
     "start_time": "2021-04-12T16:55:42.959609Z"
    }
   },
   "outputs": [
    {
     "name": "stderr",
     "output_type": "stream",
     "text": [
      "[nltk_data] Downloading package punkt to /home/mrgeekman/nltk_data...\n",
      "[nltk_data]   Package punkt is already up-to-date!\n",
      "[nltk_data] Downloading package stopwords to\n",
      "[nltk_data]     /home/mrgeekman/nltk_data...\n",
      "[nltk_data]   Package stopwords is already up-to-date!\n",
      "[nltk_data] Downloading package perluniprops to\n",
      "[nltk_data]     /home/mrgeekman/nltk_data...\n",
      "[nltk_data]   Package perluniprops is already up-to-date!\n",
      "[nltk_data] Downloading package nonbreaking_prefixes to\n",
      "[nltk_data]     /home/mrgeekman/nltk_data...\n",
      "[nltk_data]   Package nonbreaking_prefixes is already up-to-date!\n"
     ]
    }
   ],
   "source": [
    "import gc\n",
    "import sys\n",
    "import os\n",
    "import json\n",
    "import pickle\n",
    "import re\n",
    "from copy import copy, deepcopy\n",
    "from collections import defaultdict\n",
    "from string import punctuation\n",
    "sys.path.append('..')\n",
    "\n",
    "import dotenv\n",
    "import numpy as np\n",
    "import pandas as pd\n",
    "from transformers import BertForMaskedLM, BertTokenizer, BertConfig\n",
    "\n",
    "from deeppavlov.core.data.simple_vocab import SimpleVocabulary\n",
    "\n",
    "import kenlm\n",
    "from sacremoses import MosesTokenizer, MosesDetokenizer\n",
    "\n",
    "from src.models.SpellChecker import *\n",
    "from src.models.BertScorer.bert_scorer_correction import (\n",
    "    BertScorerCorrection\n",
    ")\n",
    "from src.evaluation.spell_ru_eval import align_sents\n",
    "\n",
    "from sklearn.linear_model import LogisticRegression\n",
    "from sklearn import tree\n",
    "from sklearn.model_selection import (\n",
    "    KFold, cross_validate, cross_val_score, train_test_split\n",
    ")\n",
    "from sklearn.preprocessing import StandardScaler\n",
    "from sklearn.pipeline import Pipeline\n",
    "from sklearn.metrics import (\n",
    "    precision_score, recall_score, fbeta_score, make_scorer\n",
    ")\n",
    "from sklearn.utils.class_weight import compute_class_weight\n",
    "\n",
    "import catboost\n",
    "from catboost import CatBoostClassifier, Pool\n",
    "\n",
    "import graphviz\n",
    "from IPython.display import display\n",
    "from tqdm.notebook import tqdm\n",
    "import matplotlib.pyplot as plt\n",
    "import seaborn as sns\n",
    "\n",
    "sns.set(font_scale=1.3)"
   ]
  },
  {
   "cell_type": "code",
   "execution_count": 3,
   "metadata": {
    "ExecuteTime": {
     "end_time": "2021-04-12T16:55:47.193745Z",
     "start_time": "2021-04-12T16:55:47.150748Z"
    }
   },
   "outputs": [],
   "source": [
    "PROJECT_PATH = os.path.join(os.path.abspath(''), os.pardir)\n",
    "DATA_PATH = os.path.join(PROJECT_PATH, 'data')\n",
    "MODEL_PATH = os.path.join(PROJECT_PATH, 'models')"
   ]
  },
  {
   "cell_type": "markdown",
   "metadata": {},
   "source": [
    "## Нахождение корректных токенов"
   ]
  },
  {
   "cell_type": "markdown",
   "metadata": {},
   "source": [
    "Начнем с того, что найдем какие токены в каждой позиции правильные. Так как наша модель не умеет никак объединять токены надо будет найти те предложения, где токены исходного предложения не объединяются."
   ]
  },
  {
   "cell_type": "markdown",
   "metadata": {},
   "source": [
    "Создадим токенизаторы."
   ]
  },
  {
   "cell_type": "code",
   "execution_count": 4,
   "metadata": {
    "ExecuteTime": {
     "end_time": "2021-04-12T16:55:47.235512Z",
     "start_time": "2021-04-12T16:55:47.197009Z"
    }
   },
   "outputs": [],
   "source": [
    "raw_tokenizer = MosesTokenizer(lang='ru')\n",
    "raw_detokenizer = MosesDetokenizer(lang='ru')\n",
    "tokenizer = lambda x: raw_tokenizer.tokenize(x, escape=False)\n",
    "detokenizer = lambda x: raw_detokenizer.detokenize(x)"
   ]
  },
  {
   "cell_type": "markdown",
   "metadata": {},
   "source": [
    "Прочитаем все предложения."
   ]
  },
  {
   "cell_type": "code",
   "execution_count": 5,
   "metadata": {
    "ExecuteTime": {
     "end_time": "2021-04-12T16:55:47.294227Z",
     "start_time": "2021-04-12T16:55:47.238092Z"
    }
   },
   "outputs": [],
   "source": [
    "with open(\n",
    "    os.path.join(DATA_PATH, 'external', 'spell_ru_eval', 'train_source.txt'), \n",
    "    'r'\n",
    ") as inf:\n",
    "    sentences = inf.readlines()\n",
    "    \n",
    "with open(\n",
    "    os.path.join(DATA_PATH, 'external', 'spell_ru_eval', \n",
    "                 'train_corrected.txt'), \n",
    "    'r'\n",
    ") as inf:\n",
    "    sentences_corrected = inf.readlines()"
   ]
  },
  {
   "cell_type": "markdown",
   "metadata": {},
   "source": [
    "Теперь такое надо сделать со всеми предложениями в датасете, но надо учесть, что иногда нам могут встречаться случаи, когда нескольким токенам слева соответствует один токен справа (например, когда в слове случайно вставлен пробел). Это случай более слоный с точки зрения обработки, а потому будем игнорировать такие предложения."
   ]
  },
  {
   "cell_type": "code",
   "execution_count": 6,
   "metadata": {
    "ExecuteTime": {
     "end_time": "2021-04-12T16:55:47.344992Z",
     "start_time": "2021-04-12T16:55:47.296660Z"
    }
   },
   "outputs": [],
   "source": [
    "def find_correction_positions(sentence, sentence_corrected):\n",
    "    \"\"\"Find position for correction in sentence.\"\"\"\n",
    "    tokenized_sentence_raw = tokenizer(\n",
    "        sentence.lower().replace('ё', 'е')\n",
    "    )\n",
    "    tokenized_sentence_corrected = tokenizer(\n",
    "        sentence_corrected.lower().replace('ё', 'е')\n",
    "    )\n",
    "    # remove punctuation from source sentence and make mapping \n",
    "    # to initial indices\n",
    "    tokenized_sentence = []\n",
    "    indices_mapping = []\n",
    "    for i, token in enumerate(tokenized_sentence_raw):\n",
    "        if not re.fullmatch(f'[{punctuation}«»]+', token):\n",
    "            tokenized_sentence.append(token)\n",
    "            indices_mapping.append(i)\n",
    "    \n",
    "    alignment = align_sents(tokenized_sentence, tokenized_sentence_corrected)\n",
    "    \n",
    "    answer = {}\n",
    "    for i, pair in enumerate(alignment):\n",
    "        left_indices, right_indices = pair\n",
    "        if left_indices[1] - left_indices[0] > 1:\n",
    "            return None\n",
    "        \n",
    "        answer[indices_mapping[left_indices[0]]] = (\n",
    "            tokenized_sentence[left_indices[0]]\n",
    "            != detokenizer(\n",
    "                 tokenized_sentence_corrected[\n",
    "                     right_indices[0]:right_indices[1]]\n",
    "            )\n",
    "        )\n",
    "    return answer"
   ]
  },
  {
   "cell_type": "markdown",
   "metadata": {},
   "source": [
    "Выполняем действие над всеми предложениями в обучающем датасете."
   ]
  },
  {
   "cell_type": "code",
   "execution_count": 7,
   "metadata": {
    "ExecuteTime": {
     "end_time": "2021-04-12T16:55:53.466697Z",
     "start_time": "2021-04-12T16:55:47.347188Z"
    },
    "scrolled": true
   },
   "outputs": [],
   "source": [
    "succ_indices = []\n",
    "answers = {}\n",
    "for i, (sentence, sentence_corrected) in enumerate(\n",
    "    zip(sentences, sentences_corrected)\n",
    "):\n",
    "    answer = find_correction_positions(sentence, sentence_corrected)\n",
    "    if answer:\n",
    "        succ_indices.append(i)\n",
    "        answers[i] = answer\n",
    "        \n",
    "sentences_to_check = [sentences[idx] for idx in succ_indices]"
   ]
  },
  {
   "cell_type": "markdown",
   "metadata": {},
   "source": [
    "Мы уже знаем по ноутбуку `6.0-db-learning_advanced_scorer`, что нам не удастся так обработать 70 предложений."
   ]
  },
  {
   "cell_type": "markdown",
   "metadata": {},
   "source": [
    "Посмотрим, как выглядит элемент выборки."
   ]
  },
  {
   "cell_type": "code",
   "execution_count": 8,
   "metadata": {
    "ExecuteTime": {
     "end_time": "2021-04-12T16:55:53.506873Z",
     "start_time": "2021-04-12T16:55:53.469093Z"
    }
   },
   "outputs": [
    {
     "data": {
      "text/plain": [
       "{0: False, 1: False, 2: False, 3: True, 4: False, 5: True, 6: False}"
      ]
     },
     "execution_count": 8,
     "metadata": {},
     "output_type": "execute_result"
    }
   ],
   "source": [
    "answers[0]"
   ]
  },
  {
   "cell_type": "markdown",
   "metadata": {},
   "source": [
    "## Сбор обучающей выборки"
   ]
  },
  {
   "cell_type": "markdown",
   "metadata": {},
   "source": [
    "Теперь требуется собрать саму обучающую выборку. \n",
    "\n",
    "Пусть на вход подается некоторое предложение для исправления. В процессе работы модели position selector находит позиции для исправления. Наша задача &mdash; зафиксировать признаки попавших в position selector кандидатов.\n",
    "\n",
    "Такое сохранение будет сделано при помощи callback-функции после вызова candidate scorer. Она соберет кандидатов с их признками и запишет это в файл. Можно было бы реализовать сбор за счет введения дополнительной callback-функции после вызова position selector."
   ]
  },
  {
   "cell_type": "code",
   "execution_count": null,
   "metadata": {
    "ExecuteTime": {
     "end_time": "2021-04-12T15:21:20.776380Z",
     "start_time": "2021-04-12T15:21:20.710173Z"
    }
   },
   "outputs": [],
   "source": [
    "data = {}"
   ]
  },
  {
   "cell_type": "code",
   "execution_count": null,
   "metadata": {
    "ExecuteTime": {
     "end_time": "2021-04-12T15:21:21.748936Z",
     "start_time": "2021-04-12T15:21:21.699072Z"
    }
   },
   "outputs": [],
   "source": [
    "def create_callback_position_selector(num_batch):\n",
    "    def callback_position_selector(\n",
    "        tokenized_sentences, indices_processing_sentences, indices_combined,\n",
    "        candidates, positions, \n",
    "        scoring_results, scoring_info\n",
    "    ):\n",
    "        for num_sent, candidates_sentence in enumerate(candidates):\n",
    "            key = (num_batch, indices_processing_sentences[num_sent])\n",
    "            for position, candidates_position in enumerate(candidates_sentence):    \n",
    "                if key not in data:\n",
    "                    data[key] = []\n",
    "                data[key].append({\n",
    "                    'position': position,\n",
    "                    'candidates': deepcopy(candidates_position)\n",
    "                })\n",
    "    return callback_position_selector"
   ]
  },
  {
   "cell_type": "markdown",
   "metadata": {},
   "source": [
    "Проинициализируем модель."
   ]
  },
  {
   "cell_type": "code",
   "execution_count": null,
   "metadata": {
    "ExecuteTime": {
     "end_time": "2021-04-12T15:25:46.961625Z",
     "start_time": "2021-04-12T15:21:25.754152Z"
    }
   },
   "outputs": [],
   "source": [
    "vocab_path = os.path.join(DATA_PATH, 'external', 'hagen_wiktionary', \n",
    "                          'wordforms_clear.txt')\n",
    "with open(vocab_path, 'r') as inf:\n",
    "    vocab = list(map(lambda x: x.strip(), inf.readlines()))\n",
    "handcode_table_path = os.path.join(DATA_PATH, 'processed', 'handcode_table', \n",
    "                                   'table.json')\n",
    "with open(handcode_table_path, 'r') as inf:\n",
    "    handcode_table = json.load(inf)\n",
    "candidate_generator = CandidateGenerator(\n",
    "    words=vocab, handcode_table=handcode_table, max_distance=1\n",
    ")"
   ]
  },
  {
   "cell_type": "markdown",
   "metadata": {},
   "source": [
    "Требуем, чтобы все кандидаты дошли до `callback`-функции."
   ]
  },
  {
   "cell_type": "code",
   "execution_count": null,
   "metadata": {
    "ExecuteTime": {
     "end_time": "2021-04-12T15:26:07.781557Z",
     "start_time": "2021-04-12T15:25:46.964299Z"
    }
   },
   "outputs": [],
   "source": [
    "model_left_right = kenlm.LanguageModel(\n",
    "    os.path.join(MODEL_PATH, 'kenlm', 'left_right_3_100.arpa.binary')\n",
    ")\n",
    "model_right_left = kenlm.LanguageModel(\n",
    "    os.path.join(MODEL_PATH, 'kenlm', 'right_left_3_100.arpa.binary')\n",
    ")\n",
    "margin_border = np.log(0.9)\n",
    "position_selector = KenlmMarginPositionSelector(\n",
    "    model_left_right, model_right_left, margin_border=margin_border\n",
    ")"
   ]
  },
  {
   "cell_type": "code",
   "execution_count": null,
   "metadata": {
    "ExecuteTime": {
     "end_time": "2021-04-12T15:26:26.240338Z",
     "start_time": "2021-04-12T15:26:07.814687Z"
    }
   },
   "outputs": [],
   "source": [
    "BERT_PATH = os.path.join(MODEL_PATH, 'conversational_rubert')\n",
    "config = BertConfig.from_json_file(\n",
    "    os.path.join(BERT_PATH, 'bert_config.json')\n",
    ")\n",
    "model = BertForMaskedLM.from_pretrained(\n",
    "    os.path.join(BERT_PATH, 'pytorch_model.bin'),\n",
    "    config=config\n",
    ")\n",
    "bert_tokenizer = BertTokenizer(os.path.join(BERT_PATH, 'vocab.txt'))\n",
    "bert_scorer_correction = BertScorerCorrection(model, bert_tokenizer)\n",
    "agg_subtoken_func = 'mean'\n",
    "bert_scorer = BertScorer(\n",
    "    bert_scorer_correction, agg_subtoken_func\n",
    ")\n",
    "candidate_scorer = CandidateScorer(bert_scorer)"
   ]
  },
  {
   "cell_type": "markdown",
   "metadata": {},
   "source": [
    "Ставим число итераций, равное одному, так как нам потребуется лишь один вызов, чтобы собрать всю необходимую информацию о кандидатах."
   ]
  },
  {
   "cell_type": "code",
   "execution_count": null,
   "metadata": {
    "ExecuteTime": {
     "end_time": "2021-04-12T15:26:26.306322Z",
     "start_time": "2021-04-12T15:26:26.244480Z"
    }
   },
   "outputs": [],
   "source": [
    "# максимальное количество итераций\n",
    "max_it = 1\n",
    "\n",
    "spellchecker = IterativeSpellChecker(\n",
    "    candidate_generator,\n",
    "    position_selector,\n",
    "    candidate_scorer,\n",
    "    tokenizer,\n",
    "    detokenizer,\n",
    "    max_it=max_it,\n",
    "    combine_tokens=False\n",
    ")"
   ]
  },
  {
   "cell_type": "markdown",
   "metadata": {},
   "source": [
    "Запустим сбор обучающей выборки."
   ]
  },
  {
   "cell_type": "code",
   "execution_count": null,
   "metadata": {
    "ExecuteTime": {
     "end_time": "2021-04-12T16:07:19.977032Z",
     "start_time": "2021-04-12T15:26:32.102697Z"
    }
   },
   "outputs": [],
   "source": [
    "batch_size = 5\n",
    "num_batches = int(np.ceil(len(sentences_to_check) / batch_size))\n",
    "\n",
    "for i in tqdm(range(num_batches)):\n",
    "    cur_sentences = sentences_to_check[i*batch_size:(i+1)*batch_size]\n",
    "    spellchecker(\n",
    "        cur_sentences,\n",
    "        callback_candidate_scorer=create_callback_position_selector(i)\n",
    "    )"
   ]
  },
  {
   "cell_type": "markdown",
   "metadata": {},
   "source": [
    "Переведем текущие индексы предложений в исходные и сохраним данные на диск."
   ]
  },
  {
   "cell_type": "code",
   "execution_count": null,
   "metadata": {
    "ExecuteTime": {
     "end_time": "2021-04-12T16:07:27.178252Z",
     "start_time": "2021-04-12T16:07:26.476337Z"
    }
   },
   "outputs": [],
   "source": [
    "data_adjusted = {}\n",
    "for key, value in data.items():\n",
    "    key_adjusted = succ_indices[key[0]*batch_size + key[1]]\n",
    "    data_adjusted[key_adjusted] = value\n",
    "    \n",
    "data = data_adjusted"
   ]
  },
  {
   "cell_type": "code",
   "execution_count": null,
   "metadata": {
    "ExecuteTime": {
     "end_time": "2021-04-12T16:07:28.365919Z",
     "start_time": "2021-04-12T16:07:27.811251Z"
    }
   },
   "outputs": [],
   "source": [
    "data_with_answers = {}\n",
    "for key, value in data.items():\n",
    "    new_value = []\n",
    "    for item in value:\n",
    "        new_item = copy(item)\n",
    "        if item['position'] in answers[key]:\n",
    "            new_item['answer'] = answers[key][item['position']]\n",
    "            new_value.append(new_item)\n",
    "    data_with_answers[key] = new_value\n",
    "    \n",
    "data = data_with_answers"
   ]
  },
  {
   "cell_type": "code",
   "execution_count": null,
   "metadata": {
    "ExecuteTime": {
     "end_time": "2021-02-07T19:27:15.994584Z",
     "start_time": "2021-02-07T19:27:15.464209Z"
    }
   },
   "outputs": [],
   "source": [
    "!mkdir -p ../data/processed/position_selector"
   ]
  },
  {
   "cell_type": "code",
   "execution_count": null,
   "metadata": {
    "ExecuteTime": {
     "end_time": "2021-04-12T16:07:34.719275Z",
     "start_time": "2021-04-12T16:07:30.656293Z"
    }
   },
   "outputs": [],
   "source": [
    "with open(os.path.join(DATA_PATH, 'processed', 'position_selector', 'data.bin'), 'wb') as ouf:\n",
    "    pickle.dump(data, ouf)"
   ]
  },
  {
   "cell_type": "markdown",
   "metadata": {},
   "source": [
    "### Аналитика"
   ]
  },
  {
   "cell_type": "markdown",
   "metadata": {},
   "source": [
    "Проведем небольшую аналитку по данным. Найдем:\n",
    "1. Среднее количество кандидатов.\n",
    "2. Количество предложений, которые надо оставить без исправлений.\n",
    "3. Средняя доля позиций, которые надо оставить без изменений.\n",
    "4. Количество предложений с ошибкой в первой позиции.\n",
    "5. Доля позиций с ошибкой. Позиция не является первой в предложении и оригинальный токен в ней\n",
    "    * написан строчными буквами \n",
    "    * начинается с заглавной буквы\n",
    "    * написан заглавными буквами"
   ]
  },
  {
   "cell_type": "code",
   "execution_count": 9,
   "metadata": {
    "ExecuteTime": {
     "end_time": "2021-04-12T16:55:55.183542Z",
     "start_time": "2021-04-12T16:55:53.512075Z"
    }
   },
   "outputs": [],
   "source": [
    "with open(os.path.join(DATA_PATH, 'processed', 'position_selector', 'data.bin'), 'rb') as inf:\n",
    "    data = pickle.load(inf)"
   ]
  },
  {
   "cell_type": "markdown",
   "metadata": {},
   "source": [
    "1). Среднее количество кандидатов."
   ]
  },
  {
   "cell_type": "code",
   "execution_count": 10,
   "metadata": {
    "ExecuteTime": {
     "end_time": "2021-04-12T16:55:55.245801Z",
     "start_time": "2021-04-12T16:55:55.186677Z"
    }
   },
   "outputs": [
    {
     "name": "stdout",
     "output_type": "stream",
     "text": [
      "Среднее количество кандидатов: 22.592\n"
     ]
    }
   ],
   "source": [
    "num_candidates = []\n",
    "for key, value in data.items():\n",
    "    for item in value:\n",
    "        num_candidates.append(len(item['candidates']))\n",
    "print(f'Среднее количество кандидатов: {np.mean(num_candidates):.3f}')"
   ]
  },
  {
   "cell_type": "markdown",
   "metadata": {},
   "source": [
    "2). Количество предложений, которые надо оставить без исправлений."
   ]
  },
  {
   "cell_type": "code",
   "execution_count": 11,
   "metadata": {
    "ExecuteTime": {
     "end_time": "2021-04-12T16:55:55.360407Z",
     "start_time": "2021-04-12T16:55:55.248488Z"
    }
   },
   "outputs": [
    {
     "name": "stdout",
     "output_type": "stream",
     "text": [
      "Количество предложений, которые надо оставить без исправлений: 812\n"
     ]
    }
   ],
   "source": [
    "is_correct = []\n",
    "for key, value in data.items():\n",
    "    sentence_answers = []\n",
    "    for item in value:\n",
    "        sentence_answers.append(item['answer'])\n",
    "    sentence_answers = np.array(sentence_answers)\n",
    "    is_correct.append(np.all(~sentence_answers))\n",
    "\n",
    "print(f'Количество предложений, которые надо оставить без исправлений: '\n",
    "      f'{np.sum(is_correct)}')"
   ]
  },
  {
   "cell_type": "markdown",
   "metadata": {
    "ExecuteTime": {
     "end_time": "2021-02-02T13:07:36.457619Z",
     "start_time": "2021-02-02T13:07:36.433Z"
    }
   },
   "source": [
    "Как видим, есть достаточно много предложений, которые надо оставить без каких-либо исправлений."
   ]
  },
  {
   "cell_type": "markdown",
   "metadata": {},
   "source": [
    "3). Средняя доля позиций, которые надо оставить без изменений."
   ]
  },
  {
   "cell_type": "code",
   "execution_count": 12,
   "metadata": {
    "ExecuteTime": {
     "end_time": "2021-04-12T16:55:55.485616Z",
     "start_time": "2021-04-12T16:55:55.362702Z"
    }
   },
   "outputs": [
    {
     "name": "stdout",
     "output_type": "stream",
     "text": [
      "Средняя доля позиций, которые надо оставить без изменений: 0.903\n"
     ]
    }
   ],
   "source": [
    "fraq_of_correct = []\n",
    "for key, value in data.items():\n",
    "    sentence_answers = []\n",
    "    for item in value:\n",
    "        sentence_answers.append(item['answer'])\n",
    "    fraq_of_correct.append(1-np.mean(sentence_answers))\n",
    "\n",
    "print(f'Средняя доля позиций, которые надо оставить без изменений: '\n",
    "      f'{np.mean(fraq_of_correct):.3f}')"
   ]
  },
  {
   "cell_type": "markdown",
   "metadata": {},
   "source": [
    "Как видим, в среднем без изменений надо оставить $90\\%$ позиций."
   ]
  },
  {
   "cell_type": "markdown",
   "metadata": {},
   "source": [
    "4). Количество предложений с ошибкой в первой позиции."
   ]
  },
  {
   "cell_type": "code",
   "execution_count": 13,
   "metadata": {
    "ExecuteTime": {
     "end_time": "2021-04-12T16:55:55.523257Z",
     "start_time": "2021-04-12T16:55:55.487716Z"
    }
   },
   "outputs": [
    {
     "name": "stdout",
     "output_type": "stream",
     "text": [
      "Количество предложений с исправлением в первой позиции: 674\n"
     ]
    }
   ],
   "source": [
    "is_correct = []\n",
    "for key, value in data.items():\n",
    "    item = value[0]\n",
    "    if item['position'] == 0:\n",
    "        is_correct.append(item['answer'])\n",
    "\n",
    "print(f'Количество предложений с исправлением в первой позиции: '\n",
    "      f'{np.sum(is_correct)}')"
   ]
  },
  {
   "cell_type": "markdown",
   "metadata": {},
   "source": [
    "Как видим, их достаточно много."
   ]
  },
  {
   "cell_type": "markdown",
   "metadata": {},
   "source": [
    "5). Доля позиций с ошибкой. Позиция не является первой в предложении, а написание оригинального токена варьируется."
   ]
  },
  {
   "cell_type": "code",
   "execution_count": 14,
   "metadata": {
    "ExecuteTime": {
     "end_time": "2021-04-12T16:55:55.606947Z",
     "start_time": "2021-04-12T16:55:55.525469Z"
    }
   },
   "outputs": [
    {
     "name": "stdout",
     "output_type": "stream",
     "text": [
      "Доля позиций с ошибкой (оригинальный токен строчными буквами) : 877/19875 ~ 0.044\n",
      "Доля позиций с ошибкой (оригинальный токен с заглавной буквы) : 6/478 ~ 0.013\n",
      "Доля позиций с ошибкой (оригинальный токен заглавными буквами) : 1/68 ~ 0.015\n"
     ]
    }
   ],
   "source": [
    "is_correct_lower = []\n",
    "is_correct_title = []\n",
    "is_correct_upper = []\n",
    "for key, value in data.items():\n",
    "    for item in value:\n",
    "        candidate = item['candidates'][0]\n",
    "        if not candidate['is_first']:\n",
    "            if candidate['is_lower']:\n",
    "                is_correct_lower.append(item['answer'])\n",
    "            if candidate['is_title']:\n",
    "                is_correct_title.append(item['answer'])\n",
    "            if candidate['is_upper']:\n",
    "                is_correct_upper.append(item['answer'])\n",
    "\n",
    "print(f'Доля позиций с ошибкой (оригинальный токен строчными буквами) : '\n",
    "      f'{np.sum(is_correct_lower)}/{len(is_correct_lower)} ~ '\n",
    "      f'{np.mean(is_correct_lower):.3f}')\n",
    "print(f'Доля позиций с ошибкой (оригинальный токен с заглавной буквы) : '\n",
    "      f'{np.sum(is_correct_title)}/{len(is_correct_title)} ~ '\n",
    "      f'{np.mean(is_correct_title):.3f}')\n",
    "print(f'Доля позиций с ошибкой (оригинальный токен заглавными буквами) : '\n",
    "      f'{np.sum(is_correct_upper)}/{len(is_correct_upper)} ~ '\n",
    "      f'{np.mean(is_correct_upper):.3f}')"
   ]
  },
  {
   "cell_type": "markdown",
   "metadata": {
    "ExecuteTime": {
     "end_time": "2021-02-06T10:18:15.914529Z",
     "start_time": "2021-02-06T10:18:15.866020Z"
    }
   },
   "source": [
    "Видим, что доля позиций с ошибками в случае написания с большой буквы отличается. В некоторой степени ошибками в словах с заглавной буквы можно пренебречь, так как их достаточно мало."
   ]
  },
  {
   "cell_type": "markdown",
   "metadata": {},
   "source": [
    "## Обучение модели"
   ]
  },
  {
   "cell_type": "markdown",
   "metadata": {},
   "source": [
    "Теперь обучим модель. Будем решать задачу классификации, потому что хотим уметь классифицировать позиции.\n",
    "\n",
    "В качестве итоговой метрики хочется взять recall, но тогда за лучшее решение &mdash; сойдет константа, которая все позиции будет считать необходимыми для коррекции, что сильно замедлит работу модели, так как ей придется проверять каждую позицию на исправления. В таком случае, требуется некий компромисс. Возьмем \n",
    "\n",
    "$$\n",
    "F_{\\beta} = (1 + \\beta^2) \\frac{precision \\cdot recall}{(\\beta^2 \\cdot precision) + recall}.\n",
    "$$\n",
    "\n",
    "В такой постановке:\n",
    "* $0 < \\beta < 1 \\implies$ важнее precision;\n",
    "* $\\beta = 1 \\implies$ среднее гармоническое, то есть $F_1$-мера;\n",
    "* $1 < \\beta < +\\infty \\implies$ важнее recall.\n",
    "\n",
    "Нам важнее recall, поэтому возьмем $F_4$. "
   ]
  },
  {
   "cell_type": "markdown",
   "metadata": {},
   "source": [
    "### Подготовка датафрейма"
   ]
  },
  {
   "cell_type": "markdown",
   "metadata": {},
   "source": [
    "Начнем с создания датафрейма с генерацией некоторых признаков. Используемые признаки:\n",
    "1. Общие признаки позиции:\n",
    "    * `is_title` &mdash; начинается ли исходный токен в этой позиции с заглавной буквы;\n",
    "    * `is_upper` &mdash; написан ли весь исходный токен в этой позиции заглавными буквами;\n",
    "    * `is_lower` &mdash; написан ли весь исходный токен в этой позиции строчными буквами;\n",
    "    * `is_first` &mdash; является ли эта позиция первой в предложении.\n",
    "    * `is_title_not_is_first` &mdash; конъюнкция признаков `is_title` и отрицания признака `is_first`.\n",
    "2. `num_candidates` &mdash; количество кандидатов.\n",
    "3. Частоты различных источников кандидатов:\n",
    "    * `freq_levenshtein_searcher` &mdash; доля кандидатов из `levenshtein_searcher`;\n",
    "    * `freq_phonetic_searcher` &mdash; доля кандидатов из `phonetic_searcher`;\n",
    "    * `freq_handcode_searcher` &mdash; доля кандидатов из `handcode_searcher`.\n",
    "4. Признаки текущего кандидата:\n",
    "    * `is_current_contains_hyphen` &mdash; содержит ли текущий токен дефис;\n",
    "    * `current_kenlm_left_right_score` &mdash; kenlm-скор текущего токена для модели слева-направо;\n",
    "    * `current_kenlm_right_left_score` &mdash; kenlm-скор текущего токена для модели справа-налево;\n",
    "    * `current_kenlm_agg_score` &mdash; аггрегированный kenlm-скор для текущего токена.\n",
    "5. Признаки kenlm:\n",
    "    * `freq_kenlm_left_right_better_current` &mdash; доля кандидатов, лучших, чем текущий согласно модели kenlm слева-направо; \n",
    "    * `margin_kenlm_left_right_score` &mdash; зазор между лучшим и текущим кандидатами согласно модели kenlm слева-направо;\n",
    "    * `freq_kenlm_right_left_better_current` &mdash; доля кандидатов, лучших, чем текущий согласно модели kenlm справа-налево; \n",
    "    * `margin_kenlm_right_left_score` &mdash; зазор между лучшим и текущим кандидатами согласно модели kenlm справа-налево;\n",
    "    * `freq_kenlm_agg_better_current` &mdash; доля кандидатов, лучших, чем текущий согласно аггрегированным скорам kenlm; \n",
    "    * `margin_kenlm_agg_score` &mdash; зазор между лучшим и текущим кандидатами согласно аггрегированным скорам kenlm."
   ]
  },
  {
   "cell_type": "code",
   "execution_count": 15,
   "metadata": {
    "ExecuteTime": {
     "end_time": "2021-04-12T16:56:01.594177Z",
     "start_time": "2021-04-12T16:55:55.609583Z"
    }
   },
   "outputs": [],
   "source": [
    "df_dict = defaultdict(lambda: list())\n",
    "\n",
    "for key, sentence_data in data.items():\n",
    "    for position_data in sentence_data:\n",
    "        df_dict['answer'].append(position_data['answer'])\n",
    "        candidate = position_data['candidates'][0]\n",
    "        df_dict['is_title'].append(candidate['is_title'])\n",
    "        df_dict['is_upper'].append(candidate['is_upper'])\n",
    "        df_dict['is_lower'].append(candidate['is_lower'])\n",
    "        df_dict['is_first'].append(candidate['is_first'])\n",
    "        df_dict['is_title_not_is_first'].append(\n",
    "            candidate['is_title'] and not candidate['is_first']\n",
    "        )\n",
    "        \n",
    "        df_dict['num_candidates'].append(len(position_data['candidates']))\n",
    "        \n",
    "        current_candidate = next((\n",
    "            candidate for candidate in position_data['candidates'] \n",
    "            if candidate['is_current']\n",
    "        ))\n",
    "        df_dict['is_current_contains_hyphen'].append(\n",
    "            current_candidate['contains_hyphen']\n",
    "        )\n",
    "        df_dict['current_kenlm_left_right_score'].append(\n",
    "            current_candidate['kenlm_left_right_score']\n",
    "        )\n",
    "        df_dict['current_kenlm_right_left_score'].append(\n",
    "            current_candidate['kenlm_right_left_score']\n",
    "        )\n",
    "        df_dict['current_kenlm_agg_score'].append(\n",
    "            current_candidate['kenlm_agg_score']\n",
    "        )\n",
    "        \n",
    "        from_levenshtein = []\n",
    "        from_phonetic = []\n",
    "        from_handcode = []\n",
    "        kenlm_left_right_better = []\n",
    "        kenlm_right_left_better = []\n",
    "        kenlm_agg_better = []\n",
    "        margin_kenlm_left_right = 0\n",
    "        margin_kenlm_right_left = 0\n",
    "        margin_kenlm_agg = 0\n",
    "        for candidate in position_data['candidates']:\n",
    "            from_levenshtein.append(candidate['from_levenshtein_searcher'])\n",
    "            from_phonetic.append(candidate['from_phonetic_searcher'])\n",
    "            from_handcode.append(candidate['from_handcode_searcher'])\n",
    "            kenlm_left_right_better.append(\n",
    "                candidate['kenlm_left_right_score'] \n",
    "                > current_candidate['kenlm_left_right_score']\n",
    "            )\n",
    "            kenlm_right_left_better.append(\n",
    "                candidate['kenlm_right_left_score'] \n",
    "                > current_candidate['kenlm_right_left_score']\n",
    "            )\n",
    "            kenlm_agg_better.append(\n",
    "                candidate['kenlm_agg_score'] \n",
    "                > current_candidate['kenlm_agg_score']\n",
    "            )\n",
    "            margin_kenlm_left_right = max(\n",
    "                margin_kenlm_left_right, \n",
    "                candidate['kenlm_left_right_score'] \n",
    "                - current_candidate['kenlm_left_right_score']\n",
    "            )\n",
    "            margin_kenlm_right_left = max(\n",
    "                margin_kenlm_right_left, \n",
    "                candidate['kenlm_right_left_score'] \n",
    "                - current_candidate['kenlm_right_left_score']\n",
    "            )\n",
    "            margin_kenlm_agg = max(\n",
    "                margin_kenlm_agg, \n",
    "                candidate['kenlm_agg_score'] \n",
    "                - current_candidate['kenlm_agg_score']\n",
    "            )\n",
    "        \n",
    "        df_dict['freq_levenshtein_searcher'].append(np.mean(from_levenshtein))\n",
    "        df_dict['freq_phonetic_searcher'].append(np.mean(from_phonetic))\n",
    "        df_dict['freq_handcode_searcher'].append(np.mean(from_handcode))\n",
    "        df_dict['freq_kenlm_left_right_better_current'].append(\n",
    "            np.mean(kenlm_left_right_better)\n",
    "        )\n",
    "        df_dict['freq_kenlm_right_left_better_current'].append(\n",
    "            np.mean(kenlm_right_left_better)\n",
    "        )\n",
    "        df_dict['freq_kenlm_agg_better_current'].append(\n",
    "            np.mean(kenlm_agg_better)\n",
    "        )\n",
    "        df_dict['margin_kenlm_left_right_score'].append(\n",
    "            margin_kenlm_left_right\n",
    "        )\n",
    "        df_dict['margin_kenlm_right_left_score'].append(\n",
    "            margin_kenlm_right_left\n",
    "        )\n",
    "        df_dict['margin_kenlm_agg_score'].append(\n",
    "            margin_kenlm_agg\n",
    "        )"
   ]
  },
  {
   "cell_type": "code",
   "execution_count": 16,
   "metadata": {
    "ExecuteTime": {
     "end_time": "2021-04-12T16:56:01.780194Z",
     "start_time": "2021-04-12T16:56:01.600029Z"
    }
   },
   "outputs": [
    {
     "data": {
      "text/html": [
       "<div>\n",
       "<style scoped>\n",
       "    .dataframe tbody tr th:only-of-type {\n",
       "        vertical-align: middle;\n",
       "    }\n",
       "\n",
       "    .dataframe tbody tr th {\n",
       "        vertical-align: top;\n",
       "    }\n",
       "\n",
       "    .dataframe thead th {\n",
       "        text-align: right;\n",
       "    }\n",
       "</style>\n",
       "<table border=\"1\" class=\"dataframe\">\n",
       "  <thead>\n",
       "    <tr style=\"text-align: right;\">\n",
       "      <th></th>\n",
       "      <th>answer</th>\n",
       "      <th>is_title</th>\n",
       "      <th>is_upper</th>\n",
       "      <th>is_lower</th>\n",
       "      <th>is_first</th>\n",
       "      <th>is_title_not_is_first</th>\n",
       "      <th>num_candidates</th>\n",
       "      <th>is_current_contains_hyphen</th>\n",
       "      <th>current_kenlm_left_right_score</th>\n",
       "      <th>current_kenlm_right_left_score</th>\n",
       "      <th>current_kenlm_agg_score</th>\n",
       "      <th>freq_levenshtein_searcher</th>\n",
       "      <th>freq_phonetic_searcher</th>\n",
       "      <th>freq_handcode_searcher</th>\n",
       "      <th>freq_kenlm_left_right_better_current</th>\n",
       "      <th>freq_kenlm_right_left_better_current</th>\n",
       "      <th>freq_kenlm_agg_better_current</th>\n",
       "      <th>margin_kenlm_left_right_score</th>\n",
       "      <th>margin_kenlm_right_left_score</th>\n",
       "      <th>margin_kenlm_agg_score</th>\n",
       "    </tr>\n",
       "  </thead>\n",
       "  <tbody>\n",
       "    <tr>\n",
       "      <th>0</th>\n",
       "      <td>False</td>\n",
       "      <td>False</td>\n",
       "      <td>False</td>\n",
       "      <td>True</td>\n",
       "      <td>True</td>\n",
       "      <td>False</td>\n",
       "      <td>9</td>\n",
       "      <td>False</td>\n",
       "      <td>-3.023839</td>\n",
       "      <td>-2.291227</td>\n",
       "      <td>-2.607042</td>\n",
       "      <td>0.444444</td>\n",
       "      <td>0.555556</td>\n",
       "      <td>0.0</td>\n",
       "      <td>0.000000</td>\n",
       "      <td>0.0</td>\n",
       "      <td>0.000000</td>\n",
       "      <td>0.000000</td>\n",
       "      <td>0.000000</td>\n",
       "      <td>0.000000</td>\n",
       "    </tr>\n",
       "    <tr>\n",
       "      <th>1</th>\n",
       "      <td>False</td>\n",
       "      <td>False</td>\n",
       "      <td>False</td>\n",
       "      <td>True</td>\n",
       "      <td>False</td>\n",
       "      <td>False</td>\n",
       "      <td>16</td>\n",
       "      <td>False</td>\n",
       "      <td>-3.782044</td>\n",
       "      <td>-3.033151</td>\n",
       "      <td>-3.366451</td>\n",
       "      <td>0.062500</td>\n",
       "      <td>0.937500</td>\n",
       "      <td>0.0</td>\n",
       "      <td>0.000000</td>\n",
       "      <td>0.0</td>\n",
       "      <td>0.000000</td>\n",
       "      <td>0.000000</td>\n",
       "      <td>0.000000</td>\n",
       "      <td>0.000000</td>\n",
       "    </tr>\n",
       "    <tr>\n",
       "      <th>2</th>\n",
       "      <td>False</td>\n",
       "      <td>False</td>\n",
       "      <td>False</td>\n",
       "      <td>True</td>\n",
       "      <td>False</td>\n",
       "      <td>False</td>\n",
       "      <td>31</td>\n",
       "      <td>False</td>\n",
       "      <td>-2.843976</td>\n",
       "      <td>-4.770748</td>\n",
       "      <td>-3.563595</td>\n",
       "      <td>0.677419</td>\n",
       "      <td>0.387097</td>\n",
       "      <td>0.0</td>\n",
       "      <td>0.032258</td>\n",
       "      <td>0.0</td>\n",
       "      <td>0.032258</td>\n",
       "      <td>0.344630</td>\n",
       "      <td>0.000000</td>\n",
       "      <td>0.111646</td>\n",
       "    </tr>\n",
       "    <tr>\n",
       "      <th>3</th>\n",
       "      <td>True</td>\n",
       "      <td>False</td>\n",
       "      <td>False</td>\n",
       "      <td>True</td>\n",
       "      <td>False</td>\n",
       "      <td>False</td>\n",
       "      <td>5</td>\n",
       "      <td>False</td>\n",
       "      <td>-7.820433</td>\n",
       "      <td>-8.266124</td>\n",
       "      <td>-8.037104</td>\n",
       "      <td>0.800000</td>\n",
       "      <td>0.000000</td>\n",
       "      <td>0.0</td>\n",
       "      <td>0.600000</td>\n",
       "      <td>0.6</td>\n",
       "      <td>0.600000</td>\n",
       "      <td>4.302948</td>\n",
       "      <td>3.530869</td>\n",
       "      <td>3.997098</td>\n",
       "    </tr>\n",
       "    <tr>\n",
       "      <th>4</th>\n",
       "      <td>False</td>\n",
       "      <td>False</td>\n",
       "      <td>False</td>\n",
       "      <td>True</td>\n",
       "      <td>False</td>\n",
       "      <td>False</td>\n",
       "      <td>34</td>\n",
       "      <td>False</td>\n",
       "      <td>-2.005364</td>\n",
       "      <td>-2.042550</td>\n",
       "      <td>-2.023786</td>\n",
       "      <td>0.411765</td>\n",
       "      <td>0.676471</td>\n",
       "      <td>0.0</td>\n",
       "      <td>0.000000</td>\n",
       "      <td>0.0</td>\n",
       "      <td>0.000000</td>\n",
       "      <td>0.000000</td>\n",
       "      <td>0.000000</td>\n",
       "      <td>0.000000</td>\n",
       "    </tr>\n",
       "  </tbody>\n",
       "</table>\n",
       "</div>"
      ],
      "text/plain": [
       "   answer  is_title  is_upper  is_lower  is_first  is_title_not_is_first  \\\n",
       "0   False     False     False      True      True                  False   \n",
       "1   False     False     False      True     False                  False   \n",
       "2   False     False     False      True     False                  False   \n",
       "3    True     False     False      True     False                  False   \n",
       "4   False     False     False      True     False                  False   \n",
       "\n",
       "   num_candidates  is_current_contains_hyphen  current_kenlm_left_right_score  \\\n",
       "0               9                       False                       -3.023839   \n",
       "1              16                       False                       -3.782044   \n",
       "2              31                       False                       -2.843976   \n",
       "3               5                       False                       -7.820433   \n",
       "4              34                       False                       -2.005364   \n",
       "\n",
       "   current_kenlm_right_left_score  current_kenlm_agg_score  \\\n",
       "0                       -2.291227                -2.607042   \n",
       "1                       -3.033151                -3.366451   \n",
       "2                       -4.770748                -3.563595   \n",
       "3                       -8.266124                -8.037104   \n",
       "4                       -2.042550                -2.023786   \n",
       "\n",
       "   freq_levenshtein_searcher  freq_phonetic_searcher  freq_handcode_searcher  \\\n",
       "0                   0.444444                0.555556                     0.0   \n",
       "1                   0.062500                0.937500                     0.0   \n",
       "2                   0.677419                0.387097                     0.0   \n",
       "3                   0.800000                0.000000                     0.0   \n",
       "4                   0.411765                0.676471                     0.0   \n",
       "\n",
       "   freq_kenlm_left_right_better_current  freq_kenlm_right_left_better_current  \\\n",
       "0                              0.000000                                   0.0   \n",
       "1                              0.000000                                   0.0   \n",
       "2                              0.032258                                   0.0   \n",
       "3                              0.600000                                   0.6   \n",
       "4                              0.000000                                   0.0   \n",
       "\n",
       "   freq_kenlm_agg_better_current  margin_kenlm_left_right_score  \\\n",
       "0                       0.000000                       0.000000   \n",
       "1                       0.000000                       0.000000   \n",
       "2                       0.032258                       0.344630   \n",
       "3                       0.600000                       4.302948   \n",
       "4                       0.000000                       0.000000   \n",
       "\n",
       "   margin_kenlm_right_left_score  margin_kenlm_agg_score  \n",
       "0                       0.000000                0.000000  \n",
       "1                       0.000000                0.000000  \n",
       "2                       0.000000                0.111646  \n",
       "3                       3.530869                3.997098  \n",
       "4                       0.000000                0.000000  "
      ]
     },
     "execution_count": 16,
     "metadata": {},
     "output_type": "execute_result"
    }
   ],
   "source": [
    "df = pd.DataFrame(df_dict)\n",
    "df.head()"
   ]
  },
  {
   "cell_type": "code",
   "execution_count": 17,
   "metadata": {
    "ExecuteTime": {
     "end_time": "2021-04-12T16:56:01.823373Z",
     "start_time": "2021-04-12T16:56:01.784948Z"
    }
   },
   "outputs": [
    {
     "data": {
      "text/plain": [
       "(22461, 20)"
      ]
     },
     "execution_count": 17,
     "metadata": {},
     "output_type": "execute_result"
    }
   ],
   "source": [
    "df.shape"
   ]
  },
  {
   "cell_type": "code",
   "execution_count": 18,
   "metadata": {
    "ExecuteTime": {
     "end_time": "2021-04-12T16:56:01.889487Z",
     "start_time": "2021-04-12T16:56:01.826143Z"
    }
   },
   "outputs": [],
   "source": [
    "y = df['answer'].astype(int)\n",
    "X = df.drop(columns=['answer'])"
   ]
  },
  {
   "cell_type": "markdown",
   "metadata": {},
   "source": [
    "### `KenlmPositionSelector`"
   ]
  },
  {
   "cell_type": "markdown",
   "metadata": {},
   "source": [
    "Сначала посмотрим, какое качество можно получить, используя уже известный нам `KenlmPositionSelector`. Поварьируем параметр `margin_border` и посмотрим на динамику precision, recall, $F_4$."
   ]
  },
  {
   "cell_type": "code",
   "execution_count": 19,
   "metadata": {
    "ExecuteTime": {
     "end_time": "2021-04-12T16:56:04.576909Z",
     "start_time": "2021-04-12T16:56:01.892614Z"
    }
   },
   "outputs": [],
   "source": [
    "margin_borders_exp = np.linspace(1.05, 3, 100)\n",
    "margin_borders = np.log(margin_borders_exp)\n",
    "precision_values = []\n",
    "recall_values = []\n",
    "fbeta_values = []\n",
    "\n",
    "for margin_border in margin_borders:\n",
    "    answer = df['answer']\n",
    "    prediction = df['margin_kenlm_agg_score'] > margin_border\n",
    "    precision_values.append(precision_score(answer, prediction))\n",
    "    recall_values.append(recall_score(answer, prediction))\n",
    "    fbeta_values.append(fbeta_score(answer, prediction, beta=4))"
   ]
  },
  {
   "cell_type": "code",
   "execution_count": 20,
   "metadata": {
    "ExecuteTime": {
     "end_time": "2021-04-12T16:56:05.963959Z",
     "start_time": "2021-04-12T16:56:04.579569Z"
    }
   },
   "outputs": [
    {
     "data": {
      "image/png": "[encoded data removed]",
      "text/plain": [
       "<Figure size 864x432 with 1 Axes>"
      ]
     },
     "metadata": {},
     "output_type": "display_data"
    }
   ],
   "source": [
    "plt.figure(figsize=(12, 6))\n",
    "plt.plot(margin_borders_exp, precision_values, label='Точность', c='#00CC66')\n",
    "plt.plot(margin_borders_exp, recall_values, label='Полнота', c='#0066FF')\n",
    "plt.plot(margin_borders_exp, fbeta_values, label='$F_4$', c='orange')\n",
    "plt.title('Зависимость метрик от предельного отступа')\n",
    "plt.xlabel('Предельный отступ')\n",
    "plt.ylabel('Значение метрики')\n",
    "legend_box = plt.legend(framealpha=1).get_frame()\n",
    "legend_box.set_facecolor(\"white\")\n",
    "legend_box.set_edgecolor(\"black\")\n",
    "pathsave = os.path.join(\n",
    "    PROJECT_PATH, 'reports', 'figures', 'position_selector_default.png'\n",
    ")\n",
    "plt.savefig(pathsave, bbox_inches='tight')\n",
    "plt.show()"
   ]
  },
  {
   "cell_type": "markdown",
   "metadata": {},
   "source": [
    "Найдем оптимальное значение `margin_border`."
   ]
  },
  {
   "cell_type": "code",
   "execution_count": 21,
   "metadata": {
    "ExecuteTime": {
     "end_time": "2021-04-12T16:56:06.020077Z",
     "start_time": "2021-04-12T16:56:05.966609Z"
    }
   },
   "outputs": [
    {
     "name": "stdout",
     "output_type": "stream",
     "text": [
      "Лучший кандидат должен превосходить текущего в 2.842 раза\n",
      "Лучшее значение F_4: 0.8782\n",
      "Соответствующее значение precision: 0.6320\n",
      "Соответствующее значение recall: 0.9001\n"
     ]
    }
   ],
   "source": [
    "best_idx = np.argmax(fbeta_values)\n",
    "margin_border_exp_optimal = margin_borders_exp[best_idx]\n",
    "print(f'Лучший кандидат должен превосходить текущего '\n",
    "      f'в {margin_border_exp_optimal:.3f} раза')\n",
    "print(f'Лучшее значение F_4: {fbeta_values[best_idx]:.4f}')\n",
    "print(f'Соответствующее значение precision: {precision_values[best_idx]:.4f}')\n",
    "print(f'Соответствующее значение recall: {recall_values[best_idx]:.4f}')"
   ]
  },
  {
   "cell_type": "markdown",
   "metadata": {},
   "source": [
    "Как видим, текущий скор уже выглядит достаточно хорошо, но интересно узнать насколько его можно улучшить."
   ]
  },
  {
   "cell_type": "markdown",
   "metadata": {},
   "source": [
    "Проведем также аналогичный эксперимент, но с игнорированием позиций, где слова начинаются с заглавной буквы (за исключением первой позиции)."
   ]
  },
  {
   "cell_type": "code",
   "execution_count": 22,
   "metadata": {
    "ExecuteTime": {
     "end_time": "2021-04-12T16:56:08.682873Z",
     "start_time": "2021-04-12T16:56:06.023009Z"
    }
   },
   "outputs": [],
   "source": [
    "margin_borders_exp = np.linspace(1.05, 3, 100)\n",
    "margin_borders = np.log(margin_borders_exp)\n",
    "precision_values = []\n",
    "recall_values = []\n",
    "fbeta_values = []\n",
    "\n",
    "for margin_border in margin_borders:\n",
    "    answer = df['answer']\n",
    "    prediction = (\n",
    "        (df['margin_kenlm_agg_score'] > margin_border)\n",
    "        & ~(df['is_title'] & ~df['is_first'])\n",
    "    )\n",
    "    precision_values.append(precision_score(answer, prediction))\n",
    "    recall_values.append(recall_score(answer, prediction))\n",
    "    fbeta_values.append(fbeta_score(answer, prediction, beta=4))"
   ]
  },
  {
   "cell_type": "code",
   "execution_count": 23,
   "metadata": {
    "ExecuteTime": {
     "end_time": "2021-04-12T16:56:08.729037Z",
     "start_time": "2021-04-12T16:56:08.691246Z"
    }
   },
   "outputs": [
    {
     "name": "stdout",
     "output_type": "stream",
     "text": [
      "Лучший кандидат должен превосходить текущего в 2.842 раза\n",
      "Лучшее значение F_4: 0.8778\n",
      "Соответствующее значение precision: 0.6498\n",
      "Соответствующее значение recall: 0.8975\n"
     ]
    }
   ],
   "source": [
    "best_idx = np.argmax(fbeta_values)\n",
    "margin_border_exp_optimal = margin_borders_exp[best_idx]\n",
    "print(f'Лучший кандидат должен превосходить текущего '\n",
    "      f'в {margin_border_exp_optimal:.3f} раза')\n",
    "print(f'Лучшее значение F_4: {fbeta_values[best_idx]:.4f}')\n",
    "print(f'Соответствующее значение precision: {precision_values[best_idx]:.4f}')\n",
    "print(f'Соответствующее значение recall: {recall_values[best_idx]:.4f}')"
   ]
  },
  {
   "cell_type": "markdown",
   "metadata": {},
   "source": [
    "Как видим, стратегия с игнорированием слов, написанных с большой буквы не очень хороша, но учитывать этот признак все же стоит."
   ]
  },
  {
   "cell_type": "markdown",
   "metadata": {},
   "source": [
    "### Logistic Regression"
   ]
  },
  {
   "cell_type": "markdown",
   "metadata": {},
   "source": [
    "Попробуем решать задачу классификации, для каждой позиции предсказывая требует она исправления или нет. Так как нам в дальнейшем потребуется настройка разделяющей плоскости, воспользуемся механизмом взвешивания классов. Опытным путем было получено, что почти оптимально поиском по сетке выйдет взять `class_weight='balanced'`."
   ]
  },
  {
   "cell_type": "code",
   "execution_count": 24,
   "metadata": {
    "ExecuteTime": {
     "end_time": "2021-04-12T16:56:08.768077Z",
     "start_time": "2021-04-12T16:56:08.731234Z"
    }
   },
   "outputs": [],
   "source": [
    "def f4_score_func(y_true, y_pred):\n",
    "    return fbeta_score(y_true, y_pred, beta=4)\n",
    "\n",
    "f4_scorer = make_scorer(f4_score_func)"
   ]
  },
  {
   "cell_type": "code",
   "execution_count": 25,
   "metadata": {
    "ExecuteTime": {
     "end_time": "2021-04-12T16:56:14.271220Z",
     "start_time": "2021-04-12T16:56:08.769875Z"
    },
    "scrolled": true
   },
   "outputs": [],
   "source": [
    "model = Pipeline(\n",
    "    [('scaler', StandardScaler()), \n",
    "     ('log_reg', LogisticRegression(\n",
    "         random_state=42, class_weight='balanced', solver='liblinear'\n",
    "     ))]\n",
    ")\n",
    "kf = KFold(n_splits=10, shuffle=True, random_state=42)\n",
    "f4 = cross_val_score(model, X, y, scoring=f4_scorer, cv=kf).mean()\n",
    "validation_results = cross_validate(\n",
    "    model, X, y, scoring=['precision', 'recall'], cv=kf\n",
    ")\n",
    "precision = validation_results['test_precision'].mean()\n",
    "recall = validation_results['test_recall'].mean()"
   ]
  },
  {
   "cell_type": "code",
   "execution_count": 26,
   "metadata": {
    "ExecuteTime": {
     "end_time": "2021-04-12T16:56:14.318845Z",
     "start_time": "2021-04-12T16:56:14.273327Z"
    }
   },
   "outputs": [
    {
     "name": "stdout",
     "output_type": "stream",
     "text": [
      "F_4: 0.9397\n",
      "Precision: 0.7373\n",
      "Recall: 0.9562\n"
     ]
    }
   ],
   "source": [
    "print(f'F_4: {f4:.4f}')\n",
    "print(f'Precision: {precision:.4f}')\n",
    "print(f'Recall: {recall:.4f}')"
   ]
  },
  {
   "cell_type": "markdown",
   "metadata": {},
   "source": [
    "Обучим модель на всех данных и сохраним ее."
   ]
  },
  {
   "cell_type": "code",
   "execution_count": 27,
   "metadata": {
    "ExecuteTime": {
     "end_time": "2021-04-12T16:56:14.665915Z",
     "start_time": "2021-04-12T16:56:14.321380Z"
    }
   },
   "outputs": [
    {
     "data": {
      "text/plain": [
       "Pipeline(steps=[('scaler', StandardScaler()),\n",
       "                ('log_reg',\n",
       "                 LogisticRegression(class_weight='balanced', random_state=42,\n",
       "                                    solver='liblinear'))])"
      ]
     },
     "execution_count": 27,
     "metadata": {},
     "output_type": "execute_result"
    }
   ],
   "source": [
    "model = Pipeline(\n",
    "    [('scaler', StandardScaler()), \n",
    "     ('log_reg', LogisticRegression(\n",
    "         random_state=42, class_weight='balanced', solver='liblinear'\n",
    "     ))]\n",
    ")\n",
    "model.fit(X, y)"
   ]
  },
  {
   "cell_type": "code",
   "execution_count": 28,
   "metadata": {
    "ExecuteTime": {
     "end_time": "2021-04-12T16:56:14.888502Z",
     "start_time": "2021-04-12T16:56:14.668468Z"
    }
   },
   "outputs": [],
   "source": [
    "!mkdir -p ../models/position_selector"
   ]
  },
  {
   "cell_type": "code",
   "execution_count": 29,
   "metadata": {
    "ExecuteTime": {
     "end_time": "2021-04-12T16:56:14.948549Z",
     "start_time": "2021-04-12T16:56:14.892778Z"
    }
   },
   "outputs": [],
   "source": [
    "with open(os.path.join(MODEL_PATH, 'position_selector', 'log_reg.bin'), 'wb') as ouf:\n",
    "    pickle.dump(model, ouf)"
   ]
  },
  {
   "cell_type": "markdown",
   "metadata": {},
   "source": [
    "Посмотрим на веса коэффициентов в модели:"
   ]
  },
  {
   "cell_type": "code",
   "execution_count": 30,
   "metadata": {
    "ExecuteTime": {
     "end_time": "2021-04-12T16:56:14.993057Z",
     "start_time": "2021-04-12T16:56:14.951747Z"
    }
   },
   "outputs": [
    {
     "name": "stdout",
     "output_type": "stream",
     "text": [
      "is_title: 0.276\n",
      "is_upper: -0.172\n",
      "is_lower: 0.639\n",
      "is_first: 0.569\n",
      "is_title_not_is_first: -0.333\n",
      "num_candidates: -0.192\n",
      "is_current_contains_hyphen: -0.036\n",
      "current_kenlm_left_right_score: -0.795\n",
      "current_kenlm_right_left_score: -0.817\n",
      "current_kenlm_agg_score: 0.722\n",
      "freq_levenshtein_searcher: -1.091\n",
      "freq_phonetic_searcher: -0.753\n",
      "freq_handcode_searcher: 2.513\n",
      "freq_kenlm_left_right_better_current: 0.052\n",
      "freq_kenlm_right_left_better_current: -0.050\n",
      "freq_kenlm_agg_better_current: 0.110\n",
      "margin_kenlm_left_right_score: 0.931\n",
      "margin_kenlm_right_left_score: 0.990\n",
      "margin_kenlm_agg_score: 0.566\n"
     ]
    }
   ],
   "source": [
    "for coef, feature_name in zip(model['log_reg'].coef_.ravel(), X.columns.tolist()):\n",
    "    print(f'{feature_name}: {coef:.3f}')"
   ]
  },
  {
   "cell_type": "markdown",
   "metadata": {},
   "source": [
    "1. Если в позиции стояло слово, начинающееся с заглавной буквы и не являющееся первым, то мы меньше думаем о том, что в этой позиции стоит делать исправление.\n",
    "2. Коэффициент перед признаком `is_first` указывает на то, что первое слово имеет смысл исправлять чаще.\n",
    "3. Коэффициент перед признаком `num_candidates` указывает на то, что если имеем много кандидатов, то, мы с меньшей вероятностью уверены в том, что в этой позиции ошибка. Наверное, если слово написано с ошибкой, то существует меньше способов его изменить, чем слово, написанное без ошибки.\n",
    "4. Коэффициенты перед скорами kenlm выглядят противоречиво.\n",
    "5. Видим сильное внимание к модели, если в списке кандидатов есть кандидат из `handcode_searcher`.\n",
    "6. Видим слабое влияние признаков, отвечающих за частоту, с которой различные кандидаты лучше текущего согласно kenlm.\n",
    "7. Видим достаточно большую значимость признаков, указывающих на зазор между текущим кандидатом и лучшим согласно kenlm."
   ]
  },
  {
   "cell_type": "markdown",
   "metadata": {},
   "source": [
    "### CatBoost"
   ]
  },
  {
   "cell_type": "markdown",
   "metadata": {},
   "source": [
    "Теперь попробуем обучить модель CatBoost. Для этого сначала придется определить кастомную метрику."
   ]
  },
  {
   "cell_type": "code",
   "execution_count": 31,
   "metadata": {
    "ExecuteTime": {
     "end_time": "2021-04-12T16:56:15.039012Z",
     "start_time": "2021-04-12T16:56:14.996408Z"
    }
   },
   "outputs": [],
   "source": [
    "class FBetaCatBoostMetric(object):\n",
    "    \n",
    "    def __init__(self, beta):\n",
    "        self.beta = beta\n",
    "    \n",
    "    def get_final_error(self, error, weight):\n",
    "        return error / (weight + 1e-38)\n",
    "\n",
    "    def is_max_optimal(self):\n",
    "        return True\n",
    "\n",
    "    def evaluate(self, approxes, target, weight):\n",
    "        pred = approxes[0]\n",
    "        \n",
    "        TP = 0\n",
    "        FP = 0\n",
    "        FN = 0\n",
    "        weight_sum = 0 \n",
    "\n",
    "        for i in range(len(target)):\n",
    "            w = 1.0 if weight is None else weight[i]\n",
    "            weight_sum += w\n",
    "            TP += w * int(pred[i] > 0 and target[i] == 1.0)\n",
    "            FP += w * int(pred[i] > 0 and target[i] == 0.0)\n",
    "            FN += w * int(pred[i] <= 0 and target[i] == 1.0)\n",
    "        \n",
    "        if TP == 0:\n",
    "            fbeta = 0\n",
    "        else:\n",
    "            precision = TP / (TP + FP)\n",
    "            recall = TP / (TP + FN)\n",
    "            fbeta = ((1 + self.beta**2) * precision * recall \n",
    "                     / (self.beta**2 * precision + recall))\n",
    "        \n",
    "        return fbeta, 1.0"
   ]
  },
  {
   "cell_type": "code",
   "execution_count": 32,
   "metadata": {
    "ExecuteTime": {
     "end_time": "2021-04-12T16:56:15.083266Z",
     "start_time": "2021-04-12T16:56:15.042491Z"
    },
    "scrolled": true
   },
   "outputs": [],
   "source": [
    "classes = np.unique(y)\n",
    "weights = compute_class_weight(\n",
    "    class_weight='balanced', classes=classes, y=y\n",
    ")\n",
    "class_weights = dict(zip(classes, weights))\n",
    "params = {\n",
    "    'eval_metric': FBetaCatBoostMetric(4),\n",
    "    'random_seed': 42,\n",
    "    'learning_rate': 0.05,\n",
    "    'class_weights': class_weights,\n",
    "    'verbose': False\n",
    "}"
   ]
  },
  {
   "cell_type": "markdown",
   "metadata": {},
   "source": [
    "Посмотрим, чего удастся добиться на hold-out валидации."
   ]
  },
  {
   "cell_type": "code",
   "execution_count": 33,
   "metadata": {
    "ExecuteTime": {
     "end_time": "2021-04-12T16:56:52.842603Z",
     "start_time": "2021-04-12T16:56:15.086116Z"
    },
    "scrolled": true
   },
   "outputs": [
    {
     "data": {
      "text/plain": [
       "<catboost.core.CatBoostClassifier at 0x7fbb78f273d0>"
      ]
     },
     "execution_count": 33,
     "metadata": {},
     "output_type": "execute_result"
    }
   ],
   "source": [
    "X_train, X_val, y_train, y_val = train_test_split(\n",
    "    X, y, random_state=42, test_size=0.4\n",
    ")\n",
    "pool_train = Pool(X_train, y_train)\n",
    "pool_val = Pool(X_val, y_val)\n",
    "model = CatBoostClassifier(**params)\n",
    "model.fit(pool_train, eval_set=pool_val)"
   ]
  },
  {
   "cell_type": "code",
   "execution_count": 34,
   "metadata": {
    "ExecuteTime": {
     "end_time": "2021-04-12T16:56:52.884935Z",
     "start_time": "2021-04-12T16:56:52.847064Z"
    }
   },
   "outputs": [
    {
     "data": {
      "text/plain": [
       "35"
      ]
     },
     "execution_count": 34,
     "metadata": {},
     "output_type": "execute_result"
    }
   ],
   "source": [
    "model.tree_count_"
   ]
  },
  {
   "cell_type": "code",
   "execution_count": 35,
   "metadata": {
    "ExecuteTime": {
     "end_time": "2021-04-12T16:56:52.928055Z",
     "start_time": "2021-04-12T16:56:52.891312Z"
    }
   },
   "outputs": [],
   "source": [
    "params.update({'iterations': 35})\n",
    "model = CatBoostClassifier(**params)"
   ]
  },
  {
   "cell_type": "markdown",
   "metadata": {},
   "source": [
    "Как видим, модель переобучается достаточно быстро."
   ]
  },
  {
   "cell_type": "markdown",
   "metadata": {},
   "source": [
    "Посмотрим на итоговое качество."
   ]
  },
  {
   "cell_type": "code",
   "execution_count": 36,
   "metadata": {
    "ExecuteTime": {
     "end_time": "2021-04-12T16:57:17.703118Z",
     "start_time": "2021-04-12T16:56:52.934329Z"
    }
   },
   "outputs": [],
   "source": [
    "kf = KFold(n_splits=10, shuffle=True, random_state=42)\n",
    "f4 = cross_val_score(model, X, y, scoring=f4_scorer, cv=kf).mean()\n",
    "validation_results = cross_validate(\n",
    "    model, X, y, scoring=['precision', 'recall'], cv=kf\n",
    ")\n",
    "precision = validation_results['test_precision'].mean()\n",
    "recall = validation_results['test_recall'].mean()"
   ]
  },
  {
   "cell_type": "code",
   "execution_count": 38,
   "metadata": {
    "ExecuteTime": {
     "end_time": "2021-04-12T16:57:17.785541Z",
     "start_time": "2021-04-12T16:57:17.744727Z"
    }
   },
   "outputs": [
    {
     "name": "stdout",
     "output_type": "stream",
     "text": [
      "F_4: 0.9355\n",
      "Precision: 0.6658\n",
      "Recall: 0.9601\n"
     ]
    }
   ],
   "source": [
    "print(f'F_4: {f4:.4f}')\n",
    "print(f'Precision: {precision:.4f}')\n",
    "print(f'Recall: {recall:.4f}')"
   ]
  },
  {
   "cell_type": "markdown",
   "metadata": {},
   "source": [
    "Как видим, качество выглядит лучше, чем дает логистическая регрессия."
   ]
  },
  {
   "cell_type": "code",
   "execution_count": 39,
   "metadata": {
    "ExecuteTime": {
     "end_time": "2021-04-12T16:57:19.294096Z",
     "start_time": "2021-04-12T16:57:17.788101Z"
    }
   },
   "outputs": [
    {
     "data": {
      "text/plain": [
       "<catboost.core.CatBoostClassifier at 0x7fbb78f4fd50>"
      ]
     },
     "execution_count": 39,
     "metadata": {},
     "output_type": "execute_result"
    }
   ],
   "source": [
    "model.fit(X, y)"
   ]
  },
  {
   "cell_type": "code",
   "execution_count": 40,
   "metadata": {
    "ExecuteTime": {
     "end_time": "2021-04-12T16:57:19.347428Z",
     "start_time": "2021-04-12T16:57:19.297024Z"
    }
   },
   "outputs": [],
   "source": [
    "save_path = os.path.join(MODEL_PATH, 'position_selector', 'catboost.cbm')\n",
    "model.save_model(save_path)"
   ]
  },
  {
   "cell_type": "markdown",
   "metadata": {},
   "source": [
    "Посмотрим на значимости различных признаков."
   ]
  },
  {
   "cell_type": "code",
   "execution_count": 41,
   "metadata": {
    "ExecuteTime": {
     "end_time": "2021-04-12T16:57:19.407961Z",
     "start_time": "2021-04-12T16:57:19.350557Z"
    }
   },
   "outputs": [
    {
     "name": "stdout",
     "output_type": "stream",
     "text": [
      "is_title: 147.729\n",
      "is_upper: 0.000\n",
      "is_lower: 80.020\n",
      "is_first: 758.398\n",
      "is_title_not_is_first: 881.791\n",
      "num_candidates: 1656.860\n",
      "is_current_contains_hyphen: 0.000\n",
      "current_kenlm_left_right_score: 9859.969\n",
      "current_kenlm_right_left_score: 4643.230\n",
      "current_kenlm_agg_score: 10717.446\n",
      "freq_levenshtein_searcher: 4542.716\n",
      "freq_phonetic_searcher: 12773.266\n",
      "freq_handcode_searcher: 148.575\n",
      "freq_kenlm_left_right_better_current: 1060.823\n",
      "freq_kenlm_right_left_better_current: 1177.856\n",
      "freq_kenlm_agg_better_current: 2069.680\n",
      "margin_kenlm_left_right_score: 7140.415\n",
      "margin_kenlm_right_left_score: 3640.815\n",
      "margin_kenlm_agg_score: 38700.409\n"
     ]
    }
   ],
   "source": [
    "feature_importances = model.feature_importances_\n",
    "feature_names = model.feature_names_\n",
    "for feature_name, importance in zip(feature_names, feature_importances):\n",
    "    print(f'{feature_name}: {importance*1000:.3f}')"
   ]
  },
  {
   "cell_type": "markdown",
   "metadata": {},
   "source": [
    "Видим, что главным признаком является `margin_kenlm_agg_score`, как и ожидалось."
   ]
  },
  {
   "cell_type": "markdown",
   "metadata": {},
   "source": [
    "## Тестирование модели"
   ]
  },
  {
   "cell_type": "markdown",
   "metadata": {},
   "source": [
    "Приведем результаты тестирования модели в сравнении с аналогичной моделью со старой версией position selector."
   ]
  },
  {
   "cell_type": "markdown",
   "metadata": {},
   "source": [
    "### Обучающая выборка"
   ]
  },
  {
   "cell_type": "markdown",
   "metadata": {},
   "source": [
    "**Ranking SVM (до изменения position selector)**"
   ]
  },
  {
   "cell_type": "markdown",
   "metadata": {},
   "source": [
    "* True Positive: $1319$\n",
    "* Внесенных исправлений: $1452$ \n",
    "* Требуемых исправления: $1727$ \n",
    "* Precision: $90.84$, доверительный интервал: $(89.35, 92.33)$\n",
    "* Recall: $76.38$, доверительный интервал: $(75.12, 77.63)$\n",
    "* FMeasure: $82.98$, доверительный интервал: $(81.62, 84.34)$"
   ]
  },
  {
   "cell_type": "markdown",
   "metadata": {},
   "source": [
    "**Ranking SVM (после изменения position selector)**"
   ]
  },
  {
   "cell_type": "markdown",
   "metadata": {},
   "source": [
    "* True Positive: $1315$\n",
    "* Внесенных исправлений: $1459$ \n",
    "* Требуемых исправления: $1727$ \n",
    "* Precision: $90.13$, доверительный интервал: $(88.60, 91.66)$\n",
    "* Recall: $76.14$, доверительный интервал: $(74.85, 77.44)$\n",
    "* FMeasure: $82.55$, доверительный интервал: $(81.14, 83.95)$"
   ]
  },
  {
   "cell_type": "markdown",
   "metadata": {},
   "source": [
    "### Тестовая выборка"
   ]
  },
  {
   "cell_type": "markdown",
   "metadata": {},
   "source": [
    "**Ranking SVM (до изменения position selector)**"
   ]
  },
  {
   "cell_type": "markdown",
   "metadata": {},
   "source": [
    "* True Positive: $1371$\n",
    "* Внесенных исправлений: $1566$ \n",
    "* Требуемых исправления: $1976$ \n",
    "* Precision: $87.55$, доверительный интервал: $(85.66, 89.18)$\n",
    "* Recall: $69.38$, доверительный интервал: $(68.09, 70.67)$\n",
    "* FMeasure: $77.41$, доверительный интервал: $(75.97, 78.85)$"
   ]
  },
  {
   "cell_type": "markdown",
   "metadata": {},
   "source": [
    "**Ranking SVM (после изменения position selector)**"
   ]
  },
  {
   "cell_type": "markdown",
   "metadata": {},
   "source": [
    "* True Positive: $1349$\n",
    "* Внесенных исправлений: $1542$ \n",
    "* Требуемых исправления: $1976$ \n",
    "* Precision: $87.48$, доверительный интервал: $(85.83, 89.14)$\n",
    "* Recall: $68.27$, доверительный интервал: $(66.98, 69.56)$\n",
    "* FMeasure: $76.69$, доверительный интервал: $(75.24, 78.14)$"
   ]
  },
  {
   "cell_type": "markdown",
   "metadata": {},
   "source": [
    "Как видим, в обоих случаях результаты не улучшились. Попробуем это хоть как-то объяснить. Кажется, дело в том, что хоть новая модель и научилась находить больше ошибок, исправить их candidate scorer не может, так как у него просто нет подходящего кандидата. Старая модель же модель выбирает позицию для исправлния только в том случае, если уверена, что может исправить."
   ]
  },
  {
   "cell_type": "markdown",
   "metadata": {},
   "source": [
    "## Выводы\n",
    "\n",
    "1. В этом ноутбуке была собрана обучающая выборка для position selector, который использует другие признаки помимо скоров от kenlm.\n",
    "2. Было показано, что уже имеющаяся модель, смотрящая только на саггрегированный скор kenlm имеет качество $F_4 \\approx 87.1$\n",
    "3. Была обучена модель логистической регрессии с $F_4 \\approx 94.0\\%$.\n",
    "4. В результате тестирования было показано, что этот подход не дает улучшения результата. Также сделана попытка объяснить это."
   ]
  }
 ],
 "metadata": {
  "kernelspec": {
   "display_name": "Python 3",
   "language": "python",
   "name": "python3"
  },
  "language_info": {
   "codemirror_mode": {
    "name": "ipython",
    "version": 3
   },
   "file_extension": ".py",
   "mimetype": "text/x-python",
   "name": "python",
   "nbconvert_exporter": "python",
   "pygments_lexer": "ipython3",
   "version": "3.7.9"
  }
 },
 "nbformat": 4,
 "nbformat_minor": 4
}
